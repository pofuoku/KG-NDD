{
  "nbformat": 4,
  "nbformat_minor": 0,
  "metadata": {
    "colab": {
      "provenance": []
    },
    "kernelspec": {
      "name": "python3",
      "display_name": "Python 3"
    },
    "language_info": {
      "name": "python"
    }
  },
  "cells": [
    {
      "cell_type": "markdown",
      "source": [
        "# **Drug Similarity**\n",
        "Prince Ofuoku 25/03/2023"
      ],
      "metadata": {
        "id": "6Jsf1SyiAxXU"
      }
    },
    {
      "cell_type": "code",
      "source": [
        "from google.colab import drive\n",
        "drive.mount('/content/drive')"
      ],
      "metadata": {
        "colab": {
          "base_uri": "https://localhost:8080/"
        },
        "id": "CXbLONtzRmfK",
        "outputId": "96d62574-f2f4-46dd-8ffc-d81435decea6"
      },
      "execution_count": null,
      "outputs": [
        {
          "output_type": "stream",
          "name": "stdout",
          "text": [
            "Mounted at /content/drive\n"
          ]
        }
      ]
    },
    {
      "cell_type": "markdown",
      "source": [
        "## **Introduction**\n",
        "In this notebook, I'll collect a list of drugs, their target(gene), chemical structures from the Therapeutic Target Database (TTD) (https://db.idrblab.net/ttd/full-data-download). <br>\n",
        "\n",
        "Following that, chemical strutures will be represented as molecular fingerprints, which allow us to compute the structural similarities between drug pairs. \n",
        "\n",
        "This analysis provides valuable insights into the relationships between drugs, their potential biological activities, and possible shared targets, thereby aiding in various aspects of drug discovery and development."
      ],
      "metadata": {
        "id": "wt-7fL1H3Ifk"
      }
    },
    {
      "cell_type": "code",
      "source": [
        "import pandas as pd\n",
        "import numpy as np\n",
        "import re\n",
        "\n",
        "fp = \"/content/drive/MyDrive/Project/data/\""
      ],
      "metadata": {
        "id": "UuFbJqJe6XKW"
      },
      "execution_count": null,
      "outputs": []
    },
    {
      "cell_type": "markdown",
      "source": [
        "### Drugs data\n",
        "The code below extracts drugs id, chemical structure, drug type, and highest clincal status from the text file. The contents of the file are structured in blocks and seperated by tabs. I opened the file in a text editor before coming up with the code to extract the relevant data."
      ],
      "metadata": {
        "id": "dPxYZUZhUpi7"
      }
    },
    {
      "cell_type": "code",
      "source": [
        "with open(fp + \"P1-02-TTD_drug_download.txt\") as f:\n",
        "  ids = []\n",
        "  id2smiles = {}\n",
        "  id2type = {}\n",
        "  id2status = {}\n",
        "\n",
        "  for line in f:\n",
        "    line = [item.strip() for item in line.split(\"\\t\")]\n",
        "    if len(line) == 3:\n",
        "      id, key, value = line\n",
        "      if key == 'DRUG__ID':\n",
        "        ids.append(id)\n",
        "      elif key == 'DRUGSMIL':\n",
        "        id2smiles[id] = value\n",
        "      elif key == 'DRUGTYPE':\n",
        "        id2type[id] = value\n",
        "      elif key == 'HIGHSTAT':\n",
        "        id2status[id] = value\n",
        "\n",
        "\n",
        "drugs = pd.DataFrame({\"drug_id\":ids})\n",
        "drugs[\"status\"] = drugs[\"drug_id\"].map(id2status)\n",
        "drugs[\"type\"] = drugs[\"drug_id\"].map(id2type)\n",
        "drugs[\"smiles\"] = drugs[\"drug_id\"].map(id2smiles)\n",
        "drugs.head()"
      ],
      "metadata": {
        "colab": {
          "base_uri": "https://localhost:8080/",
          "height": 206
        },
        "id": "qcoAw_qCVWh7",
        "outputId": "e4abfe3b-be87-42d9-952f-c1b60918f8e3"
      },
      "execution_count": null,
      "outputs": [
        {
          "output_type": "execute_result",
          "data": {
            "text/plain": [
              "  drug_id                   status                  type  \\\n",
              "0  D00AAN            Investigative  Small molecular drug   \n",
              "1  D00AAU            Investigative  Small molecular drug   \n",
              "2  D00ABE                  Phase 2                   NaN   \n",
              "3  D00ABO                  Phase 1  Small molecular drug   \n",
              "4  D00ABW  Discontinued in Phase 1                   NaN   \n",
              "\n",
              "                                              smiles  \n",
              "0  C1CCN2CCC3C(=CC(CCC=CC1)(C4C3(C2)CC5N4CCCC(=O)...  \n",
              "1             CCC(C1=CC(=CC=C1)O)C(CC)C2=CC(=CC=C2)O  \n",
              "2                                                NaN  \n",
              "3   C1CN(CCN1)C(=O)C2=CC=C(C=C2)C=CC3=NNC4=CC=CC=C43  \n",
              "4                                                NaN  "
            ],
            "text/html": [
              "\n",
              "  <div id=\"df-4c3a9ced-e1cb-4066-ab53-7f2aebe691ce\">\n",
              "    <div class=\"colab-df-container\">\n",
              "      <div>\n",
              "<style scoped>\n",
              "    .dataframe tbody tr th:only-of-type {\n",
              "        vertical-align: middle;\n",
              "    }\n",
              "\n",
              "    .dataframe tbody tr th {\n",
              "        vertical-align: top;\n",
              "    }\n",
              "\n",
              "    .dataframe thead th {\n",
              "        text-align: right;\n",
              "    }\n",
              "</style>\n",
              "<table border=\"1\" class=\"dataframe\">\n",
              "  <thead>\n",
              "    <tr style=\"text-align: right;\">\n",
              "      <th></th>\n",
              "      <th>drug_id</th>\n",
              "      <th>status</th>\n",
              "      <th>type</th>\n",
              "      <th>smiles</th>\n",
              "    </tr>\n",
              "  </thead>\n",
              "  <tbody>\n",
              "    <tr>\n",
              "      <th>0</th>\n",
              "      <td>D00AAN</td>\n",
              "      <td>Investigative</td>\n",
              "      <td>Small molecular drug</td>\n",
              "      <td>C1CCN2CCC3C(=CC(CCC=CC1)(C4C3(C2)CC5N4CCCC(=O)...</td>\n",
              "    </tr>\n",
              "    <tr>\n",
              "      <th>1</th>\n",
              "      <td>D00AAU</td>\n",
              "      <td>Investigative</td>\n",
              "      <td>Small molecular drug</td>\n",
              "      <td>CCC(C1=CC(=CC=C1)O)C(CC)C2=CC(=CC=C2)O</td>\n",
              "    </tr>\n",
              "    <tr>\n",
              "      <th>2</th>\n",
              "      <td>D00ABE</td>\n",
              "      <td>Phase 2</td>\n",
              "      <td>NaN</td>\n",
              "      <td>NaN</td>\n",
              "    </tr>\n",
              "    <tr>\n",
              "      <th>3</th>\n",
              "      <td>D00ABO</td>\n",
              "      <td>Phase 1</td>\n",
              "      <td>Small molecular drug</td>\n",
              "      <td>C1CN(CCN1)C(=O)C2=CC=C(C=C2)C=CC3=NNC4=CC=CC=C43</td>\n",
              "    </tr>\n",
              "    <tr>\n",
              "      <th>4</th>\n",
              "      <td>D00ABW</td>\n",
              "      <td>Discontinued in Phase 1</td>\n",
              "      <td>NaN</td>\n",
              "      <td>NaN</td>\n",
              "    </tr>\n",
              "  </tbody>\n",
              "</table>\n",
              "</div>\n",
              "      <button class=\"colab-df-convert\" onclick=\"convertToInteractive('df-4c3a9ced-e1cb-4066-ab53-7f2aebe691ce')\"\n",
              "              title=\"Convert this dataframe to an interactive table.\"\n",
              "              style=\"display:none;\">\n",
              "        \n",
              "  <svg xmlns=\"http://www.w3.org/2000/svg\" height=\"24px\"viewBox=\"0 0 24 24\"\n",
              "       width=\"24px\">\n",
              "    <path d=\"M0 0h24v24H0V0z\" fill=\"none\"/>\n",
              "    <path d=\"M18.56 5.44l.94 2.06.94-2.06 2.06-.94-2.06-.94-.94-2.06-.94 2.06-2.06.94zm-11 1L8.5 8.5l.94-2.06 2.06-.94-2.06-.94L8.5 2.5l-.94 2.06-2.06.94zm10 10l.94 2.06.94-2.06 2.06-.94-2.06-.94-.94-2.06-.94 2.06-2.06.94z\"/><path d=\"M17.41 7.96l-1.37-1.37c-.4-.4-.92-.59-1.43-.59-.52 0-1.04.2-1.43.59L10.3 9.45l-7.72 7.72c-.78.78-.78 2.05 0 2.83L4 21.41c.39.39.9.59 1.41.59.51 0 1.02-.2 1.41-.59l7.78-7.78 2.81-2.81c.8-.78.8-2.07 0-2.86zM5.41 20L4 18.59l7.72-7.72 1.47 1.35L5.41 20z\"/>\n",
              "  </svg>\n",
              "      </button>\n",
              "      \n",
              "  <style>\n",
              "    .colab-df-container {\n",
              "      display:flex;\n",
              "      flex-wrap:wrap;\n",
              "      gap: 12px;\n",
              "    }\n",
              "\n",
              "    .colab-df-convert {\n",
              "      background-color: #E8F0FE;\n",
              "      border: none;\n",
              "      border-radius: 50%;\n",
              "      cursor: pointer;\n",
              "      display: none;\n",
              "      fill: #1967D2;\n",
              "      height: 32px;\n",
              "      padding: 0 0 0 0;\n",
              "      width: 32px;\n",
              "    }\n",
              "\n",
              "    .colab-df-convert:hover {\n",
              "      background-color: #E2EBFA;\n",
              "      box-shadow: 0px 1px 2px rgba(60, 64, 67, 0.3), 0px 1px 3px 1px rgba(60, 64, 67, 0.15);\n",
              "      fill: #174EA6;\n",
              "    }\n",
              "\n",
              "    [theme=dark] .colab-df-convert {\n",
              "      background-color: #3B4455;\n",
              "      fill: #D2E3FC;\n",
              "    }\n",
              "\n",
              "    [theme=dark] .colab-df-convert:hover {\n",
              "      background-color: #434B5C;\n",
              "      box-shadow: 0px 1px 3px 1px rgba(0, 0, 0, 0.15);\n",
              "      filter: drop-shadow(0px 1px 2px rgba(0, 0, 0, 0.3));\n",
              "      fill: #FFFFFF;\n",
              "    }\n",
              "  </style>\n",
              "\n",
              "      <script>\n",
              "        const buttonEl =\n",
              "          document.querySelector('#df-4c3a9ced-e1cb-4066-ab53-7f2aebe691ce button.colab-df-convert');\n",
              "        buttonEl.style.display =\n",
              "          google.colab.kernel.accessAllowed ? 'block' : 'none';\n",
              "\n",
              "        async function convertToInteractive(key) {\n",
              "          const element = document.querySelector('#df-4c3a9ced-e1cb-4066-ab53-7f2aebe691ce');\n",
              "          const dataTable =\n",
              "            await google.colab.kernel.invokeFunction('convertToInteractive',\n",
              "                                                     [key], {});\n",
              "          if (!dataTable) return;\n",
              "\n",
              "          const docLinkHtml = 'Like what you see? Visit the ' +\n",
              "            '<a target=\"_blank\" href=https://colab.research.google.com/notebooks/data_table.ipynb>data table notebook</a>'\n",
              "            + ' to learn more about interactive tables.';\n",
              "          element.innerHTML = '';\n",
              "          dataTable['output_type'] = 'display_data';\n",
              "          await google.colab.output.renderOutput(dataTable, element);\n",
              "          const docLink = document.createElement('div');\n",
              "          docLink.innerHTML = docLinkHtml;\n",
              "          element.appendChild(docLink);\n",
              "        }\n",
              "      </script>\n",
              "    </div>\n",
              "  </div>\n",
              "  "
            ]
          },
          "metadata": {},
          "execution_count": 4
        }
      ]
    },
    {
      "cell_type": "markdown",
      "source": [
        "**SMILES** (Simplified Molecular Input Line Entry System) is a widely used chemical notation system that represents chemical structures using ASCII strings. The SMILES notation provides a simple and human-readable way to describe the structure of a chemical compound, including atoms, bonds, and stereochemistry.<br>\n",
        "\n",
        "For example, the SMILES notation for ethanol is CCO, where the two carbon atoms (C) are connected by a single bond (implicitly represented), and the second carbon atom is connected to an oxygen atom (O) by a single bond.<br>\n"
      ],
      "metadata": {
        "id": "1Wt4zoqhCEUH"
      }
    },
    {
      "cell_type": "code",
      "source": [
        "drugs.type.value_counts()"
      ],
      "metadata": {
        "id": "sMGwQyzOs-jt"
      },
      "execution_count": null,
      "outputs": []
    },
    {
      "cell_type": "markdown",
      "source": [
        "**A small molecular drug** is characterized by its relatively low molecular weight, typically under 900 daltons. These drugs are usually composed of organic compounds with a well-defined chemical structure. Due to their small size, they can easily penetrate cell membranes, which allows them to interact with a variety of intracellular and extracellular targets, such as enzymes, receptors, or signaling pathways.\n",
        "<br><br>\n",
        "For the drug repurposing tasks, I'll choose only the small molecular drugs."
      ],
      "metadata": {
        "id": "aqiTOxAVtrtK"
      }
    },
    {
      "cell_type": "code",
      "source": [
        "drugs = drugs[drugs.type == \"Small molecular drug\"]"
      ],
      "metadata": {
        "id": "wK4QGvx-Zanr"
      },
      "execution_count": null,
      "outputs": []
    },
    {
      "cell_type": "code",
      "source": [
        "drugs.status.value_counts()"
      ],
      "metadata": {
        "id": "RwoCb-ghuwdK"
      },
      "execution_count": null,
      "outputs": []
    },
    {
      "cell_type": "markdown",
      "source": [
        "### Clinical Status\n",
        "- Investigative: This category represents drugs that are still under investigation and have not yet advanced to the clinical trial stage. These drugs may still be in preclinical development or early research stages.\n",
        "- Phase 1: Tests the safety of the drug in a small group of people (usually healthy volunteers) to determine safe dosage ranges and identify potential side effects.\n",
        "- Phase 2: Evaluates the drug's effectiveness and further assesses its safety in a larger group of patients with the targeted condition.\n",
        "- Phase 3: Confirms the drug's effectiveness, monitors side effects, and compares it to commonly used treatments in an even larger group of patients.\n",
        "- Phase 4: Occurs after the drug has been approved, focusing on post-marketing surveillance to gather more information about the drug's long-term safety, effectiveness, and optimal use.\n",
        "- Approved: Drugs in this category have successfully completed the clinical trial process and have been granted regulatory approval for marketing and use by the general public.\n",
        "- Patented: This category refers to drugs that have been granted patent protection. These drugs may be at any stage of development, from preclinical research to approved drugs."
      ],
      "metadata": {
        "id": "z1qELd4fen7G"
      }
    },
    {
      "cell_type": "code",
      "source": [
        "selected_status = [\"Approved\",\"Phase 3\",\"Phase 4\"]\n",
        "\n",
        "drugs = drugs[drugs.status.isin(selected_status)]\n",
        "drugs.reset_index(drop=True, inplace=True)"
      ],
      "metadata": {
        "id": "fpMn-ik8ah9U"
      },
      "execution_count": null,
      "outputs": []
    },
    {
      "cell_type": "markdown",
      "source": [
        "### Drug names and IDs for crossreferencing\n",
        "A **CAS RN** (Chemical Abstracts Service registry number) is a unique identifier assigned to a specific chemical substance by the Chemical Abstracts Service, a division of the American Chemical Society. CAS numbers are used to provide a standardized and internationally recognized system for identifying and referring to chemical substances in scientific literature, databases, and regulatory documents.\n",
        "\n",
        "\n",
        "\"P1-03-TTD_crossmatching.txt\" was downloaded from TTD \n",
        "\n",
        "I create utility dictionaries to mapped TTD drugs IDs to generic name, cas ids and pubchem ids for easy crossref with other databases"
      ],
      "metadata": {
        "id": "AnWNacTdh1S8"
      }
    },
    {
      "cell_type": "code",
      "source": [
        "with open(fp + \"P1-03-TTD_crossmatching.txt\") as f:\n",
        "  id2drug = {}\n",
        "  id2cas = {}\n",
        "  id2pubchem = {}\n",
        "\n",
        "  for line in f:\n",
        "    line = [item.strip() for item in line.split(\"\\t\")]\n",
        "    if len(line) == 3:\n",
        "      id, key, value = line\n",
        "      if key == 'DRUGNAME':\n",
        "          id2drug[id] = value\n",
        "      elif key == 'CASNUMBE':\n",
        "          id2cas[id] = value\n",
        "      elif key == 'PUBCHCID':\n",
        "          id2pubchem[id] = value"
      ],
      "metadata": {
        "id": "V98LmAI-cHEM"
      },
      "execution_count": null,
      "outputs": []
    },
    {
      "cell_type": "code",
      "source": [
        "drugs[\"drug_name\"] = drugs[\"drug_id\"].map(id2drug)\n",
        "drugs[\"cas_rn\"] = drugs[\"drug_id\"].map(id2cas)\n",
        "drugs[\"pubchem\"] = drugs[\"drug_id\"].map(id2pubchem)"
      ],
      "metadata": {
        "id": "OhkIhnSMiRn4"
      },
      "execution_count": null,
      "outputs": []
    },
    {
      "cell_type": "markdown",
      "source": [
        "Arrange columns"
      ],
      "metadata": {
        "id": "WxDnC5ZTyBTq"
      }
    },
    {
      "cell_type": "code",
      "source": [
        "drugs = drugs[[\"drug_id\",\"drug_name\",\"status\",\"cas_rn\",\"pubchem\",\"smiles\"]]"
      ],
      "metadata": {
        "id": "_IOAdQTaxEfE"
      },
      "execution_count": null,
      "outputs": []
    },
    {
      "cell_type": "code",
      "source": [
        "drugs.isna().sum()"
      ],
      "metadata": {
        "colab": {
          "base_uri": "https://localhost:8080/"
        },
        "id": "-0YJlhp3lxCb",
        "outputId": "3af0955a-56da-4d0a-b591-c73f28757bf9"
      },
      "execution_count": null,
      "outputs": [
        {
          "output_type": "execute_result",
          "data": {
            "text/plain": [
              "drug_id        0\n",
              "drug_name     60\n",
              "status         0\n",
              "cas_rn       273\n",
              "pubchem       62\n",
              "smiles        62\n",
              "dtype: int64"
            ]
          },
          "metadata": {},
          "execution_count": 12
        }
      ]
    },
    {
      "cell_type": "markdown",
      "source": [
        "Drop missing values, duplicates. No point keeping drugs without the three key infos needed for downstream tasks."
      ],
      "metadata": {
        "id": "ebgSpjrxyNK2"
      }
    },
    {
      "cell_type": "code",
      "source": [
        "drugs = drugs.dropna(subset=[\"smiles\",\"cas_rn\",\"pubchem\"]).drop_duplicates().reset_index(drop=True)"
      ],
      "metadata": {
        "id": "J3x9nm69my_D"
      },
      "execution_count": null,
      "outputs": []
    },
    {
      "cell_type": "code",
      "source": [
        "drugs.isna().sum()"
      ],
      "metadata": {
        "colab": {
          "base_uri": "https://localhost:8080/"
        },
        "id": "kVFLH3Z-oM0z",
        "outputId": "3f02c9ee-c4f1-4f5d-cc0b-f098c635c665"
      },
      "execution_count": null,
      "outputs": [
        {
          "output_type": "execute_result",
          "data": {
            "text/plain": [
              "drug_id      0\n",
              "drug_name    0\n",
              "status       0\n",
              "cas_rn       0\n",
              "pubchem      0\n",
              "smiles       0\n",
              "dtype: int64"
            ]
          },
          "metadata": {},
          "execution_count": 14
        }
      ]
    },
    {
      "cell_type": "code",
      "source": [
        "drugs.head()"
      ],
      "metadata": {
        "colab": {
          "base_uri": "https://localhost:8080/",
          "height": 250
        },
        "id": "NfMO06EGzKwx",
        "outputId": "f0df52fb-8915-47e9-d02b-c97c401e2bfe"
      },
      "execution_count": null,
      "outputs": [
        {
          "output_type": "execute_result",
          "data": {
            "text/plain": [
              "  drug_id            drug_name    status          cas_rn pubchem  \\\n",
              "0  D00AEQ  Hydroxyprogesterone  Approved     CAS 68-96-2    6238   \n",
              "1  D00AMQ              Ethanol  Approved     CAS 64-17-5     702   \n",
              "2  D00AOJ            Docosanol  Approved    CAS 661-19-8   12620   \n",
              "3  D00AWT       Propericiazine  Approved   CAS 2622-26-6    4747   \n",
              "4  D00AXJ           Miconazole  Approved  CAS 22916-47-8    4189   \n",
              "\n",
              "                                              smiles  \n",
              "0        CC(=O)C1(CCC2C1(CCC3C2CCC4=CC(=O)CCC34C)C)O  \n",
              "1                                                CCO  \n",
              "2                            CCCCCCCCCCCCCCCCCCCCCCO  \n",
              "3      C1CN(CCC1O)CCCN2C3=CC=CC=C3SC4=C2C=C(C=C4)C#N  \n",
              "4  C1=CC(=C(C=C1Cl)Cl)COC(CN2C=CN=C2)C3=C(C=C(C=C...  "
            ],
            "text/html": [
              "\n",
              "  <div id=\"df-e1f46b32-4c44-41e5-8165-a4ccc002b487\">\n",
              "    <div class=\"colab-df-container\">\n",
              "      <div>\n",
              "<style scoped>\n",
              "    .dataframe tbody tr th:only-of-type {\n",
              "        vertical-align: middle;\n",
              "    }\n",
              "\n",
              "    .dataframe tbody tr th {\n",
              "        vertical-align: top;\n",
              "    }\n",
              "\n",
              "    .dataframe thead th {\n",
              "        text-align: right;\n",
              "    }\n",
              "</style>\n",
              "<table border=\"1\" class=\"dataframe\">\n",
              "  <thead>\n",
              "    <tr style=\"text-align: right;\">\n",
              "      <th></th>\n",
              "      <th>drug_id</th>\n",
              "      <th>drug_name</th>\n",
              "      <th>status</th>\n",
              "      <th>cas_rn</th>\n",
              "      <th>pubchem</th>\n",
              "      <th>smiles</th>\n",
              "    </tr>\n",
              "  </thead>\n",
              "  <tbody>\n",
              "    <tr>\n",
              "      <th>0</th>\n",
              "      <td>D00AEQ</td>\n",
              "      <td>Hydroxyprogesterone</td>\n",
              "      <td>Approved</td>\n",
              "      <td>CAS 68-96-2</td>\n",
              "      <td>6238</td>\n",
              "      <td>CC(=O)C1(CCC2C1(CCC3C2CCC4=CC(=O)CCC34C)C)O</td>\n",
              "    </tr>\n",
              "    <tr>\n",
              "      <th>1</th>\n",
              "      <td>D00AMQ</td>\n",
              "      <td>Ethanol</td>\n",
              "      <td>Approved</td>\n",
              "      <td>CAS 64-17-5</td>\n",
              "      <td>702</td>\n",
              "      <td>CCO</td>\n",
              "    </tr>\n",
              "    <tr>\n",
              "      <th>2</th>\n",
              "      <td>D00AOJ</td>\n",
              "      <td>Docosanol</td>\n",
              "      <td>Approved</td>\n",
              "      <td>CAS 661-19-8</td>\n",
              "      <td>12620</td>\n",
              "      <td>CCCCCCCCCCCCCCCCCCCCCCO</td>\n",
              "    </tr>\n",
              "    <tr>\n",
              "      <th>3</th>\n",
              "      <td>D00AWT</td>\n",
              "      <td>Propericiazine</td>\n",
              "      <td>Approved</td>\n",
              "      <td>CAS 2622-26-6</td>\n",
              "      <td>4747</td>\n",
              "      <td>C1CN(CCC1O)CCCN2C3=CC=CC=C3SC4=C2C=C(C=C4)C#N</td>\n",
              "    </tr>\n",
              "    <tr>\n",
              "      <th>4</th>\n",
              "      <td>D00AXJ</td>\n",
              "      <td>Miconazole</td>\n",
              "      <td>Approved</td>\n",
              "      <td>CAS 22916-47-8</td>\n",
              "      <td>4189</td>\n",
              "      <td>C1=CC(=C(C=C1Cl)Cl)COC(CN2C=CN=C2)C3=C(C=C(C=C...</td>\n",
              "    </tr>\n",
              "  </tbody>\n",
              "</table>\n",
              "</div>\n",
              "      <button class=\"colab-df-convert\" onclick=\"convertToInteractive('df-e1f46b32-4c44-41e5-8165-a4ccc002b487')\"\n",
              "              title=\"Convert this dataframe to an interactive table.\"\n",
              "              style=\"display:none;\">\n",
              "        \n",
              "  <svg xmlns=\"http://www.w3.org/2000/svg\" height=\"24px\"viewBox=\"0 0 24 24\"\n",
              "       width=\"24px\">\n",
              "    <path d=\"M0 0h24v24H0V0z\" fill=\"none\"/>\n",
              "    <path d=\"M18.56 5.44l.94 2.06.94-2.06 2.06-.94-2.06-.94-.94-2.06-.94 2.06-2.06.94zm-11 1L8.5 8.5l.94-2.06 2.06-.94-2.06-.94L8.5 2.5l-.94 2.06-2.06.94zm10 10l.94 2.06.94-2.06 2.06-.94-2.06-.94-.94-2.06-.94 2.06-2.06.94z\"/><path d=\"M17.41 7.96l-1.37-1.37c-.4-.4-.92-.59-1.43-.59-.52 0-1.04.2-1.43.59L10.3 9.45l-7.72 7.72c-.78.78-.78 2.05 0 2.83L4 21.41c.39.39.9.59 1.41.59.51 0 1.02-.2 1.41-.59l7.78-7.78 2.81-2.81c.8-.78.8-2.07 0-2.86zM5.41 20L4 18.59l7.72-7.72 1.47 1.35L5.41 20z\"/>\n",
              "  </svg>\n",
              "      </button>\n",
              "      \n",
              "  <style>\n",
              "    .colab-df-container {\n",
              "      display:flex;\n",
              "      flex-wrap:wrap;\n",
              "      gap: 12px;\n",
              "    }\n",
              "\n",
              "    .colab-df-convert {\n",
              "      background-color: #E8F0FE;\n",
              "      border: none;\n",
              "      border-radius: 50%;\n",
              "      cursor: pointer;\n",
              "      display: none;\n",
              "      fill: #1967D2;\n",
              "      height: 32px;\n",
              "      padding: 0 0 0 0;\n",
              "      width: 32px;\n",
              "    }\n",
              "\n",
              "    .colab-df-convert:hover {\n",
              "      background-color: #E2EBFA;\n",
              "      box-shadow: 0px 1px 2px rgba(60, 64, 67, 0.3), 0px 1px 3px 1px rgba(60, 64, 67, 0.15);\n",
              "      fill: #174EA6;\n",
              "    }\n",
              "\n",
              "    [theme=dark] .colab-df-convert {\n",
              "      background-color: #3B4455;\n",
              "      fill: #D2E3FC;\n",
              "    }\n",
              "\n",
              "    [theme=dark] .colab-df-convert:hover {\n",
              "      background-color: #434B5C;\n",
              "      box-shadow: 0px 1px 3px 1px rgba(0, 0, 0, 0.15);\n",
              "      filter: drop-shadow(0px 1px 2px rgba(0, 0, 0, 0.3));\n",
              "      fill: #FFFFFF;\n",
              "    }\n",
              "  </style>\n",
              "\n",
              "      <script>\n",
              "        const buttonEl =\n",
              "          document.querySelector('#df-e1f46b32-4c44-41e5-8165-a4ccc002b487 button.colab-df-convert');\n",
              "        buttonEl.style.display =\n",
              "          google.colab.kernel.accessAllowed ? 'block' : 'none';\n",
              "\n",
              "        async function convertToInteractive(key) {\n",
              "          const element = document.querySelector('#df-e1f46b32-4c44-41e5-8165-a4ccc002b487');\n",
              "          const dataTable =\n",
              "            await google.colab.kernel.invokeFunction('convertToInteractive',\n",
              "                                                     [key], {});\n",
              "          if (!dataTable) return;\n",
              "\n",
              "          const docLinkHtml = 'Like what you see? Visit the ' +\n",
              "            '<a target=\"_blank\" href=https://colab.research.google.com/notebooks/data_table.ipynb>data table notebook</a>'\n",
              "            + ' to learn more about interactive tables.';\n",
              "          element.innerHTML = '';\n",
              "          dataTable['output_type'] = 'display_data';\n",
              "          await google.colab.output.renderOutput(dataTable, element);\n",
              "          const docLink = document.createElement('div');\n",
              "          docLink.innerHTML = docLinkHtml;\n",
              "          element.appendChild(docLink);\n",
              "        }\n",
              "      </script>\n",
              "    </div>\n",
              "  </div>\n",
              "  "
            ]
          },
          "metadata": {},
          "execution_count": 15
        }
      ]
    },
    {
      "cell_type": "markdown",
      "source": [
        "Clean cas_rn\n",
        "- I inspected the cas_rn column and the namings are not consistent.\n",
        "- The lambda function below strips away the \"CAS\" if present"
      ],
      "metadata": {
        "id": "-pxJ4Xi40Jp_"
      }
    },
    {
      "cell_type": "code",
      "source": [
        "clean_cas = lambda x: x.split()[1] if x.startswith(\"CAS\") else x\n",
        "\n",
        "drugs[\"cas_rn\"] = drugs[\"cas_rn\"].apply(clean_cas)\n",
        "drugs.head()"
      ],
      "metadata": {
        "colab": {
          "base_uri": "https://localhost:8080/",
          "height": 206
        },
        "id": "MgyPuskN0Rjy",
        "outputId": "f1ae4efd-3df6-482b-b483-9b1172aebefa"
      },
      "execution_count": null,
      "outputs": [
        {
          "output_type": "execute_result",
          "data": {
            "text/plain": [
              "  drug_id            drug_name    status      cas_rn pubchem  \\\n",
              "0  D00AEQ  Hydroxyprogesterone  Approved     68-96-2    6238   \n",
              "1  D00AMQ              Ethanol  Approved     64-17-5     702   \n",
              "2  D00AOJ            Docosanol  Approved    661-19-8   12620   \n",
              "3  D00AWT       Propericiazine  Approved   2622-26-6    4747   \n",
              "4  D00AXJ           Miconazole  Approved  22916-47-8    4189   \n",
              "\n",
              "                                              smiles  \n",
              "0        CC(=O)C1(CCC2C1(CCC3C2CCC4=CC(=O)CCC34C)C)O  \n",
              "1                                                CCO  \n",
              "2                            CCCCCCCCCCCCCCCCCCCCCCO  \n",
              "3      C1CN(CCC1O)CCCN2C3=CC=CC=C3SC4=C2C=C(C=C4)C#N  \n",
              "4  C1=CC(=C(C=C1Cl)Cl)COC(CN2C=CN=C2)C3=C(C=C(C=C...  "
            ],
            "text/html": [
              "\n",
              "  <div id=\"df-2160b4e9-a39e-4f9c-a5a8-e447a31268b8\">\n",
              "    <div class=\"colab-df-container\">\n",
              "      <div>\n",
              "<style scoped>\n",
              "    .dataframe tbody tr th:only-of-type {\n",
              "        vertical-align: middle;\n",
              "    }\n",
              "\n",
              "    .dataframe tbody tr th {\n",
              "        vertical-align: top;\n",
              "    }\n",
              "\n",
              "    .dataframe thead th {\n",
              "        text-align: right;\n",
              "    }\n",
              "</style>\n",
              "<table border=\"1\" class=\"dataframe\">\n",
              "  <thead>\n",
              "    <tr style=\"text-align: right;\">\n",
              "      <th></th>\n",
              "      <th>drug_id</th>\n",
              "      <th>drug_name</th>\n",
              "      <th>status</th>\n",
              "      <th>cas_rn</th>\n",
              "      <th>pubchem</th>\n",
              "      <th>smiles</th>\n",
              "    </tr>\n",
              "  </thead>\n",
              "  <tbody>\n",
              "    <tr>\n",
              "      <th>0</th>\n",
              "      <td>D00AEQ</td>\n",
              "      <td>Hydroxyprogesterone</td>\n",
              "      <td>Approved</td>\n",
              "      <td>68-96-2</td>\n",
              "      <td>6238</td>\n",
              "      <td>CC(=O)C1(CCC2C1(CCC3C2CCC4=CC(=O)CCC34C)C)O</td>\n",
              "    </tr>\n",
              "    <tr>\n",
              "      <th>1</th>\n",
              "      <td>D00AMQ</td>\n",
              "      <td>Ethanol</td>\n",
              "      <td>Approved</td>\n",
              "      <td>64-17-5</td>\n",
              "      <td>702</td>\n",
              "      <td>CCO</td>\n",
              "    </tr>\n",
              "    <tr>\n",
              "      <th>2</th>\n",
              "      <td>D00AOJ</td>\n",
              "      <td>Docosanol</td>\n",
              "      <td>Approved</td>\n",
              "      <td>661-19-8</td>\n",
              "      <td>12620</td>\n",
              "      <td>CCCCCCCCCCCCCCCCCCCCCCO</td>\n",
              "    </tr>\n",
              "    <tr>\n",
              "      <th>3</th>\n",
              "      <td>D00AWT</td>\n",
              "      <td>Propericiazine</td>\n",
              "      <td>Approved</td>\n",
              "      <td>2622-26-6</td>\n",
              "      <td>4747</td>\n",
              "      <td>C1CN(CCC1O)CCCN2C3=CC=CC=C3SC4=C2C=C(C=C4)C#N</td>\n",
              "    </tr>\n",
              "    <tr>\n",
              "      <th>4</th>\n",
              "      <td>D00AXJ</td>\n",
              "      <td>Miconazole</td>\n",
              "      <td>Approved</td>\n",
              "      <td>22916-47-8</td>\n",
              "      <td>4189</td>\n",
              "      <td>C1=CC(=C(C=C1Cl)Cl)COC(CN2C=CN=C2)C3=C(C=C(C=C...</td>\n",
              "    </tr>\n",
              "  </tbody>\n",
              "</table>\n",
              "</div>\n",
              "      <button class=\"colab-df-convert\" onclick=\"convertToInteractive('df-2160b4e9-a39e-4f9c-a5a8-e447a31268b8')\"\n",
              "              title=\"Convert this dataframe to an interactive table.\"\n",
              "              style=\"display:none;\">\n",
              "        \n",
              "  <svg xmlns=\"http://www.w3.org/2000/svg\" height=\"24px\"viewBox=\"0 0 24 24\"\n",
              "       width=\"24px\">\n",
              "    <path d=\"M0 0h24v24H0V0z\" fill=\"none\"/>\n",
              "    <path d=\"M18.56 5.44l.94 2.06.94-2.06 2.06-.94-2.06-.94-.94-2.06-.94 2.06-2.06.94zm-11 1L8.5 8.5l.94-2.06 2.06-.94-2.06-.94L8.5 2.5l-.94 2.06-2.06.94zm10 10l.94 2.06.94-2.06 2.06-.94-2.06-.94-.94-2.06-.94 2.06-2.06.94z\"/><path d=\"M17.41 7.96l-1.37-1.37c-.4-.4-.92-.59-1.43-.59-.52 0-1.04.2-1.43.59L10.3 9.45l-7.72 7.72c-.78.78-.78 2.05 0 2.83L4 21.41c.39.39.9.59 1.41.59.51 0 1.02-.2 1.41-.59l7.78-7.78 2.81-2.81c.8-.78.8-2.07 0-2.86zM5.41 20L4 18.59l7.72-7.72 1.47 1.35L5.41 20z\"/>\n",
              "  </svg>\n",
              "      </button>\n",
              "      \n",
              "  <style>\n",
              "    .colab-df-container {\n",
              "      display:flex;\n",
              "      flex-wrap:wrap;\n",
              "      gap: 12px;\n",
              "    }\n",
              "\n",
              "    .colab-df-convert {\n",
              "      background-color: #E8F0FE;\n",
              "      border: none;\n",
              "      border-radius: 50%;\n",
              "      cursor: pointer;\n",
              "      display: none;\n",
              "      fill: #1967D2;\n",
              "      height: 32px;\n",
              "      padding: 0 0 0 0;\n",
              "      width: 32px;\n",
              "    }\n",
              "\n",
              "    .colab-df-convert:hover {\n",
              "      background-color: #E2EBFA;\n",
              "      box-shadow: 0px 1px 2px rgba(60, 64, 67, 0.3), 0px 1px 3px 1px rgba(60, 64, 67, 0.15);\n",
              "      fill: #174EA6;\n",
              "    }\n",
              "\n",
              "    [theme=dark] .colab-df-convert {\n",
              "      background-color: #3B4455;\n",
              "      fill: #D2E3FC;\n",
              "    }\n",
              "\n",
              "    [theme=dark] .colab-df-convert:hover {\n",
              "      background-color: #434B5C;\n",
              "      box-shadow: 0px 1px 3px 1px rgba(0, 0, 0, 0.15);\n",
              "      filter: drop-shadow(0px 1px 2px rgba(0, 0, 0, 0.3));\n",
              "      fill: #FFFFFF;\n",
              "    }\n",
              "  </style>\n",
              "\n",
              "      <script>\n",
              "        const buttonEl =\n",
              "          document.querySelector('#df-2160b4e9-a39e-4f9c-a5a8-e447a31268b8 button.colab-df-convert');\n",
              "        buttonEl.style.display =\n",
              "          google.colab.kernel.accessAllowed ? 'block' : 'none';\n",
              "\n",
              "        async function convertToInteractive(key) {\n",
              "          const element = document.querySelector('#df-2160b4e9-a39e-4f9c-a5a8-e447a31268b8');\n",
              "          const dataTable =\n",
              "            await google.colab.kernel.invokeFunction('convertToInteractive',\n",
              "                                                     [key], {});\n",
              "          if (!dataTable) return;\n",
              "\n",
              "          const docLinkHtml = 'Like what you see? Visit the ' +\n",
              "            '<a target=\"_blank\" href=https://colab.research.google.com/notebooks/data_table.ipynb>data table notebook</a>'\n",
              "            + ' to learn more about interactive tables.';\n",
              "          element.innerHTML = '';\n",
              "          dataTable['output_type'] = 'display_data';\n",
              "          await google.colab.output.renderOutput(dataTable, element);\n",
              "          const docLink = document.createElement('div');\n",
              "          docLink.innerHTML = docLinkHtml;\n",
              "          element.appendChild(docLink);\n",
              "        }\n",
              "      </script>\n",
              "    </div>\n",
              "  </div>\n",
              "  "
            ]
          },
          "metadata": {},
          "execution_count": 16
        }
      ]
    },
    {
      "cell_type": "code",
      "source": [
        "drugs.status.value_counts()"
      ],
      "metadata": {
        "colab": {
          "base_uri": "https://localhost:8080/"
        },
        "id": "KqmuKMGJ9vKM",
        "outputId": "22b6b427-181b-4c10-a980-7c5ed6c56299"
      },
      "execution_count": null,
      "outputs": [
        {
          "output_type": "execute_result",
          "data": {
            "text/plain": [
              "Approved    2337\n",
              "Phase 3      425\n",
              "Phase 4       38\n",
              "Name: status, dtype: int64"
            ]
          },
          "metadata": {},
          "execution_count": 17
        }
      ]
    },
    {
      "cell_type": "code",
      "source": [
        "drugs.shape"
      ],
      "metadata": {
        "colab": {
          "base_uri": "https://localhost:8080/"
        },
        "id": "1LAf9OLx95ds",
        "outputId": "d70b2902-b8a1-42c6-beba-4ca1cb30e693"
      },
      "execution_count": null,
      "outputs": [
        {
          "output_type": "execute_result",
          "data": {
            "text/plain": [
              "(2800, 6)"
            ]
          },
          "metadata": {},
          "execution_count": 18
        }
      ]
    },
    {
      "cell_type": "markdown",
      "source": [
        "Write df to a file"
      ],
      "metadata": {
        "id": "Kp2GuxyQxY8Y"
      }
    },
    {
      "cell_type": "code",
      "source": [
        "drugs.to_csv(fp+\"drugs_TTD.csv\", index=False)"
      ],
      "metadata": {
        "id": "E-ew7xjZ1KxF"
      },
      "execution_count": null,
      "outputs": []
    },
    {
      "cell_type": "markdown",
      "source": [
        "### Drugs and their targets (gene/protein)\n",
        "The file below contain all drugs with a protein target available in TTD"
      ],
      "metadata": {
        "id": "eVdiLIXMgORX"
      }
    },
    {
      "cell_type": "code",
      "source": [
        "drug_target = pd.read_excel(fp+\"P1-07-Drug-TargetMapping.xlsx\")\n",
        "drug_target.head()"
      ],
      "metadata": {
        "id": "xDTc9eOIVbPm",
        "colab": {
          "base_uri": "https://localhost:8080/",
          "height": 206
        },
        "outputId": "fa08627a-bbd4-43d5-a403-91949796ba26"
      },
      "execution_count": null,
      "outputs": [
        {
          "output_type": "execute_result",
          "data": {
            "text/plain": [
              "  TargetID  DrugID Highest_status        MOA\n",
              "0   T71390  D07OAC  Investigative  Inhibitor\n",
              "1   T70309  D07OAC  Investigative  Inhibitor\n",
              "2   T97071  D0Y6UB  Investigative  Inhibitor\n",
              "3   T86679  D0J2UW  Investigative    Agonist\n",
              "4   T19229  D0UZ9U  Investigative  Modulator"
            ],
            "text/html": [
              "\n",
              "  <div id=\"df-80940eb6-f902-4b3b-8c80-f053ce46f2bf\">\n",
              "    <div class=\"colab-df-container\">\n",
              "      <div>\n",
              "<style scoped>\n",
              "    .dataframe tbody tr th:only-of-type {\n",
              "        vertical-align: middle;\n",
              "    }\n",
              "\n",
              "    .dataframe tbody tr th {\n",
              "        vertical-align: top;\n",
              "    }\n",
              "\n",
              "    .dataframe thead th {\n",
              "        text-align: right;\n",
              "    }\n",
              "</style>\n",
              "<table border=\"1\" class=\"dataframe\">\n",
              "  <thead>\n",
              "    <tr style=\"text-align: right;\">\n",
              "      <th></th>\n",
              "      <th>TargetID</th>\n",
              "      <th>DrugID</th>\n",
              "      <th>Highest_status</th>\n",
              "      <th>MOA</th>\n",
              "    </tr>\n",
              "  </thead>\n",
              "  <tbody>\n",
              "    <tr>\n",
              "      <th>0</th>\n",
              "      <td>T71390</td>\n",
              "      <td>D07OAC</td>\n",
              "      <td>Investigative</td>\n",
              "      <td>Inhibitor</td>\n",
              "    </tr>\n",
              "    <tr>\n",
              "      <th>1</th>\n",
              "      <td>T70309</td>\n",
              "      <td>D07OAC</td>\n",
              "      <td>Investigative</td>\n",
              "      <td>Inhibitor</td>\n",
              "    </tr>\n",
              "    <tr>\n",
              "      <th>2</th>\n",
              "      <td>T97071</td>\n",
              "      <td>D0Y6UB</td>\n",
              "      <td>Investigative</td>\n",
              "      <td>Inhibitor</td>\n",
              "    </tr>\n",
              "    <tr>\n",
              "      <th>3</th>\n",
              "      <td>T86679</td>\n",
              "      <td>D0J2UW</td>\n",
              "      <td>Investigative</td>\n",
              "      <td>Agonist</td>\n",
              "    </tr>\n",
              "    <tr>\n",
              "      <th>4</th>\n",
              "      <td>T19229</td>\n",
              "      <td>D0UZ9U</td>\n",
              "      <td>Investigative</td>\n",
              "      <td>Modulator</td>\n",
              "    </tr>\n",
              "  </tbody>\n",
              "</table>\n",
              "</div>\n",
              "      <button class=\"colab-df-convert\" onclick=\"convertToInteractive('df-80940eb6-f902-4b3b-8c80-f053ce46f2bf')\"\n",
              "              title=\"Convert this dataframe to an interactive table.\"\n",
              "              style=\"display:none;\">\n",
              "        \n",
              "  <svg xmlns=\"http://www.w3.org/2000/svg\" height=\"24px\"viewBox=\"0 0 24 24\"\n",
              "       width=\"24px\">\n",
              "    <path d=\"M0 0h24v24H0V0z\" fill=\"none\"/>\n",
              "    <path d=\"M18.56 5.44l.94 2.06.94-2.06 2.06-.94-2.06-.94-.94-2.06-.94 2.06-2.06.94zm-11 1L8.5 8.5l.94-2.06 2.06-.94-2.06-.94L8.5 2.5l-.94 2.06-2.06.94zm10 10l.94 2.06.94-2.06 2.06-.94-2.06-.94-.94-2.06-.94 2.06-2.06.94z\"/><path d=\"M17.41 7.96l-1.37-1.37c-.4-.4-.92-.59-1.43-.59-.52 0-1.04.2-1.43.59L10.3 9.45l-7.72 7.72c-.78.78-.78 2.05 0 2.83L4 21.41c.39.39.9.59 1.41.59.51 0 1.02-.2 1.41-.59l7.78-7.78 2.81-2.81c.8-.78.8-2.07 0-2.86zM5.41 20L4 18.59l7.72-7.72 1.47 1.35L5.41 20z\"/>\n",
              "  </svg>\n",
              "      </button>\n",
              "      \n",
              "  <style>\n",
              "    .colab-df-container {\n",
              "      display:flex;\n",
              "      flex-wrap:wrap;\n",
              "      gap: 12px;\n",
              "    }\n",
              "\n",
              "    .colab-df-convert {\n",
              "      background-color: #E8F0FE;\n",
              "      border: none;\n",
              "      border-radius: 50%;\n",
              "      cursor: pointer;\n",
              "      display: none;\n",
              "      fill: #1967D2;\n",
              "      height: 32px;\n",
              "      padding: 0 0 0 0;\n",
              "      width: 32px;\n",
              "    }\n",
              "\n",
              "    .colab-df-convert:hover {\n",
              "      background-color: #E2EBFA;\n",
              "      box-shadow: 0px 1px 2px rgba(60, 64, 67, 0.3), 0px 1px 3px 1px rgba(60, 64, 67, 0.15);\n",
              "      fill: #174EA6;\n",
              "    }\n",
              "\n",
              "    [theme=dark] .colab-df-convert {\n",
              "      background-color: #3B4455;\n",
              "      fill: #D2E3FC;\n",
              "    }\n",
              "\n",
              "    [theme=dark] .colab-df-convert:hover {\n",
              "      background-color: #434B5C;\n",
              "      box-shadow: 0px 1px 3px 1px rgba(0, 0, 0, 0.15);\n",
              "      filter: drop-shadow(0px 1px 2px rgba(0, 0, 0, 0.3));\n",
              "      fill: #FFFFFF;\n",
              "    }\n",
              "  </style>\n",
              "\n",
              "      <script>\n",
              "        const buttonEl =\n",
              "          document.querySelector('#df-80940eb6-f902-4b3b-8c80-f053ce46f2bf button.colab-df-convert');\n",
              "        buttonEl.style.display =\n",
              "          google.colab.kernel.accessAllowed ? 'block' : 'none';\n",
              "\n",
              "        async function convertToInteractive(key) {\n",
              "          const element = document.querySelector('#df-80940eb6-f902-4b3b-8c80-f053ce46f2bf');\n",
              "          const dataTable =\n",
              "            await google.colab.kernel.invokeFunction('convertToInteractive',\n",
              "                                                     [key], {});\n",
              "          if (!dataTable) return;\n",
              "\n",
              "          const docLinkHtml = 'Like what you see? Visit the ' +\n",
              "            '<a target=\"_blank\" href=https://colab.research.google.com/notebooks/data_table.ipynb>data table notebook</a>'\n",
              "            + ' to learn more about interactive tables.';\n",
              "          element.innerHTML = '';\n",
              "          dataTable['output_type'] = 'display_data';\n",
              "          await google.colab.output.renderOutput(dataTable, element);\n",
              "          const docLink = document.createElement('div');\n",
              "          docLink.innerHTML = docLinkHtml;\n",
              "          element.appendChild(docLink);\n",
              "        }\n",
              "      </script>\n",
              "    </div>\n",
              "  </div>\n",
              "  "
            ]
          },
          "metadata": {},
          "execution_count": 19
        }
      ]
    },
    {
      "cell_type": "markdown",
      "source": [
        "It contains drugs in various categories but I'll keep only drug ids selected from above filters (from `drugs`)."
      ],
      "metadata": {
        "id": "5Wz1PUCm3kIQ"
      }
    },
    {
      "cell_type": "code",
      "source": [
        "drug_target = drug_target[drug_target.DrugID.isin(drugs.drug_id.values)]"
      ],
      "metadata": {
        "id": "nMjkug7abMUi"
      },
      "execution_count": null,
      "outputs": []
    },
    {
      "cell_type": "code",
      "source": [
        "drug_target.MOA.value_counts()"
      ],
      "metadata": {
        "id": "7j4z1gD7fn67"
      },
      "execution_count": null,
      "outputs": []
    },
    {
      "cell_type": "code",
      "source": [
        "drug_target.DrugID.nunique()"
      ],
      "metadata": {
        "id": "Efysg7-EhDQy"
      },
      "execution_count": null,
      "outputs": []
    },
    {
      "cell_type": "markdown",
      "source": [
        "### Target names and Uniprot IDs\n",
        "- targets were given as TTD IDs. So I created a dict for mapping ids to thier standard names and uniprot ids\n",
        "- Again, the codes below was tailored to the structure of the file, which I opened in an editor beforehand."
      ],
      "metadata": {
        "id": "_PRGWDdwhr9t"
      }
    },
    {
      "cell_type": "code",
      "source": [
        "with open(fp + \"P2-01-TTD_uniprot_all.txt\") as f:\n",
        "  ids, uniprots, names = [],[],[]\n",
        "\n",
        "  for line in f:\n",
        "    line = [i.strip() for i in line.split(\"\\t\")]\n",
        "    if len(line) == 3 and line[1] == \"UNIPROID\":\n",
        "      ids.append(line[0])\n",
        "      uniprots.append(line[2])\n",
        "    elif len(line) == 3 and line[1] == \"TARGNAME\":\n",
        "      names.append(line[2]) \n",
        "\n",
        "targets = pd.DataFrame({\"target_id\" : ids,\n",
        "                        \"uniprot_id\" : uniprots,\n",
        "                        \"target_names\" : names})\n",
        "targets.head()"
      ],
      "metadata": {
        "id": "Q_0UNBbNh5LF"
      },
      "execution_count": null,
      "outputs": []
    },
    {
      "cell_type": "markdown",
      "source": [
        "- map ids to target names"
      ],
      "metadata": {
        "id": "OgYRVE71qbI3"
      }
    },
    {
      "cell_type": "code",
      "source": [
        "id2uniprot = {row[0]:row[1] for _,row in targets.iterrows()}\n",
        "id2targetname = {row[0]:row[2] for _,row in targets.iterrows()}\n",
        "\n",
        "drug_target[\"uniprot_id\"] = drug_target.TargetID.map(id2uniprot)\n",
        "drug_target[\"target_names\"] = drug_target.TargetID.map(id2targetname)\n",
        "drug_target.head()"
      ],
      "metadata": {
        "id": "9Gnb909cqpCb"
      },
      "execution_count": null,
      "outputs": []
    },
    {
      "cell_type": "code",
      "source": [
        "drug_target.isna().sum()"
      ],
      "metadata": {
        "id": "IrIFOnW3tW7K"
      },
      "execution_count": null,
      "outputs": []
    },
    {
      "cell_type": "code",
      "source": [
        "drug_target = drug_target.dropna().drop_duplicates().reset_index(drop=True)"
      ],
      "metadata": {
        "id": "VCCZ5JCW544K"
      },
      "execution_count": null,
      "outputs": []
    },
    {
      "cell_type": "markdown",
      "source": [
        "- Similar mappings for drug ids"
      ],
      "metadata": {
        "id": "wcXJ2Ihm07sD"
      }
    },
    {
      "cell_type": "code",
      "source": [
        "drug_target[\"cas_rn\"] = drug_target.DrugID.map(id2cas)\n",
        "drug_target[\"cas_rn\"] = drug_target[\"cas_rn\"].apply(clean_cas)"
      ],
      "metadata": {
        "id": "eEbPeuaP6srL"
      },
      "execution_count": null,
      "outputs": []
    },
    {
      "cell_type": "code",
      "source": [
        "drug_target.isna().sum()"
      ],
      "metadata": {
        "colab": {
          "base_uri": "https://localhost:8080/"
        },
        "id": "_3TW7QKH7WCx",
        "outputId": "c332318e-4ce8-49a0-879e-177a9f6c57cb"
      },
      "execution_count": null,
      "outputs": [
        {
          "output_type": "execute_result",
          "data": {
            "text/plain": [
              "TargetID          0\n",
              "DrugID            0\n",
              "Highest_status    0\n",
              "MOA               0\n",
              "uniprot_id        0\n",
              "target_names      0\n",
              "cas_rn            0\n",
              "dtype: int64"
            ]
          },
          "metadata": {},
          "execution_count": 22
        }
      ]
    },
    {
      "cell_type": "code",
      "source": [
        "drug_target.to_csv(fp+\"drug_target.csv\", index=False)"
      ],
      "metadata": {
        "id": "quXWG0Vi7ggW"
      },
      "execution_count": null,
      "outputs": []
    },
    {
      "cell_type": "markdown",
      "source": [
        "### Drugs and their clinical Indications\n",
        "The code below extracts drug id, drug name and their disease indications (ie the disease they have been approved to treat) from the file \"P1-05-Drug_disease.txt\"; which was downloaded from TTD"
      ],
      "metadata": {
        "id": "MauOyltm2mGW"
      }
    },
    {
      "cell_type": "code",
      "source": [
        "with open(fp + \"P1-05-Drug_disease.txt\") as f:\n",
        "  drug_ids = []\n",
        "  indications = []\n",
        "  drug = None\n",
        "  for line in f:\n",
        "      if not line:\n",
        "          continue\n",
        "\n",
        "      line = line.strip().split(\"\\t\")\n",
        "\n",
        "      if line[0] == \"TTDDRUID\":\n",
        "          drug = line[1]\n",
        "      elif line[0] == \"INDICATI\" and drug:\n",
        "          indication = line[1]\n",
        "          if indication.endswith(\"Approved\"):\n",
        "            drug_ids.append(drug)\n",
        "            indications.append(indication)\n",
        "\n",
        "drug_indication = pd.DataFrame({\"Drug_ID\": drug_ids, \"Indication\": indications})\n",
        "drug_indication.head()"
      ],
      "metadata": {
        "colab": {
          "base_uri": "https://localhost:8080/",
          "height": 206
        },
        "id": "8ZblWK0yr3Ye",
        "outputId": "50a3a96f-3f76-4bb0-fa86-6422f9caff0e"
      },
      "execution_count": null,
      "outputs": [
        {
          "output_type": "execute_result",
          "data": {
            "text/plain": [
              "  Drug_ID                                         Indication\n",
              "0  D00AEQ   Solid tumour/cancer [ICD-11: 2A00-2F9Z] Approved\n",
              "1  D00AEV  Human immunodeficiency virus infection [ICD-11...\n",
              "2  D00ALE  Influenza virus infection [ICD-11: 1E30-1E32] ...\n",
              "3  D00AMQ                   Cystitis [ICD-11: GC00] Approved\n",
              "4  D00AMQ               Chronic pain [ICD-11: MG30] Approved"
            ],
            "text/html": [
              "\n",
              "  <div id=\"df-d50fc073-f47b-4ee0-adab-8ee4ce156d12\">\n",
              "    <div class=\"colab-df-container\">\n",
              "      <div>\n",
              "<style scoped>\n",
              "    .dataframe tbody tr th:only-of-type {\n",
              "        vertical-align: middle;\n",
              "    }\n",
              "\n",
              "    .dataframe tbody tr th {\n",
              "        vertical-align: top;\n",
              "    }\n",
              "\n",
              "    .dataframe thead th {\n",
              "        text-align: right;\n",
              "    }\n",
              "</style>\n",
              "<table border=\"1\" class=\"dataframe\">\n",
              "  <thead>\n",
              "    <tr style=\"text-align: right;\">\n",
              "      <th></th>\n",
              "      <th>Drug_ID</th>\n",
              "      <th>Indication</th>\n",
              "    </tr>\n",
              "  </thead>\n",
              "  <tbody>\n",
              "    <tr>\n",
              "      <th>0</th>\n",
              "      <td>D00AEQ</td>\n",
              "      <td>Solid tumour/cancer [ICD-11: 2A00-2F9Z] Approved</td>\n",
              "    </tr>\n",
              "    <tr>\n",
              "      <th>1</th>\n",
              "      <td>D00AEV</td>\n",
              "      <td>Human immunodeficiency virus infection [ICD-11...</td>\n",
              "    </tr>\n",
              "    <tr>\n",
              "      <th>2</th>\n",
              "      <td>D00ALE</td>\n",
              "      <td>Influenza virus infection [ICD-11: 1E30-1E32] ...</td>\n",
              "    </tr>\n",
              "    <tr>\n",
              "      <th>3</th>\n",
              "      <td>D00AMQ</td>\n",
              "      <td>Cystitis [ICD-11: GC00] Approved</td>\n",
              "    </tr>\n",
              "    <tr>\n",
              "      <th>4</th>\n",
              "      <td>D00AMQ</td>\n",
              "      <td>Chronic pain [ICD-11: MG30] Approved</td>\n",
              "    </tr>\n",
              "  </tbody>\n",
              "</table>\n",
              "</div>\n",
              "      <button class=\"colab-df-convert\" onclick=\"convertToInteractive('df-d50fc073-f47b-4ee0-adab-8ee4ce156d12')\"\n",
              "              title=\"Convert this dataframe to an interactive table.\"\n",
              "              style=\"display:none;\">\n",
              "        \n",
              "  <svg xmlns=\"http://www.w3.org/2000/svg\" height=\"24px\"viewBox=\"0 0 24 24\"\n",
              "       width=\"24px\">\n",
              "    <path d=\"M0 0h24v24H0V0z\" fill=\"none\"/>\n",
              "    <path d=\"M18.56 5.44l.94 2.06.94-2.06 2.06-.94-2.06-.94-.94-2.06-.94 2.06-2.06.94zm-11 1L8.5 8.5l.94-2.06 2.06-.94-2.06-.94L8.5 2.5l-.94 2.06-2.06.94zm10 10l.94 2.06.94-2.06 2.06-.94-2.06-.94-.94-2.06-.94 2.06-2.06.94z\"/><path d=\"M17.41 7.96l-1.37-1.37c-.4-.4-.92-.59-1.43-.59-.52 0-1.04.2-1.43.59L10.3 9.45l-7.72 7.72c-.78.78-.78 2.05 0 2.83L4 21.41c.39.39.9.59 1.41.59.51 0 1.02-.2 1.41-.59l7.78-7.78 2.81-2.81c.8-.78.8-2.07 0-2.86zM5.41 20L4 18.59l7.72-7.72 1.47 1.35L5.41 20z\"/>\n",
              "  </svg>\n",
              "      </button>\n",
              "      \n",
              "  <style>\n",
              "    .colab-df-container {\n",
              "      display:flex;\n",
              "      flex-wrap:wrap;\n",
              "      gap: 12px;\n",
              "    }\n",
              "\n",
              "    .colab-df-convert {\n",
              "      background-color: #E8F0FE;\n",
              "      border: none;\n",
              "      border-radius: 50%;\n",
              "      cursor: pointer;\n",
              "      display: none;\n",
              "      fill: #1967D2;\n",
              "      height: 32px;\n",
              "      padding: 0 0 0 0;\n",
              "      width: 32px;\n",
              "    }\n",
              "\n",
              "    .colab-df-convert:hover {\n",
              "      background-color: #E2EBFA;\n",
              "      box-shadow: 0px 1px 2px rgba(60, 64, 67, 0.3), 0px 1px 3px 1px rgba(60, 64, 67, 0.15);\n",
              "      fill: #174EA6;\n",
              "    }\n",
              "\n",
              "    [theme=dark] .colab-df-convert {\n",
              "      background-color: #3B4455;\n",
              "      fill: #D2E3FC;\n",
              "    }\n",
              "\n",
              "    [theme=dark] .colab-df-convert:hover {\n",
              "      background-color: #434B5C;\n",
              "      box-shadow: 0px 1px 3px 1px rgba(0, 0, 0, 0.15);\n",
              "      filter: drop-shadow(0px 1px 2px rgba(0, 0, 0, 0.3));\n",
              "      fill: #FFFFFF;\n",
              "    }\n",
              "  </style>\n",
              "\n",
              "      <script>\n",
              "        const buttonEl =\n",
              "          document.querySelector('#df-d50fc073-f47b-4ee0-adab-8ee4ce156d12 button.colab-df-convert');\n",
              "        buttonEl.style.display =\n",
              "          google.colab.kernel.accessAllowed ? 'block' : 'none';\n",
              "\n",
              "        async function convertToInteractive(key) {\n",
              "          const element = document.querySelector('#df-d50fc073-f47b-4ee0-adab-8ee4ce156d12');\n",
              "          const dataTable =\n",
              "            await google.colab.kernel.invokeFunction('convertToInteractive',\n",
              "                                                     [key], {});\n",
              "          if (!dataTable) return;\n",
              "\n",
              "          const docLinkHtml = 'Like what you see? Visit the ' +\n",
              "            '<a target=\"_blank\" href=https://colab.research.google.com/notebooks/data_table.ipynb>data table notebook</a>'\n",
              "            + ' to learn more about interactive tables.';\n",
              "          element.innerHTML = '';\n",
              "          dataTable['output_type'] = 'display_data';\n",
              "          await google.colab.output.renderOutput(dataTable, element);\n",
              "          const docLink = document.createElement('div');\n",
              "          docLink.innerHTML = docLinkHtml;\n",
              "          element.appendChild(docLink);\n",
              "        }\n",
              "      </script>\n",
              "    </div>\n",
              "  </div>\n",
              "  "
            ]
          },
          "metadata": {},
          "execution_count": 24
        }
      ]
    },
    {
      "cell_type": "markdown",
      "source": [
        "**ICD** (International Classification of Diseases) codes are a standardized system for classifying diseases, maintained by the World Health Organization (WHO). ICD-11 is the 11th revision of the classification system.\n",
        "\n",
        "\n",
        "The next code chunck splits the indication column into disease name and ICD code"
      ],
      "metadata": {
        "id": "7MAu5OtJ51fh"
      }
    },
    {
      "cell_type": "code",
      "source": [
        "def fx(indication):\n",
        "    name, icd = re.match(r\"^(.+)\\s\\[(.+)\\]\\sApproved$\", indication).groups()\n",
        "    return name.strip(), icd.strip()\n",
        "\n",
        "drug_indication['Disease'], drug_indication['ICD_code'] = zip(*drug_indication['Indication'].apply(fx))\n",
        "\n",
        "drug_indication = drug_indication.drop(columns=['Indication'])\n",
        "drug_indication"
      ],
      "metadata": {
        "id": "kGRf97TDzbbN"
      },
      "execution_count": null,
      "outputs": []
    },
    {
      "cell_type": "code",
      "source": [
        "drug_indication = drug_indication[drug_indication.Drug_ID.isin(drugs.drug_id)].reset_index(drop=True)"
      ],
      "metadata": {
        "id": "3Ihm44yMEDH_"
      },
      "execution_count": null,
      "outputs": []
    },
    {
      "cell_type": "markdown",
      "source": [
        "- Map ids to cas_rn as before"
      ],
      "metadata": {
        "id": "oZnyut_n551G"
      }
    },
    {
      "cell_type": "code",
      "source": [
        "drug_indication[\"cas_rn\"] = drug_indication.Drug_ID.map(id2cas)\n",
        "drug_indication.dropna(inplace=True)\n",
        "drug_indication[\"cas_rn\"] = drug_indication[\"cas_rn\"].apply(clean_cas)\n",
        "drug_indication"
      ],
      "metadata": {
        "id": "phNVEq9O5SSu"
      },
      "execution_count": null,
      "outputs": []
    },
    {
      "cell_type": "code",
      "source": [
        "grouped_data = drug_indication.groupby('ICD_code')['Disease'].unique()\n",
        "\n",
        "# Display the ICD codes with more than one associated disease name\n",
        "for icd_code, disease_names in grouped_data.items():\n",
        "    if len(disease_names) > 1:\n",
        "        print(f\"{icd_code}: {disease_names}\")\n"
      ],
      "metadata": {
        "id": "JoEgjM9x26U1"
      },
      "execution_count": null,
      "outputs": []
    },
    {
      "cell_type": "code",
      "source": [
        "drug_indication.to_csv(fp+\"drug_indication.csv\", index=False)"
      ],
      "metadata": {
        "id": "e8LqCyglCL-o"
      },
      "execution_count": null,
      "outputs": []
    },
    {
      "cell_type": "markdown",
      "source": [
        "## **Chemoinformatics**\n",
        "### drug-drug similarity\n",
        "In this section, I'll use the `RDKit` package for computational chemistry. Specifically, I'll compute the molecular fingerprints for each compound and compute a similarity score for each pair of compound.<br>\n",
        "**Morgan fingerprints** capture the topological and connectivity information of a molecule, including atom types, bond types, and the arrangement of atoms in the molecular structure. By encoding the presence or absence of specific substructures within the molecule, these fingerprints allow for a compact and efficient representation of the compound's structural features.<br>\n",
        "**Molecular similarity**: Comparing the Morgan fingerprints of two compounds can help determine their structural similarity, which is often correlated with similar biological activities or physicochemical properties."
      ],
      "metadata": {
        "id": "iXkcG0FMBePX"
      }
    },
    {
      "cell_type": "code",
      "source": [
        "!pip install rdkit"
      ],
      "metadata": {
        "id": "RLfE5yOS7raX"
      },
      "execution_count": null,
      "outputs": []
    },
    {
      "cell_type": "code",
      "source": [
        "import rdkit\n",
        "\n",
        "rdkit.__version__"
      ],
      "metadata": {
        "colab": {
          "base_uri": "https://localhost:8080/",
          "height": 35
        },
        "id": "qaW9W3P_Zm14",
        "outputId": "cf635a3f-b60a-411e-917f-a58e7afe1ed5"
      },
      "execution_count": null,
      "outputs": [
        {
          "output_type": "execute_result",
          "data": {
            "text/plain": [
              "'2022.09.5'"
            ],
            "application/vnd.google.colaboratory.intrinsic+json": {
              "type": "string"
            }
          },
          "metadata": {},
          "execution_count": 30
        }
      ]
    },
    {
      "cell_type": "markdown",
      "source": [
        "The code below generates the Morgan Fingerprint for each molecule\n",
        "- `radius` determines the size of the local environment around each atom that is considered when generating the fingerprint. A radius of 2 means that the fingerprint will take into account not only the immediate neighbors of an atom but also the neighbors of those neighbors. This allows the fingerprint to capture more information about the local structure around each atom in the molecule.\n",
        "\n",
        "- `nBits` defines the length of the fingerprint vector. In this case, it will be a fixed-length binary representation of 1024 bits. The larger the nBits, the more information the fingerprint can capture and the more unique the fingerprint will be, potentially reducing the risk of collisions (i.e., different molecules having identical fingerprints). However, larger fingerprints also require more memory and computational resources to process."
      ],
      "metadata": {
        "id": "DSuV5Ru0UMkg"
      }
    },
    {
      "cell_type": "code",
      "source": [
        "from rdkit import Chem\n",
        "from rdkit.Chem import AllChem\n",
        "from rdkit.Chem import DataStructs\n",
        "\n",
        "# Convert SMILES to RDKit Mol objects\n",
        "molecules = [Chem.MolFromSmiles(smiles) for smiles in drugs.smiles]\n",
        "\n",
        "radius = 2\n",
        "nBits = 1024\n",
        "fingerprints = [AllChem.GetMorganFingerprintAsBitVect(mol, radius, nBits=nBits) for mol in molecules]"
      ],
      "metadata": {
        "id": "QuKl3BuvMoLq"
      },
      "execution_count": null,
      "outputs": []
    },
    {
      "cell_type": "markdown",
      "source": [
        "\n",
        "The **Tanimoto similarity**, also known as the **Jaccard similarity**, is a metric used to measure the similarity between two sets, typically binary sets, such as molecular fingerprints. In the context of molecular fingerprints, the Tanimoto similarity is used to quantify the similarity between the chemical structures of two molecules.\n",
        "\n",
        "The Tanimoto similarity is calculated as the ratio of the intersection (the number of common bits set to 1) to the union (the total number of bits set to 1) of the two sets or fingerprints:\n",
        "\n",
        "Tanimoto similarity = (A ∩ B) / (A ∪ B)\n",
        "\n",
        "where A and B are the two fingerprints being compared. The Tanimoto similarity value ranges from 0 to 1, where 0 indicates no similarity and 1 indicates a perfect match."
      ],
      "metadata": {
        "id": "nPWLUD-sWNdm"
      }
    },
    {
      "cell_type": "code",
      "source": [
        "# Initialize lists to store query, target, and similarity data\n",
        "query_drug, target_drug, similarities = [], [], []\n",
        "\n",
        "# Compute pairwise Tanimoto similarities without duplicates\n",
        "for i, query_fp in enumerate(fingerprints[:-1]):\n",
        "    target_fps = fingerprints[i+1:]\n",
        "    scores = DataStructs.BulkTanimotoSimilarity(query_fp, target_fps)\n",
        "\n",
        "    # Append SMILES strings and similarity values to the respective lists\n",
        "    query_drug.extend([drugs.drug_name[i]] * len(scores))\n",
        "    target_drug.extend(drugs.drug_name[i+1:])\n",
        "    similarities.extend(scores)\n",
        "\n",
        "\n",
        "drug_similarity = pd.DataFrame({'query': query_drug, 'target': target_drug, 'similarity': similarities})"
      ],
      "metadata": {
        "id": "PfVhAhq3WWZN"
      },
      "execution_count": null,
      "outputs": []
    },
    {
      "cell_type": "code",
      "source": [
        "drug_similarity"
      ],
      "metadata": {
        "id": "ecRHOsYIgDNK"
      },
      "execution_count": null,
      "outputs": []
    },
    {
      "cell_type": "markdown",
      "source": [
        "#### Visualize distribution of similarity scores"
      ],
      "metadata": {
        "id": "_zuEI1CYcq0E"
      }
    },
    {
      "cell_type": "code",
      "source": [
        "import seaborn as sns\n",
        "import matplotlib.pyplot as plt\n",
        "\n",
        "sns.histplot(data=drug_similarity, x='similarity', bins=30, kde=True)\n",
        "plt.xlabel('Similarity Score')\n",
        "plt.ylabel('Count')\n",
        "plt.title('Distribution of Tanimoto Similarity')\n",
        "plt.show()\n"
      ],
      "metadata": {
        "colab": {
          "base_uri": "https://localhost:8080/",
          "height": 472
        },
        "id": "LmnXRTY4cyWo",
        "outputId": "97d926fb-20a1-43be-bde0-066d4ba5258d"
      },
      "execution_count": null,
      "outputs": [
        {
          "output_type": "display_data",
          "data": {
            "text/plain": [
              "<Figure size 640x480 with 1 Axes>"
            ],
            "image/png": "[encoded data removed]"
          },
          "metadata": {}
        }
      ]
    },
    {
      "cell_type": "markdown",
      "source": [
        "#### **Choosing a threshold score for similarity**\n",
        "The histogram above shows that most of the drug pairs have a score between 0.0 and 0.2.<br>\n",
        "\n",
        "In their study, Baldi et al. found the mean score to be 0.17, and majority of their scores were less than 0.4. In addition, the authors suggested a cutoff of 0.4 might be a good one (Baldi et al., 2008)<br>\n",
        "\n",
        "It has long been claimed that a score of 0.85 reflects a high probability that two molecules shares similar activity. However, \"the 0.85 Myth\" was debunked in a recent study. It was established that thresholds are subjective and there is no standard threshold (Maggiora et al, 2014)\n",
        "\n",
        "Here, I pick a threshold of 0.75 (chosen arbitrarily)\n"
      ],
      "metadata": {
        "id": "XO1-ULM0vcHG"
      }
    },
    {
      "cell_type": "code",
      "source": [
        "threshold = 0.75\n",
        "drug_similarity = drug_similarity[(drug_similarity[\"similarity\"]>threshold)]"
      ],
      "metadata": {
        "id": "BUKBacXFmr_N"
      },
      "execution_count": null,
      "outputs": []
    },
    {
      "cell_type": "code",
      "source": [
        "drug_similarity.shape"
      ],
      "metadata": {
        "colab": {
          "base_uri": "https://localhost:8080/"
        },
        "id": "0a3DFb41yzSS",
        "outputId": "e493cac9-005c-4090-bf61-ef8475a99158"
      },
      "execution_count": null,
      "outputs": [
        {
          "output_type": "execute_result",
          "data": {
            "text/plain": [
              "(435, 3)"
            ]
          },
          "metadata": {},
          "execution_count": 42
        }
      ]
    },
    {
      "cell_type": "code",
      "source": [
        "drug_similarity.to_csv(fp + \"drug_similarity.csv\", index=False)"
      ],
      "metadata": {
        "id": "AoXo-gZG3se-"
      },
      "execution_count": null,
      "outputs": []
    },
    {
      "cell_type": "code",
      "source": [
        "drug_similarity_matrix = drug_similarity.pivot(index='query', columns='target', values='similarity')\n",
        "\n",
        "cmap = sns.cubehelix_palette(light=1, as_cmap=True)\n",
        "sns.set(style=\"darkgrid\")\n",
        "\n",
        "# Create heatmap\n",
        "sns.heatmap(drug_similarity_matrix, cmap=cmap)\n",
        "\n",
        "plt.title('Drug Similarity Heatmap')\n",
        "plt.xlabel('Drug A')\n",
        "plt.ylabel('Drug B')\n",
        "plt.show()\n"
      ],
      "metadata": {
        "colab": {
          "base_uri": "https://localhost:8080/",
          "height": 584
        },
        "id": "LowxvHZ95lXT",
        "outputId": "0e169a2c-3fa5-42ad-f1b8-713556a4525a"
      },
      "execution_count": null,
      "outputs": [
        {
          "output_type": "display_data",
          "data": {
            "text/plain": [
              "<Figure size 640x480 with 2 Axes>"
            ],
            "image/png": "[encoded data removed]"
          },
          "metadata": {}
        }
      ]
    },
    {
      "cell_type": "code",
      "source": [
        "Chem.MolFromSmiles(drugs.SMILES[3])"
      ],
      "metadata": {
        "colab": {
          "base_uri": "https://localhost:8080/",
          "height": 167
        },
        "id": "BBpYQ20EahMt",
        "outputId": "18a7a8c6-6e1a-495d-d6ac-08d41935c4a2"
      },
      "execution_count": null,
      "outputs": [
        {
          "output_type": "execute_result",
          "data": {
            "text/plain": [
              "<rdkit.Chem.rdchem.Mol at 0x7f1238eb0820>"
            ],
            "image/png": "[encoded data removed]"
          },
          "metadata": {},
          "execution_count": 22
        }
      ]
    },
    {
      "cell_type": "markdown",
      "source": [
        "## Refrences\n",
        "\n",
        "Maggiora G, Vogt M, Stumpfe D, Bajorath J. Molecular similarity in medicinal chemistry. J Med Chem. 2014;57(8):3186-3204. doi:10.1021/jm401411z\n",
        "\n",
        "Pierre Baldi, Ryan W. Benz, BLASTing small molecules—statistics and extreme statistics of chemical similarity scores, Bioinformatics, Volume 24, Issue 13, July 2008, Pages i357–i365, https://doi.org/10.1093/bioinformatics/btn187\n"
      ],
      "metadata": {
        "id": "DgU1SZZUAu1G"
      }
    },
    {
      "cell_type": "code",
      "source": [],
      "metadata": {
        "id": "L4U3iU_U21ao"
      },
      "execution_count": null,
      "outputs": []
    }
  ]
}