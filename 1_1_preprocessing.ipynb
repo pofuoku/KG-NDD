{
  "cells": [
    {
      "cell_type": "markdown",
      "source": [
        "# **Knowledge Graph for Alzheimer's Disease**\n",
        "***Prince Ofuoku***<br>\n",
        "***MSc. Bioinformatics***<br>\n",
        "*28-03-2023*\n",
        "\n",
        "\n",
        "## **Introduction**\n",
        "A knowledge graph is a structured, semantically rich representation of knowledge, designed to encode entities and the relationships between them. The primary components of a knowledge graph include nodes that represent entities and edges that depict relationships between entities. The foundational unit of knowledge representation is a triple statement (or fact)consisting of a head (subject), a relation (predicate), and a tail (object).<br>\n",
        "\n",
        "For example, a triple statement could represent a gene interaction, a drug-disease relationship, or a gene-disease association:\n",
        "- BRCA1, interacts with, BRCA2\n",
        "- Aspirin, treats, inflammation\n",
        "- APOE, associated with, Alzheimer's disease\n",
        "\n",
        "\n",
        "In this notebook, I'll build a knowledge graph encompassing biomedical entities pertinent to Alzheimer's disease by integrating data related to drugs, genes, pathways, and diseases from different databases, including \n",
        "- Comparative Toxicogenomics Database (CTD),\n",
        "- Kyoto Encyclopedia of Genes and Genomes (KEGG), - Therapeutic Target Database (TTD), \n",
        "- STRING, and \n",
        "- AGORA.\n",
        "\n",
        "\n",
        "\n"
      ],
      "metadata": {
        "id": "i-RRPcrnju4S"
      }
    },
    {
      "cell_type": "markdown",
      "source": [
        "**Acknowledgement:** Ideas and some codes in this notebook were adapted from https://github.com/freshnemo/AD-KG/blob/main/Pre_process/pre_process.ipynb"
      ],
      "metadata": {
        "id": "bR1v0rYYG-1Z"
      }
    },
    {
      "cell_type": "code",
      "execution_count": null,
      "metadata": {
        "id": "QSSnKHXjM37v",
        "colab": {
          "base_uri": "https://localhost:8080/"
        },
        "outputId": "cf4c6537-c001-4b89-81e0-fc76257ec5f1"
      },
      "outputs": [
        {
          "output_type": "stream",
          "name": "stdout",
          "text": [
            "Mounted at /content/drive\n"
          ]
        }
      ],
      "source": [
        "import numpy as np\n",
        "import pandas as pd\n",
        "import re\n",
        "\n",
        "from google.colab import drive\n",
        "drive.mount('/content/drive')"
      ]
    },
    {
      "cell_type": "markdown",
      "source": [
        "- folder path"
      ],
      "metadata": {
        "id": "fdqrCwf4BREW"
      }
    },
    {
      "cell_type": "code",
      "source": [
        "fp = \"/content/drive/MyDrive/Project/data/\""
      ],
      "metadata": {
        "id": "9TO9QC5-LSLx"
      },
      "execution_count": null,
      "outputs": []
    },
    {
      "cell_type": "markdown",
      "source": [
        "## **Protein-Protein Interactions**\n",
        "Homo Sapiens interactome from STRING database <br>\n",
        "Downloaded from https://string-db.org/cgi/download?sessionId=%24input-%3E%7BsessionId%7D&species_text=Homo+sapiens"
      ],
      "metadata": {
        "id": "rGNlwA9uo7BU"
      }
    },
    {
      "cell_type": "code",
      "source": [
        "string = pd.read_csv(fp + \"9606.protein.links.v11.5.txt.gz\",\n",
        "                 compression=\"gzip\", sep=\" \")\n",
        "\n",
        "string.head()"
      ],
      "metadata": {
        "colab": {
          "base_uri": "https://localhost:8080/",
          "height": 206
        },
        "id": "SQh5FTEOo7ol",
        "outputId": "9be450db-4a32-4c25-ab0a-e2911c4d3698"
      },
      "execution_count": null,
      "outputs": [
        {
          "output_type": "execute_result",
          "data": {
            "text/plain": [
              "               protein1              protein2  combined_score\n",
              "0  9606.ENSP00000000233  9606.ENSP00000379496             155\n",
              "1  9606.ENSP00000000233  9606.ENSP00000314067             197\n",
              "2  9606.ENSP00000000233  9606.ENSP00000263116             222\n",
              "3  9606.ENSP00000000233  9606.ENSP00000361263             181\n",
              "4  9606.ENSP00000000233  9606.ENSP00000409666             270"
            ],
            "text/html": [
              "\n",
              "  <div id=\"df-fbceaaec-1a63-4ff4-8485-7cfe251c220d\">\n",
              "    <div class=\"colab-df-container\">\n",
              "      <div>\n",
              "<style scoped>\n",
              "    .dataframe tbody tr th:only-of-type {\n",
              "        vertical-align: middle;\n",
              "    }\n",
              "\n",
              "    .dataframe tbody tr th {\n",
              "        vertical-align: top;\n",
              "    }\n",
              "\n",
              "    .dataframe thead th {\n",
              "        text-align: right;\n",
              "    }\n",
              "</style>\n",
              "<table border=\"1\" class=\"dataframe\">\n",
              "  <thead>\n",
              "    <tr style=\"text-align: right;\">\n",
              "      <th></th>\n",
              "      <th>protein1</th>\n",
              "      <th>protein2</th>\n",
              "      <th>combined_score</th>\n",
              "    </tr>\n",
              "  </thead>\n",
              "  <tbody>\n",
              "    <tr>\n",
              "      <th>0</th>\n",
              "      <td>9606.ENSP00000000233</td>\n",
              "      <td>9606.ENSP00000379496</td>\n",
              "      <td>155</td>\n",
              "    </tr>\n",
              "    <tr>\n",
              "      <th>1</th>\n",
              "      <td>9606.ENSP00000000233</td>\n",
              "      <td>9606.ENSP00000314067</td>\n",
              "      <td>197</td>\n",
              "    </tr>\n",
              "    <tr>\n",
              "      <th>2</th>\n",
              "      <td>9606.ENSP00000000233</td>\n",
              "      <td>9606.ENSP00000263116</td>\n",
              "      <td>222</td>\n",
              "    </tr>\n",
              "    <tr>\n",
              "      <th>3</th>\n",
              "      <td>9606.ENSP00000000233</td>\n",
              "      <td>9606.ENSP00000361263</td>\n",
              "      <td>181</td>\n",
              "    </tr>\n",
              "    <tr>\n",
              "      <th>4</th>\n",
              "      <td>9606.ENSP00000000233</td>\n",
              "      <td>9606.ENSP00000409666</td>\n",
              "      <td>270</td>\n",
              "    </tr>\n",
              "  </tbody>\n",
              "</table>\n",
              "</div>\n",
              "      <button class=\"colab-df-convert\" onclick=\"convertToInteractive('df-fbceaaec-1a63-4ff4-8485-7cfe251c220d')\"\n",
              "              title=\"Convert this dataframe to an interactive table.\"\n",
              "              style=\"display:none;\">\n",
              "        \n",
              "  <svg xmlns=\"http://www.w3.org/2000/svg\" height=\"24px\"viewBox=\"0 0 24 24\"\n",
              "       width=\"24px\">\n",
              "    <path d=\"M0 0h24v24H0V0z\" fill=\"none\"/>\n",
              "    <path d=\"M18.56 5.44l.94 2.06.94-2.06 2.06-.94-2.06-.94-.94-2.06-.94 2.06-2.06.94zm-11 1L8.5 8.5l.94-2.06 2.06-.94-2.06-.94L8.5 2.5l-.94 2.06-2.06.94zm10 10l.94 2.06.94-2.06 2.06-.94-2.06-.94-.94-2.06-.94 2.06-2.06.94z\"/><path d=\"M17.41 7.96l-1.37-1.37c-.4-.4-.92-.59-1.43-.59-.52 0-1.04.2-1.43.59L10.3 9.45l-7.72 7.72c-.78.78-.78 2.05 0 2.83L4 21.41c.39.39.9.59 1.41.59.51 0 1.02-.2 1.41-.59l7.78-7.78 2.81-2.81c.8-.78.8-2.07 0-2.86zM5.41 20L4 18.59l7.72-7.72 1.47 1.35L5.41 20z\"/>\n",
              "  </svg>\n",
              "      </button>\n",
              "      \n",
              "  <style>\n",
              "    .colab-df-container {\n",
              "      display:flex;\n",
              "      flex-wrap:wrap;\n",
              "      gap: 12px;\n",
              "    }\n",
              "\n",
              "    .colab-df-convert {\n",
              "      background-color: #E8F0FE;\n",
              "      border: none;\n",
              "      border-radius: 50%;\n",
              "      cursor: pointer;\n",
              "      display: none;\n",
              "      fill: #1967D2;\n",
              "      height: 32px;\n",
              "      padding: 0 0 0 0;\n",
              "      width: 32px;\n",
              "    }\n",
              "\n",
              "    .colab-df-convert:hover {\n",
              "      background-color: #E2EBFA;\n",
              "      box-shadow: 0px 1px 2px rgba(60, 64, 67, 0.3), 0px 1px 3px 1px rgba(60, 64, 67, 0.15);\n",
              "      fill: #174EA6;\n",
              "    }\n",
              "\n",
              "    [theme=dark] .colab-df-convert {\n",
              "      background-color: #3B4455;\n",
              "      fill: #D2E3FC;\n",
              "    }\n",
              "\n",
              "    [theme=dark] .colab-df-convert:hover {\n",
              "      background-color: #434B5C;\n",
              "      box-shadow: 0px 1px 3px 1px rgba(0, 0, 0, 0.15);\n",
              "      filter: drop-shadow(0px 1px 2px rgba(0, 0, 0, 0.3));\n",
              "      fill: #FFFFFF;\n",
              "    }\n",
              "  </style>\n",
              "\n",
              "      <script>\n",
              "        const buttonEl =\n",
              "          document.querySelector('#df-fbceaaec-1a63-4ff4-8485-7cfe251c220d button.colab-df-convert');\n",
              "        buttonEl.style.display =\n",
              "          google.colab.kernel.accessAllowed ? 'block' : 'none';\n",
              "\n",
              "        async function convertToInteractive(key) {\n",
              "          const element = document.querySelector('#df-fbceaaec-1a63-4ff4-8485-7cfe251c220d');\n",
              "          const dataTable =\n",
              "            await google.colab.kernel.invokeFunction('convertToInteractive',\n",
              "                                                     [key], {});\n",
              "          if (!dataTable) return;\n",
              "\n",
              "          const docLinkHtml = 'Like what you see? Visit the ' +\n",
              "            '<a target=\"_blank\" href=https://colab.research.google.com/notebooks/data_table.ipynb>data table notebook</a>'\n",
              "            + ' to learn more about interactive tables.';\n",
              "          element.innerHTML = '';\n",
              "          dataTable['output_type'] = 'display_data';\n",
              "          await google.colab.output.renderOutput(dataTable, element);\n",
              "          const docLink = document.createElement('div');\n",
              "          docLink.innerHTML = docLinkHtml;\n",
              "          element.appendChild(docLink);\n",
              "        }\n",
              "      </script>\n",
              "    </div>\n",
              "  </div>\n",
              "  "
            ]
          },
          "metadata": {},
          "execution_count": 3
        }
      ]
    },
    {
      "cell_type": "code",
      "source": [
        "string.shape"
      ],
      "metadata": {
        "colab": {
          "base_uri": "https://localhost:8080/"
        },
        "id": "zmHozQYTHXNZ",
        "outputId": "bfdf94c3-bab0-4cca-8f18-66473c3f6ac7"
      },
      "execution_count": null,
      "outputs": [
        {
          "output_type": "execute_result",
          "data": {
            "text/plain": [
              "(11938498, 3)"
            ]
          },
          "metadata": {},
          "execution_count": 4
        }
      ]
    },
    {
      "cell_type": "code",
      "source": [
        "import seaborn as sns\n",
        "import matplotlib.pyplot as plt\n",
        "\n",
        "sns.histplot(data=string, x='combined_score', bins=30, kde=True)\n",
        "plt.xlabel('Combined Score')\n",
        "plt.ylabel('Count')\n",
        "plt.title('Distribution of Combined Score')\n",
        "plt.show()\n"
      ],
      "metadata": {
        "colab": {
          "base_uri": "https://localhost:8080/",
          "height": 472
        },
        "id": "fkcREP844nTe",
        "outputId": "610c0c72-a1e1-4353-b4c4-4f12ae062c75"
      },
      "execution_count": null,
      "outputs": [
        {
          "output_type": "display_data",
          "data": {
            "text/plain": [
              "<Figure size 640x480 with 1 Axes>"
            ],
            "image/png": "[encoded data removed]"
          },
          "metadata": {}
        }
      ]
    },
    {
      "cell_type": "markdown",
      "source": [
        "The **\"combined_score\"** represents the overall confidence score of the interaction between two proteins (protein1 and protein2). The combined score was computed by integrating several types of evidence. Score ranges from 0 to 1000. The higher the combined score, the more reliable the interaction is considered."
      ],
      "metadata": {
        "id": "hQRlaMN0Vj0n"
      }
    },
    {
      "cell_type": "code",
      "source": [
        "threshold = 650\n",
        "\n",
        "ppi = string[string.combined_score >= threshold]\n",
        "ppi = ppi[['protein1','protein2']]\n",
        "ppi.shape"
      ],
      "metadata": {
        "id": "jMYvIC4HVh4y",
        "colab": {
          "base_uri": "https://localhost:8080/"
        },
        "outputId": "eedc5f9d-b838-4223-de6c-35d5501815c4"
      },
      "execution_count": null,
      "outputs": [
        {
          "output_type": "execute_result",
          "data": {
            "text/plain": [
              "(630798, 2)"
            ]
          },
          "metadata": {},
          "execution_count": 19
        }
      ]
    },
    {
      "cell_type": "code",
      "source": [
        "len(set(ppi[\"protein1\"]).union(set(ppi[\"protein2\"])))"
      ],
      "metadata": {
        "colab": {
          "base_uri": "https://localhost:8080/"
        },
        "id": "RBT6ahfA51QB",
        "outputId": "263983f0-5de2-46b8-ef7c-5f23f7123cde"
      },
      "execution_count": null,
      "outputs": [
        {
          "output_type": "execute_result",
          "data": {
            "text/plain": [
              "17773"
            ]
          },
          "metadata": {},
          "execution_count": 20
        }
      ]
    },
    {
      "cell_type": "markdown",
      "source": [
        "- The proteins above are given as ensembl protein ids\n",
        "- The code below converts the ids to corresponding gene symbol"
      ],
      "metadata": {
        "id": "jJfkGk2rq_me"
      }
    },
    {
      "cell_type": "code",
      "source": [
        "stringInfo = pd.read_csv(fp + \"9606.protein.info.v11.5.txt.gz\",\n",
        "                 compression=\"gzip\", delimiter=\"\\t\")\n",
        "\n",
        "stringInfo.head(3)"
      ],
      "metadata": {
        "id": "mXv5mSvBrNWu",
        "colab": {
          "base_uri": "https://localhost:8080/",
          "height": 143
        },
        "outputId": "aa1bfaf7-602c-4264-c93b-d898d36ad75a"
      },
      "execution_count": null,
      "outputs": [
        {
          "output_type": "execute_result",
          "data": {
            "text/plain": [
              "     #string_protein_id preferred_name  protein_size  \\\n",
              "0  9606.ENSP00000000233           ARF5           180   \n",
              "1  9606.ENSP00000000412           M6PR           277   \n",
              "2  9606.ENSP00000001008          FKBP4           459   \n",
              "\n",
              "                                          annotation  \n",
              "0  ADP-ribosylation factor 5; GTP-binding protein...  \n",
              "1  Cation-dependent mannose-6-phosphate receptor;...  \n",
              "2  Peptidyl-prolyl cis-trans isomerase FKBP4; Imm...  "
            ],
            "text/html": [
              "\n",
              "  <div id=\"df-05a072e8-892e-4ee8-aa5b-67fd8d41387b\">\n",
              "    <div class=\"colab-df-container\">\n",
              "      <div>\n",
              "<style scoped>\n",
              "    .dataframe tbody tr th:only-of-type {\n",
              "        vertical-align: middle;\n",
              "    }\n",
              "\n",
              "    .dataframe tbody tr th {\n",
              "        vertical-align: top;\n",
              "    }\n",
              "\n",
              "    .dataframe thead th {\n",
              "        text-align: right;\n",
              "    }\n",
              "</style>\n",
              "<table border=\"1\" class=\"dataframe\">\n",
              "  <thead>\n",
              "    <tr style=\"text-align: right;\">\n",
              "      <th></th>\n",
              "      <th>#string_protein_id</th>\n",
              "      <th>preferred_name</th>\n",
              "      <th>protein_size</th>\n",
              "      <th>annotation</th>\n",
              "    </tr>\n",
              "  </thead>\n",
              "  <tbody>\n",
              "    <tr>\n",
              "      <th>0</th>\n",
              "      <td>9606.ENSP00000000233</td>\n",
              "      <td>ARF5</td>\n",
              "      <td>180</td>\n",
              "      <td>ADP-ribosylation factor 5; GTP-binding protein...</td>\n",
              "    </tr>\n",
              "    <tr>\n",
              "      <th>1</th>\n",
              "      <td>9606.ENSP00000000412</td>\n",
              "      <td>M6PR</td>\n",
              "      <td>277</td>\n",
              "      <td>Cation-dependent mannose-6-phosphate receptor;...</td>\n",
              "    </tr>\n",
              "    <tr>\n",
              "      <th>2</th>\n",
              "      <td>9606.ENSP00000001008</td>\n",
              "      <td>FKBP4</td>\n",
              "      <td>459</td>\n",
              "      <td>Peptidyl-prolyl cis-trans isomerase FKBP4; Imm...</td>\n",
              "    </tr>\n",
              "  </tbody>\n",
              "</table>\n",
              "</div>\n",
              "      <button class=\"colab-df-convert\" onclick=\"convertToInteractive('df-05a072e8-892e-4ee8-aa5b-67fd8d41387b')\"\n",
              "              title=\"Convert this dataframe to an interactive table.\"\n",
              "              style=\"display:none;\">\n",
              "        \n",
              "  <svg xmlns=\"http://www.w3.org/2000/svg\" height=\"24px\"viewBox=\"0 0 24 24\"\n",
              "       width=\"24px\">\n",
              "    <path d=\"M0 0h24v24H0V0z\" fill=\"none\"/>\n",
              "    <path d=\"M18.56 5.44l.94 2.06.94-2.06 2.06-.94-2.06-.94-.94-2.06-.94 2.06-2.06.94zm-11 1L8.5 8.5l.94-2.06 2.06-.94-2.06-.94L8.5 2.5l-.94 2.06-2.06.94zm10 10l.94 2.06.94-2.06 2.06-.94-2.06-.94-.94-2.06-.94 2.06-2.06.94z\"/><path d=\"M17.41 7.96l-1.37-1.37c-.4-.4-.92-.59-1.43-.59-.52 0-1.04.2-1.43.59L10.3 9.45l-7.72 7.72c-.78.78-.78 2.05 0 2.83L4 21.41c.39.39.9.59 1.41.59.51 0 1.02-.2 1.41-.59l7.78-7.78 2.81-2.81c.8-.78.8-2.07 0-2.86zM5.41 20L4 18.59l7.72-7.72 1.47 1.35L5.41 20z\"/>\n",
              "  </svg>\n",
              "      </button>\n",
              "      \n",
              "  <style>\n",
              "    .colab-df-container {\n",
              "      display:flex;\n",
              "      flex-wrap:wrap;\n",
              "      gap: 12px;\n",
              "    }\n",
              "\n",
              "    .colab-df-convert {\n",
              "      background-color: #E8F0FE;\n",
              "      border: none;\n",
              "      border-radius: 50%;\n",
              "      cursor: pointer;\n",
              "      display: none;\n",
              "      fill: #1967D2;\n",
              "      height: 32px;\n",
              "      padding: 0 0 0 0;\n",
              "      width: 32px;\n",
              "    }\n",
              "\n",
              "    .colab-df-convert:hover {\n",
              "      background-color: #E2EBFA;\n",
              "      box-shadow: 0px 1px 2px rgba(60, 64, 67, 0.3), 0px 1px 3px 1px rgba(60, 64, 67, 0.15);\n",
              "      fill: #174EA6;\n",
              "    }\n",
              "\n",
              "    [theme=dark] .colab-df-convert {\n",
              "      background-color: #3B4455;\n",
              "      fill: #D2E3FC;\n",
              "    }\n",
              "\n",
              "    [theme=dark] .colab-df-convert:hover {\n",
              "      background-color: #434B5C;\n",
              "      box-shadow: 0px 1px 3px 1px rgba(0, 0, 0, 0.15);\n",
              "      filter: drop-shadow(0px 1px 2px rgba(0, 0, 0, 0.3));\n",
              "      fill: #FFFFFF;\n",
              "    }\n",
              "  </style>\n",
              "\n",
              "      <script>\n",
              "        const buttonEl =\n",
              "          document.querySelector('#df-05a072e8-892e-4ee8-aa5b-67fd8d41387b button.colab-df-convert');\n",
              "        buttonEl.style.display =\n",
              "          google.colab.kernel.accessAllowed ? 'block' : 'none';\n",
              "\n",
              "        async function convertToInteractive(key) {\n",
              "          const element = document.querySelector('#df-05a072e8-892e-4ee8-aa5b-67fd8d41387b');\n",
              "          const dataTable =\n",
              "            await google.colab.kernel.invokeFunction('convertToInteractive',\n",
              "                                                     [key], {});\n",
              "          if (!dataTable) return;\n",
              "\n",
              "          const docLinkHtml = 'Like what you see? Visit the ' +\n",
              "            '<a target=\"_blank\" href=https://colab.research.google.com/notebooks/data_table.ipynb>data table notebook</a>'\n",
              "            + ' to learn more about interactive tables.';\n",
              "          element.innerHTML = '';\n",
              "          dataTable['output_type'] = 'display_data';\n",
              "          await google.colab.output.renderOutput(dataTable, element);\n",
              "          const docLink = document.createElement('div');\n",
              "          docLink.innerHTML = docLinkHtml;\n",
              "          element.appendChild(docLink);\n",
              "        }\n",
              "      </script>\n",
              "    </div>\n",
              "  </div>\n",
              "  "
            ]
          },
          "metadata": {},
          "execution_count": 21
        }
      ]
    },
    {
      "cell_type": "markdown",
      "source": [
        "Map protein ids to gene symbol (preferred name) using `stringInfo`"
      ],
      "metadata": {
        "id": "qnIu0sxktxmR"
      }
    },
    {
      "cell_type": "code",
      "source": [
        "# dict to convert protein_ids to gene symbol\n",
        "stringInfo = {row[0]:row[1] for _,row in stringInfo.iterrows()}\n",
        "\n",
        "ppi['protein1'] = ppi.protein1.map(stringInfo)\n",
        "ppi['protein2'] = ppi.protein2.map(stringInfo)\n",
        "\n",
        "ppi = ppi.dropna().drop_duplicates().reset_index(drop=True)\n",
        "ppi.head()"
      ],
      "metadata": {
        "colab": {
          "base_uri": "https://localhost:8080/",
          "height": 206
        },
        "id": "kC4sD3L9sPcS",
        "outputId": "95b47ea6-b2b1-4ce9-e200-953f7001622b"
      },
      "execution_count": null,
      "outputs": [
        {
          "output_type": "execute_result",
          "data": {
            "text/plain": [
              "  protein1 protein2\n",
              "0     ARF5    ACAP2\n",
              "1     ARF5    RAB1A\n",
              "2     ARF5     COPE\n",
              "3     ARF5    ACAP1\n",
              "4     ARF5    COPZ1"
            ],
            "text/html": [
              "\n",
              "  <div id=\"df-eeaf4665-fad0-4714-9a48-446cf2e50846\">\n",
              "    <div class=\"colab-df-container\">\n",
              "      <div>\n",
              "<style scoped>\n",
              "    .dataframe tbody tr th:only-of-type {\n",
              "        vertical-align: middle;\n",
              "    }\n",
              "\n",
              "    .dataframe tbody tr th {\n",
              "        vertical-align: top;\n",
              "    }\n",
              "\n",
              "    .dataframe thead th {\n",
              "        text-align: right;\n",
              "    }\n",
              "</style>\n",
              "<table border=\"1\" class=\"dataframe\">\n",
              "  <thead>\n",
              "    <tr style=\"text-align: right;\">\n",
              "      <th></th>\n",
              "      <th>protein1</th>\n",
              "      <th>protein2</th>\n",
              "    </tr>\n",
              "  </thead>\n",
              "  <tbody>\n",
              "    <tr>\n",
              "      <th>0</th>\n",
              "      <td>ARF5</td>\n",
              "      <td>ACAP2</td>\n",
              "    </tr>\n",
              "    <tr>\n",
              "      <th>1</th>\n",
              "      <td>ARF5</td>\n",
              "      <td>RAB1A</td>\n",
              "    </tr>\n",
              "    <tr>\n",
              "      <th>2</th>\n",
              "      <td>ARF5</td>\n",
              "      <td>COPE</td>\n",
              "    </tr>\n",
              "    <tr>\n",
              "      <th>3</th>\n",
              "      <td>ARF5</td>\n",
              "      <td>ACAP1</td>\n",
              "    </tr>\n",
              "    <tr>\n",
              "      <th>4</th>\n",
              "      <td>ARF5</td>\n",
              "      <td>COPZ1</td>\n",
              "    </tr>\n",
              "  </tbody>\n",
              "</table>\n",
              "</div>\n",
              "      <button class=\"colab-df-convert\" onclick=\"convertToInteractive('df-eeaf4665-fad0-4714-9a48-446cf2e50846')\"\n",
              "              title=\"Convert this dataframe to an interactive table.\"\n",
              "              style=\"display:none;\">\n",
              "        \n",
              "  <svg xmlns=\"http://www.w3.org/2000/svg\" height=\"24px\"viewBox=\"0 0 24 24\"\n",
              "       width=\"24px\">\n",
              "    <path d=\"M0 0h24v24H0V0z\" fill=\"none\"/>\n",
              "    <path d=\"M18.56 5.44l.94 2.06.94-2.06 2.06-.94-2.06-.94-.94-2.06-.94 2.06-2.06.94zm-11 1L8.5 8.5l.94-2.06 2.06-.94-2.06-.94L8.5 2.5l-.94 2.06-2.06.94zm10 10l.94 2.06.94-2.06 2.06-.94-2.06-.94-.94-2.06-.94 2.06-2.06.94z\"/><path d=\"M17.41 7.96l-1.37-1.37c-.4-.4-.92-.59-1.43-.59-.52 0-1.04.2-1.43.59L10.3 9.45l-7.72 7.72c-.78.78-.78 2.05 0 2.83L4 21.41c.39.39.9.59 1.41.59.51 0 1.02-.2 1.41-.59l7.78-7.78 2.81-2.81c.8-.78.8-2.07 0-2.86zM5.41 20L4 18.59l7.72-7.72 1.47 1.35L5.41 20z\"/>\n",
              "  </svg>\n",
              "      </button>\n",
              "      \n",
              "  <style>\n",
              "    .colab-df-container {\n",
              "      display:flex;\n",
              "      flex-wrap:wrap;\n",
              "      gap: 12px;\n",
              "    }\n",
              "\n",
              "    .colab-df-convert {\n",
              "      background-color: #E8F0FE;\n",
              "      border: none;\n",
              "      border-radius: 50%;\n",
              "      cursor: pointer;\n",
              "      display: none;\n",
              "      fill: #1967D2;\n",
              "      height: 32px;\n",
              "      padding: 0 0 0 0;\n",
              "      width: 32px;\n",
              "    }\n",
              "\n",
              "    .colab-df-convert:hover {\n",
              "      background-color: #E2EBFA;\n",
              "      box-shadow: 0px 1px 2px rgba(60, 64, 67, 0.3), 0px 1px 3px 1px rgba(60, 64, 67, 0.15);\n",
              "      fill: #174EA6;\n",
              "    }\n",
              "\n",
              "    [theme=dark] .colab-df-convert {\n",
              "      background-color: #3B4455;\n",
              "      fill: #D2E3FC;\n",
              "    }\n",
              "\n",
              "    [theme=dark] .colab-df-convert:hover {\n",
              "      background-color: #434B5C;\n",
              "      box-shadow: 0px 1px 3px 1px rgba(0, 0, 0, 0.15);\n",
              "      filter: drop-shadow(0px 1px 2px rgba(0, 0, 0, 0.3));\n",
              "      fill: #FFFFFF;\n",
              "    }\n",
              "  </style>\n",
              "\n",
              "      <script>\n",
              "        const buttonEl =\n",
              "          document.querySelector('#df-eeaf4665-fad0-4714-9a48-446cf2e50846 button.colab-df-convert');\n",
              "        buttonEl.style.display =\n",
              "          google.colab.kernel.accessAllowed ? 'block' : 'none';\n",
              "\n",
              "        async function convertToInteractive(key) {\n",
              "          const element = document.querySelector('#df-eeaf4665-fad0-4714-9a48-446cf2e50846');\n",
              "          const dataTable =\n",
              "            await google.colab.kernel.invokeFunction('convertToInteractive',\n",
              "                                                     [key], {});\n",
              "          if (!dataTable) return;\n",
              "\n",
              "          const docLinkHtml = 'Like what you see? Visit the ' +\n",
              "            '<a target=\"_blank\" href=https://colab.research.google.com/notebooks/data_table.ipynb>data table notebook</a>'\n",
              "            + ' to learn more about interactive tables.';\n",
              "          element.innerHTML = '';\n",
              "          dataTable['output_type'] = 'display_data';\n",
              "          await google.colab.output.renderOutput(dataTable, element);\n",
              "          const docLink = document.createElement('div');\n",
              "          docLink.innerHTML = docLinkHtml;\n",
              "          element.appendChild(docLink);\n",
              "        }\n",
              "      </script>\n",
              "    </div>\n",
              "  </div>\n",
              "  "
            ]
          },
          "metadata": {},
          "execution_count": 22
        }
      ]
    },
    {
      "cell_type": "markdown",
      "source": [
        "### Represent ppi as triples\n",
        "ie as head (node), relation(edge), tail(node). In addition, I added two columns indicated the entity type.The labels will be needed (as will be shown later). In this case, they are all genes.\n",
        "\n",
        "\n",
        "This format (of representing facts in the 5 columns) will be consistent for the rest of this notebook. "
      ],
      "metadata": {
        "id": "uoXa-Ck4EulV"
      }
    },
    {
      "cell_type": "code",
      "source": [
        "ppi = ppi.rename(columns={'protein1':'head_entity','protein2':'tail_entity' })\n",
        "ppi[\"relation\"] = \"interacts_with\"\n",
        "ppi[\"head_label\"] = \"gene\"\n",
        "ppi[\"tail_label\"] = \"gene\"\n",
        "\n",
        "ppi = ppi[[\"head_entity\",\"relation\",\"tail_entity\",\"head_label\",\"tail_label\"]]\n",
        "ppi.head()"
      ],
      "metadata": {
        "colab": {
          "base_uri": "https://localhost:8080/",
          "height": 206
        },
        "id": "ePSua5Jo1K95",
        "outputId": "fbcc15ef-73e4-4ea5-c4ac-846ec7d6e323"
      },
      "execution_count": null,
      "outputs": [
        {
          "output_type": "execute_result",
          "data": {
            "text/plain": [
              "  head_entity        relation tail_entity head_label tail_label\n",
              "0        ARF5  interacts_with       ACAP2       gene       gene\n",
              "1        ARF5  interacts_with       RAB1A       gene       gene\n",
              "2        ARF5  interacts_with        COPE       gene       gene\n",
              "3        ARF5  interacts_with       ACAP1       gene       gene\n",
              "4        ARF5  interacts_with       COPZ1       gene       gene"
            ],
            "text/html": [
              "\n",
              "  <div id=\"df-39090ec9-4011-4832-b1ed-296c14befc46\">\n",
              "    <div class=\"colab-df-container\">\n",
              "      <div>\n",
              "<style scoped>\n",
              "    .dataframe tbody tr th:only-of-type {\n",
              "        vertical-align: middle;\n",
              "    }\n",
              "\n",
              "    .dataframe tbody tr th {\n",
              "        vertical-align: top;\n",
              "    }\n",
              "\n",
              "    .dataframe thead th {\n",
              "        text-align: right;\n",
              "    }\n",
              "</style>\n",
              "<table border=\"1\" class=\"dataframe\">\n",
              "  <thead>\n",
              "    <tr style=\"text-align: right;\">\n",
              "      <th></th>\n",
              "      <th>head_entity</th>\n",
              "      <th>relation</th>\n",
              "      <th>tail_entity</th>\n",
              "      <th>head_label</th>\n",
              "      <th>tail_label</th>\n",
              "    </tr>\n",
              "  </thead>\n",
              "  <tbody>\n",
              "    <tr>\n",
              "      <th>0</th>\n",
              "      <td>ARF5</td>\n",
              "      <td>interacts_with</td>\n",
              "      <td>ACAP2</td>\n",
              "      <td>gene</td>\n",
              "      <td>gene</td>\n",
              "    </tr>\n",
              "    <tr>\n",
              "      <th>1</th>\n",
              "      <td>ARF5</td>\n",
              "      <td>interacts_with</td>\n",
              "      <td>RAB1A</td>\n",
              "      <td>gene</td>\n",
              "      <td>gene</td>\n",
              "    </tr>\n",
              "    <tr>\n",
              "      <th>2</th>\n",
              "      <td>ARF5</td>\n",
              "      <td>interacts_with</td>\n",
              "      <td>COPE</td>\n",
              "      <td>gene</td>\n",
              "      <td>gene</td>\n",
              "    </tr>\n",
              "    <tr>\n",
              "      <th>3</th>\n",
              "      <td>ARF5</td>\n",
              "      <td>interacts_with</td>\n",
              "      <td>ACAP1</td>\n",
              "      <td>gene</td>\n",
              "      <td>gene</td>\n",
              "    </tr>\n",
              "    <tr>\n",
              "      <th>4</th>\n",
              "      <td>ARF5</td>\n",
              "      <td>interacts_with</td>\n",
              "      <td>COPZ1</td>\n",
              "      <td>gene</td>\n",
              "      <td>gene</td>\n",
              "    </tr>\n",
              "  </tbody>\n",
              "</table>\n",
              "</div>\n",
              "      <button class=\"colab-df-convert\" onclick=\"convertToInteractive('df-39090ec9-4011-4832-b1ed-296c14befc46')\"\n",
              "              title=\"Convert this dataframe to an interactive table.\"\n",
              "              style=\"display:none;\">\n",
              "        \n",
              "  <svg xmlns=\"http://www.w3.org/2000/svg\" height=\"24px\"viewBox=\"0 0 24 24\"\n",
              "       width=\"24px\">\n",
              "    <path d=\"M0 0h24v24H0V0z\" fill=\"none\"/>\n",
              "    <path d=\"M18.56 5.44l.94 2.06.94-2.06 2.06-.94-2.06-.94-.94-2.06-.94 2.06-2.06.94zm-11 1L8.5 8.5l.94-2.06 2.06-.94-2.06-.94L8.5 2.5l-.94 2.06-2.06.94zm10 10l.94 2.06.94-2.06 2.06-.94-2.06-.94-.94-2.06-.94 2.06-2.06.94z\"/><path d=\"M17.41 7.96l-1.37-1.37c-.4-.4-.92-.59-1.43-.59-.52 0-1.04.2-1.43.59L10.3 9.45l-7.72 7.72c-.78.78-.78 2.05 0 2.83L4 21.41c.39.39.9.59 1.41.59.51 0 1.02-.2 1.41-.59l7.78-7.78 2.81-2.81c.8-.78.8-2.07 0-2.86zM5.41 20L4 18.59l7.72-7.72 1.47 1.35L5.41 20z\"/>\n",
              "  </svg>\n",
              "      </button>\n",
              "      \n",
              "  <style>\n",
              "    .colab-df-container {\n",
              "      display:flex;\n",
              "      flex-wrap:wrap;\n",
              "      gap: 12px;\n",
              "    }\n",
              "\n",
              "    .colab-df-convert {\n",
              "      background-color: #E8F0FE;\n",
              "      border: none;\n",
              "      border-radius: 50%;\n",
              "      cursor: pointer;\n",
              "      display: none;\n",
              "      fill: #1967D2;\n",
              "      height: 32px;\n",
              "      padding: 0 0 0 0;\n",
              "      width: 32px;\n",
              "    }\n",
              "\n",
              "    .colab-df-convert:hover {\n",
              "      background-color: #E2EBFA;\n",
              "      box-shadow: 0px 1px 2px rgba(60, 64, 67, 0.3), 0px 1px 3px 1px rgba(60, 64, 67, 0.15);\n",
              "      fill: #174EA6;\n",
              "    }\n",
              "\n",
              "    [theme=dark] .colab-df-convert {\n",
              "      background-color: #3B4455;\n",
              "      fill: #D2E3FC;\n",
              "    }\n",
              "\n",
              "    [theme=dark] .colab-df-convert:hover {\n",
              "      background-color: #434B5C;\n",
              "      box-shadow: 0px 1px 3px 1px rgba(0, 0, 0, 0.15);\n",
              "      filter: drop-shadow(0px 1px 2px rgba(0, 0, 0, 0.3));\n",
              "      fill: #FFFFFF;\n",
              "    }\n",
              "  </style>\n",
              "\n",
              "      <script>\n",
              "        const buttonEl =\n",
              "          document.querySelector('#df-39090ec9-4011-4832-b1ed-296c14befc46 button.colab-df-convert');\n",
              "        buttonEl.style.display =\n",
              "          google.colab.kernel.accessAllowed ? 'block' : 'none';\n",
              "\n",
              "        async function convertToInteractive(key) {\n",
              "          const element = document.querySelector('#df-39090ec9-4011-4832-b1ed-296c14befc46');\n",
              "          const dataTable =\n",
              "            await google.colab.kernel.invokeFunction('convertToInteractive',\n",
              "                                                     [key], {});\n",
              "          if (!dataTable) return;\n",
              "\n",
              "          const docLinkHtml = 'Like what you see? Visit the ' +\n",
              "            '<a target=\"_blank\" href=https://colab.research.google.com/notebooks/data_table.ipynb>data table notebook</a>'\n",
              "            + ' to learn more about interactive tables.';\n",
              "          element.innerHTML = '';\n",
              "          dataTable['output_type'] = 'display_data';\n",
              "          await google.colab.output.renderOutput(dataTable, element);\n",
              "          const docLink = document.createElement('div');\n",
              "          docLink.innerHTML = docLinkHtml;\n",
              "          element.appendChild(docLink);\n",
              "        }\n",
              "      </script>\n",
              "    </div>\n",
              "  </div>\n",
              "  "
            ]
          },
          "metadata": {},
          "execution_count": 23
        }
      ]
    },
    {
      "cell_type": "code",
      "source": [
        "ppi.shape"
      ],
      "metadata": {
        "colab": {
          "base_uri": "https://localhost:8080/"
        },
        "id": "IpvaCmRHf5ku",
        "outputId": "dcddd2f1-9339-4b46-a3ea-804df5241b03"
      },
      "execution_count": null,
      "outputs": [
        {
          "output_type": "execute_result",
          "data": {
            "text/plain": [
              "(630733, 5)"
            ]
          },
          "metadata": {},
          "execution_count": 24
        }
      ]
    },
    {
      "cell_type": "markdown",
      "source": [
        "`geneList` contains list of unique proteins in the ppi network"
      ],
      "metadata": {
        "id": "hhh7qhI5ASfe"
      }
    },
    {
      "cell_type": "code",
      "source": [
        "geneList = set(ppi[\"head_entity\"]).union(set(ppi[\"tail_entity\"]))\n",
        "len(geneList)"
      ],
      "metadata": {
        "colab": {
          "base_uri": "https://localhost:8080/"
        },
        "id": "-hM5IxQewtEz",
        "outputId": "aafd7631-208e-4b31-be18-2831a6f88e7b"
      },
      "execution_count": null,
      "outputs": [
        {
          "output_type": "execute_result",
          "data": {
            "text/plain": [
              "17771"
            ]
          },
          "metadata": {},
          "execution_count": 25
        }
      ]
    },
    {
      "cell_type": "markdown",
      "source": [
        "### **Drug Data**\n",
        "The file **\"drugs_TTD.csv\"** contains list of selected drugs for this study (see 1.0_preprocessing.ipynb)"
      ],
      "metadata": {
        "id": "Bp-HobvruvKh"
      }
    },
    {
      "cell_type": "code",
      "source": [
        "df = pd.read_csv(fp + \"drugs_TTD.csv\")\n",
        "df.head()"
      ],
      "metadata": {
        "colab": {
          "base_uri": "https://localhost:8080/",
          "height": 322
        },
        "id": "SiyEpelAvnuQ",
        "outputId": "246998b0-1ed3-4a8c-a4cf-dbce270318d6"
      },
      "execution_count": null,
      "outputs": [
        {
          "output_type": "execute_result",
          "data": {
            "text/plain": [
              "  drug_id            drug_name    status      cas_rn  pubchem  \\\n",
              "0  D00AEQ  Hydroxyprogesterone  Approved     68-96-2     6238   \n",
              "1  D00AMQ              Ethanol  Approved     64-17-5      702   \n",
              "2  D00AOJ            Docosanol  Approved    661-19-8    12620   \n",
              "3  D00AWT       Propericiazine  Approved   2622-26-6     4747   \n",
              "4  D00AXJ           Miconazole  Approved  22916-47-8     4189   \n",
              "\n",
              "                                              smiles  \n",
              "0        CC(=O)C1(CCC2C1(CCC3C2CCC4=CC(=O)CCC34C)C)O  \n",
              "1                                                CCO  \n",
              "2                            CCCCCCCCCCCCCCCCCCCCCCO  \n",
              "3      C1CN(CCC1O)CCCN2C3=CC=CC=C3SC4=C2C=C(C=C4)C#N  \n",
              "4  C1=CC(=C(C=C1Cl)Cl)COC(CN2C=CN=C2)C3=C(C=C(C=C...  "
            ],
            "text/html": [
              "\n",
              "  <div id=\"df-755b6038-02b6-49ad-a18e-5424c18f42ff\">\n",
              "    <div class=\"colab-df-container\">\n",
              "      <div>\n",
              "<style scoped>\n",
              "    .dataframe tbody tr th:only-of-type {\n",
              "        vertical-align: middle;\n",
              "    }\n",
              "\n",
              "    .dataframe tbody tr th {\n",
              "        vertical-align: top;\n",
              "    }\n",
              "\n",
              "    .dataframe thead th {\n",
              "        text-align: right;\n",
              "    }\n",
              "</style>\n",
              "<table border=\"1\" class=\"dataframe\">\n",
              "  <thead>\n",
              "    <tr style=\"text-align: right;\">\n",
              "      <th></th>\n",
              "      <th>drug_id</th>\n",
              "      <th>drug_name</th>\n",
              "      <th>status</th>\n",
              "      <th>cas_rn</th>\n",
              "      <th>pubchem</th>\n",
              "      <th>smiles</th>\n",
              "    </tr>\n",
              "  </thead>\n",
              "  <tbody>\n",
              "    <tr>\n",
              "      <th>0</th>\n",
              "      <td>D00AEQ</td>\n",
              "      <td>Hydroxyprogesterone</td>\n",
              "      <td>Approved</td>\n",
              "      <td>68-96-2</td>\n",
              "      <td>6238</td>\n",
              "      <td>CC(=O)C1(CCC2C1(CCC3C2CCC4=CC(=O)CCC34C)C)O</td>\n",
              "    </tr>\n",
              "    <tr>\n",
              "      <th>1</th>\n",
              "      <td>D00AMQ</td>\n",
              "      <td>Ethanol</td>\n",
              "      <td>Approved</td>\n",
              "      <td>64-17-5</td>\n",
              "      <td>702</td>\n",
              "      <td>CCO</td>\n",
              "    </tr>\n",
              "    <tr>\n",
              "      <th>2</th>\n",
              "      <td>D00AOJ</td>\n",
              "      <td>Docosanol</td>\n",
              "      <td>Approved</td>\n",
              "      <td>661-19-8</td>\n",
              "      <td>12620</td>\n",
              "      <td>CCCCCCCCCCCCCCCCCCCCCCO</td>\n",
              "    </tr>\n",
              "    <tr>\n",
              "      <th>3</th>\n",
              "      <td>D00AWT</td>\n",
              "      <td>Propericiazine</td>\n",
              "      <td>Approved</td>\n",
              "      <td>2622-26-6</td>\n",
              "      <td>4747</td>\n",
              "      <td>C1CN(CCC1O)CCCN2C3=CC=CC=C3SC4=C2C=C(C=C4)C#N</td>\n",
              "    </tr>\n",
              "    <tr>\n",
              "      <th>4</th>\n",
              "      <td>D00AXJ</td>\n",
              "      <td>Miconazole</td>\n",
              "      <td>Approved</td>\n",
              "      <td>22916-47-8</td>\n",
              "      <td>4189</td>\n",
              "      <td>C1=CC(=C(C=C1Cl)Cl)COC(CN2C=CN=C2)C3=C(C=C(C=C...</td>\n",
              "    </tr>\n",
              "  </tbody>\n",
              "</table>\n",
              "</div>\n",
              "      <button class=\"colab-df-convert\" onclick=\"convertToInteractive('df-755b6038-02b6-49ad-a18e-5424c18f42ff')\"\n",
              "              title=\"Convert this dataframe to an interactive table.\"\n",
              "              style=\"display:none;\">\n",
              "        \n",
              "  <svg xmlns=\"http://www.w3.org/2000/svg\" height=\"24px\"viewBox=\"0 0 24 24\"\n",
              "       width=\"24px\">\n",
              "    <path d=\"M0 0h24v24H0V0z\" fill=\"none\"/>\n",
              "    <path d=\"M18.56 5.44l.94 2.06.94-2.06 2.06-.94-2.06-.94-.94-2.06-.94 2.06-2.06.94zm-11 1L8.5 8.5l.94-2.06 2.06-.94-2.06-.94L8.5 2.5l-.94 2.06-2.06.94zm10 10l.94 2.06.94-2.06 2.06-.94-2.06-.94-.94-2.06-.94 2.06-2.06.94z\"/><path d=\"M17.41 7.96l-1.37-1.37c-.4-.4-.92-.59-1.43-.59-.52 0-1.04.2-1.43.59L10.3 9.45l-7.72 7.72c-.78.78-.78 2.05 0 2.83L4 21.41c.39.39.9.59 1.41.59.51 0 1.02-.2 1.41-.59l7.78-7.78 2.81-2.81c.8-.78.8-2.07 0-2.86zM5.41 20L4 18.59l7.72-7.72 1.47 1.35L5.41 20z\"/>\n",
              "  </svg>\n",
              "      </button>\n",
              "      \n",
              "  <style>\n",
              "    .colab-df-container {\n",
              "      display:flex;\n",
              "      flex-wrap:wrap;\n",
              "      gap: 12px;\n",
              "    }\n",
              "\n",
              "    .colab-df-convert {\n",
              "      background-color: #E8F0FE;\n",
              "      border: none;\n",
              "      border-radius: 50%;\n",
              "      cursor: pointer;\n",
              "      display: none;\n",
              "      fill: #1967D2;\n",
              "      height: 32px;\n",
              "      padding: 0 0 0 0;\n",
              "      width: 32px;\n",
              "    }\n",
              "\n",
              "    .colab-df-convert:hover {\n",
              "      background-color: #E2EBFA;\n",
              "      box-shadow: 0px 1px 2px rgba(60, 64, 67, 0.3), 0px 1px 3px 1px rgba(60, 64, 67, 0.15);\n",
              "      fill: #174EA6;\n",
              "    }\n",
              "\n",
              "    [theme=dark] .colab-df-convert {\n",
              "      background-color: #3B4455;\n",
              "      fill: #D2E3FC;\n",
              "    }\n",
              "\n",
              "    [theme=dark] .colab-df-convert:hover {\n",
              "      background-color: #434B5C;\n",
              "      box-shadow: 0px 1px 3px 1px rgba(0, 0, 0, 0.15);\n",
              "      filter: drop-shadow(0px 1px 2px rgba(0, 0, 0, 0.3));\n",
              "      fill: #FFFFFF;\n",
              "    }\n",
              "  </style>\n",
              "\n",
              "      <script>\n",
              "        const buttonEl =\n",
              "          document.querySelector('#df-755b6038-02b6-49ad-a18e-5424c18f42ff button.colab-df-convert');\n",
              "        buttonEl.style.display =\n",
              "          google.colab.kernel.accessAllowed ? 'block' : 'none';\n",
              "\n",
              "        async function convertToInteractive(key) {\n",
              "          const element = document.querySelector('#df-755b6038-02b6-49ad-a18e-5424c18f42ff');\n",
              "          const dataTable =\n",
              "            await google.colab.kernel.invokeFunction('convertToInteractive',\n",
              "                                                     [key], {});\n",
              "          if (!dataTable) return;\n",
              "\n",
              "          const docLinkHtml = 'Like what you see? Visit the ' +\n",
              "            '<a target=\"_blank\" href=https://colab.research.google.com/notebooks/data_table.ipynb>data table notebook</a>'\n",
              "            + ' to learn more about interactive tables.';\n",
              "          element.innerHTML = '';\n",
              "          dataTable['output_type'] = 'display_data';\n",
              "          await google.colab.output.renderOutput(dataTable, element);\n",
              "          const docLink = document.createElement('div');\n",
              "          docLink.innerHTML = docLinkHtml;\n",
              "          element.appendChild(docLink);\n",
              "        }\n",
              "      </script>\n",
              "    </div>\n",
              "  </div>\n",
              "  "
            ]
          },
          "metadata": {},
          "execution_count": 26
        }
      ]
    },
    {
      "cell_type": "code",
      "source": [
        "drug2cas = {row[1]:row[3] for _, row in df.iterrows()}\n",
        "drugList = drug2cas.values()\n",
        "len(drugList)"
      ],
      "metadata": {
        "colab": {
          "base_uri": "https://localhost:8080/"
        },
        "id": "d-5qkEY6vzd9",
        "outputId": "efa2f5cc-425b-4048-c336-412e84e345f2"
      },
      "execution_count": null,
      "outputs": [
        {
          "output_type": "execute_result",
          "data": {
            "text/plain": [
              "2800"
            ]
          },
          "metadata": {},
          "execution_count": 27
        }
      ]
    },
    {
      "cell_type": "markdown",
      "source": [
        "- `drug2cas`: a utility dict to convert drug name to CAS number\n",
        "- `drugList`: list of the selected drugs. cas_rn is used for easy integration with other data sources"
      ],
      "metadata": {
        "id": "3d1znM9FwSJr"
      }
    },
    {
      "cell_type": "markdown",
      "source": [
        "## **Drug-target**\n",
        "Drugs and their protein targets. Extracted from TTD (see 1.0_preprocessing.ipynb)"
      ],
      "metadata": {
        "id": "vxpgifZ88E6U"
      }
    },
    {
      "cell_type": "code",
      "source": [
        "drug_target = pd.read_csv(fp+\"drug_target.csv\")\n",
        "drug_target.head()"
      ],
      "metadata": {
        "colab": {
          "base_uri": "https://localhost:8080/",
          "height": 320
        },
        "outputId": "679dda19-0496-4c34-8d0a-aa5488e4556b",
        "id": "uR6TTJHw8E6V"
      },
      "execution_count": null,
      "outputs": [
        {
          "output_type": "execute_result",
          "data": {
            "text/plain": [
              "  TargetID  DrugID Highest_status         MOA   uniprot_id  \\\n",
              "0   T03818  D0JU5X        Phase 3  Antagonist  PPARG_HUMAN   \n",
              "1   T51407  D00LNW        Phase 3   Inhibitor   XPO1_HUMAN   \n",
              "2   T40332  D0FT4R        Phase 3   Inhibitor   ELNE_HUMAN   \n",
              "3   T22839  D0FT4R        Phase 3   Inhibitor  CELA1_HUMAN   \n",
              "4   T60529  D0U3EP        Phase 3   Modulator   PGH1_HUMAN   \n",
              "\n",
              "                            target_names        cas_rn  \n",
              "0  PPAR-gamma messenger RNA (PPARG mRNA)   218600-53-4  \n",
              "1                      Exportin-1 (XPO1)  1393477-72-9  \n",
              "2               Neutrophil elastase (NE)   127373-66-4  \n",
              "3          Pancreatic elastase 1 (CELA1)   127373-66-4  \n",
              "4   Prostaglandin G/H synthase 1 (COX-1)      501-36-0  "
            ],
            "text/html": [
              "\n",
              "  <div id=\"df-5afe06ad-d3bd-4199-b98c-b0d55e369922\">\n",
              "    <div class=\"colab-df-container\">\n",
              "      <div>\n",
              "<style scoped>\n",
              "    .dataframe tbody tr th:only-of-type {\n",
              "        vertical-align: middle;\n",
              "    }\n",
              "\n",
              "    .dataframe tbody tr th {\n",
              "        vertical-align: top;\n",
              "    }\n",
              "\n",
              "    .dataframe thead th {\n",
              "        text-align: right;\n",
              "    }\n",
              "</style>\n",
              "<table border=\"1\" class=\"dataframe\">\n",
              "  <thead>\n",
              "    <tr style=\"text-align: right;\">\n",
              "      <th></th>\n",
              "      <th>TargetID</th>\n",
              "      <th>DrugID</th>\n",
              "      <th>Highest_status</th>\n",
              "      <th>MOA</th>\n",
              "      <th>uniprot_id</th>\n",
              "      <th>target_names</th>\n",
              "      <th>cas_rn</th>\n",
              "    </tr>\n",
              "  </thead>\n",
              "  <tbody>\n",
              "    <tr>\n",
              "      <th>0</th>\n",
              "      <td>T03818</td>\n",
              "      <td>D0JU5X</td>\n",
              "      <td>Phase 3</td>\n",
              "      <td>Antagonist</td>\n",
              "      <td>PPARG_HUMAN</td>\n",
              "      <td>PPAR-gamma messenger RNA (PPARG mRNA)</td>\n",
              "      <td>218600-53-4</td>\n",
              "    </tr>\n",
              "    <tr>\n",
              "      <th>1</th>\n",
              "      <td>T51407</td>\n",
              "      <td>D00LNW</td>\n",
              "      <td>Phase 3</td>\n",
              "      <td>Inhibitor</td>\n",
              "      <td>XPO1_HUMAN</td>\n",
              "      <td>Exportin-1 (XPO1)</td>\n",
              "      <td>1393477-72-9</td>\n",
              "    </tr>\n",
              "    <tr>\n",
              "      <th>2</th>\n",
              "      <td>T40332</td>\n",
              "      <td>D0FT4R</td>\n",
              "      <td>Phase 3</td>\n",
              "      <td>Inhibitor</td>\n",
              "      <td>ELNE_HUMAN</td>\n",
              "      <td>Neutrophil elastase (NE)</td>\n",
              "      <td>127373-66-4</td>\n",
              "    </tr>\n",
              "    <tr>\n",
              "      <th>3</th>\n",
              "      <td>T22839</td>\n",
              "      <td>D0FT4R</td>\n",
              "      <td>Phase 3</td>\n",
              "      <td>Inhibitor</td>\n",
              "      <td>CELA1_HUMAN</td>\n",
              "      <td>Pancreatic elastase 1 (CELA1)</td>\n",
              "      <td>127373-66-4</td>\n",
              "    </tr>\n",
              "    <tr>\n",
              "      <th>4</th>\n",
              "      <td>T60529</td>\n",
              "      <td>D0U3EP</td>\n",
              "      <td>Phase 3</td>\n",
              "      <td>Modulator</td>\n",
              "      <td>PGH1_HUMAN</td>\n",
              "      <td>Prostaglandin G/H synthase 1 (COX-1)</td>\n",
              "      <td>501-36-0</td>\n",
              "    </tr>\n",
              "  </tbody>\n",
              "</table>\n",
              "</div>\n",
              "      <button class=\"colab-df-convert\" onclick=\"convertToInteractive('df-5afe06ad-d3bd-4199-b98c-b0d55e369922')\"\n",
              "              title=\"Convert this dataframe to an interactive table.\"\n",
              "              style=\"display:none;\">\n",
              "        \n",
              "  <svg xmlns=\"http://www.w3.org/2000/svg\" height=\"24px\"viewBox=\"0 0 24 24\"\n",
              "       width=\"24px\">\n",
              "    <path d=\"M0 0h24v24H0V0z\" fill=\"none\"/>\n",
              "    <path d=\"M18.56 5.44l.94 2.06.94-2.06 2.06-.94-2.06-.94-.94-2.06-.94 2.06-2.06.94zm-11 1L8.5 8.5l.94-2.06 2.06-.94-2.06-.94L8.5 2.5l-.94 2.06-2.06.94zm10 10l.94 2.06.94-2.06 2.06-.94-2.06-.94-.94-2.06-.94 2.06-2.06.94z\"/><path d=\"M17.41 7.96l-1.37-1.37c-.4-.4-.92-.59-1.43-.59-.52 0-1.04.2-1.43.59L10.3 9.45l-7.72 7.72c-.78.78-.78 2.05 0 2.83L4 21.41c.39.39.9.59 1.41.59.51 0 1.02-.2 1.41-.59l7.78-7.78 2.81-2.81c.8-.78.8-2.07 0-2.86zM5.41 20L4 18.59l7.72-7.72 1.47 1.35L5.41 20z\"/>\n",
              "  </svg>\n",
              "      </button>\n",
              "      \n",
              "  <style>\n",
              "    .colab-df-container {\n",
              "      display:flex;\n",
              "      flex-wrap:wrap;\n",
              "      gap: 12px;\n",
              "    }\n",
              "\n",
              "    .colab-df-convert {\n",
              "      background-color: #E8F0FE;\n",
              "      border: none;\n",
              "      border-radius: 50%;\n",
              "      cursor: pointer;\n",
              "      display: none;\n",
              "      fill: #1967D2;\n",
              "      height: 32px;\n",
              "      padding: 0 0 0 0;\n",
              "      width: 32px;\n",
              "    }\n",
              "\n",
              "    .colab-df-convert:hover {\n",
              "      background-color: #E2EBFA;\n",
              "      box-shadow: 0px 1px 2px rgba(60, 64, 67, 0.3), 0px 1px 3px 1px rgba(60, 64, 67, 0.15);\n",
              "      fill: #174EA6;\n",
              "    }\n",
              "\n",
              "    [theme=dark] .colab-df-convert {\n",
              "      background-color: #3B4455;\n",
              "      fill: #D2E3FC;\n",
              "    }\n",
              "\n",
              "    [theme=dark] .colab-df-convert:hover {\n",
              "      background-color: #434B5C;\n",
              "      box-shadow: 0px 1px 3px 1px rgba(0, 0, 0, 0.15);\n",
              "      filter: drop-shadow(0px 1px 2px rgba(0, 0, 0, 0.3));\n",
              "      fill: #FFFFFF;\n",
              "    }\n",
              "  </style>\n",
              "\n",
              "      <script>\n",
              "        const buttonEl =\n",
              "          document.querySelector('#df-5afe06ad-d3bd-4199-b98c-b0d55e369922 button.colab-df-convert');\n",
              "        buttonEl.style.display =\n",
              "          google.colab.kernel.accessAllowed ? 'block' : 'none';\n",
              "\n",
              "        async function convertToInteractive(key) {\n",
              "          const element = document.querySelector('#df-5afe06ad-d3bd-4199-b98c-b0d55e369922');\n",
              "          const dataTable =\n",
              "            await google.colab.kernel.invokeFunction('convertToInteractive',\n",
              "                                                     [key], {});\n",
              "          if (!dataTable) return;\n",
              "\n",
              "          const docLinkHtml = 'Like what you see? Visit the ' +\n",
              "            '<a target=\"_blank\" href=https://colab.research.google.com/notebooks/data_table.ipynb>data table notebook</a>'\n",
              "            + ' to learn more about interactive tables.';\n",
              "          element.innerHTML = '';\n",
              "          dataTable['output_type'] = 'display_data';\n",
              "          await google.colab.output.renderOutput(dataTable, element);\n",
              "          const docLink = document.createElement('div');\n",
              "          docLink.innerHTML = docLinkHtml;\n",
              "          element.appendChild(docLink);\n",
              "        }\n",
              "      </script>\n",
              "    </div>\n",
              "  </div>\n",
              "  "
            ]
          },
          "metadata": {},
          "execution_count": 28
        }
      ]
    },
    {
      "cell_type": "markdown",
      "source": [
        "### Map Uniprot ids to gene symbol\n",
        "\n",
        "\"CTD_genes_9606.csv\" contains mapping of entrez ids to gene symbols"
      ],
      "metadata": {
        "id": "Hpmx6f528E6V"
      }
    },
    {
      "cell_type": "code",
      "source": [
        "df = pd.read_csv(fp+\"CTD_genes_9606.csv\")\n",
        "df.head()"
      ],
      "metadata": {
        "id": "EDJr_iG58E6V"
      },
      "execution_count": null,
      "outputs": []
    },
    {
      "cell_type": "code",
      "source": [
        "entrez2symbol ={row[3]:row[0] for _,row in df.iterrows()}"
      ],
      "metadata": {
        "id": "V2G95xTm8E6W"
      },
      "execution_count": null,
      "outputs": []
    },
    {
      "cell_type": "markdown",
      "source": [
        "The file \"HUMAN_9606_idmapping_selected.tab\"contains mapping of uniprot_ids to entrez ids\n",
        "\n",
        "https://ftp.uniprot.org/pub/databases/uniprot/current_release/knowledgebase/idmapping/by_organism/HUMAN_9606_idmapping_selected.tab.gz) "
      ],
      "metadata": {
        "id": "VB8ef-Q586qz"
      }
    },
    {
      "cell_type": "code",
      "source": [
        "column_names = [\"UniProtKB-AC\", \"UniProtKB-ID\", \"GeneID\", \"RefSeq\", \"GI\", \"PDB\", \"GO\",\n",
        "                \"UniRef100\", \"UniRef90\", \"UniRef50\", \"UniParc\", \"PIR\", \"NCBI-taxon\",\n",
        "                \"MIM\", \"UniGene\", \"PubMed\", \"EMBL\", \"EMBL-CDS\", \"Ensembl\",\"Ensembl_TRS\", \n",
        "                \"Ensembl_PRO\", \"Additional PubMed\"]\n",
        "\n",
        "df = pd.read_csv(\"/content/HUMAN_9606_idmapping_selected.tab\", sep=\"\\t\", header=None, names=column_names)\n",
        "df.head(2)"
      ],
      "metadata": {
        "id": "EGzpVNWY8E6W"
      },
      "execution_count": null,
      "outputs": []
    },
    {
      "cell_type": "code",
      "source": [
        "uniprot2entrez = {row[1]:row[2] for _,row in df.iterrows()}"
      ],
      "metadata": {
        "id": "jdoDBxc98E6W"
      },
      "execution_count": null,
      "outputs": []
    },
    {
      "cell_type": "markdown",
      "source": [
        "Create columns for entrez id and gene symbols in `drug_target`"
      ],
      "metadata": {
        "id": "1uZApUWh8E6W"
      }
    },
    {
      "cell_type": "code",
      "source": [
        "drug_target[\"entrez_id\"] = drug_target[\"uniprot_id\"].map(uniprot2entrez)\n",
        "drug_target.dropna(inplace=True)\n",
        "\n",
        "drug_target[\"entrez_id\"] = pd.to_numeric(drug_target[\"entrez_id\"], errors='coerce')\n",
        "drug_target[\"gene_symbol\"] = drug_target[\"entrez_id\"].map(entrez2symbol)\n",
        "drug_target = drug_target.dropna().reset_index(drop=True)\n",
        "\n",
        "drug_target = drug_target[[\"cas_rn\", \"gene_symbol\"]]\n",
        "drug_target.head()"
      ],
      "metadata": {
        "colab": {
          "base_uri": "https://localhost:8080/",
          "height": 206
        },
        "outputId": "83d13520-0339-4923-cdf9-e16f1170329d",
        "id": "UyAk8QwF8E6W"
      },
      "execution_count": null,
      "outputs": [
        {
          "output_type": "execute_result",
          "data": {
            "text/plain": [
              "         cas_rn gene_symbol\n",
              "0   218600-53-4       PPARG\n",
              "1  1393477-72-9        XPO1\n",
              "2   127373-66-4       ELANE\n",
              "3   127373-66-4       CELA1\n",
              "4      501-36-0       PTGS1"
            ],
            "text/html": [
              "\n",
              "  <div id=\"df-a5c72e64-7be6-44e3-9b1c-762b22049ffc\">\n",
              "    <div class=\"colab-df-container\">\n",
              "      <div>\n",
              "<style scoped>\n",
              "    .dataframe tbody tr th:only-of-type {\n",
              "        vertical-align: middle;\n",
              "    }\n",
              "\n",
              "    .dataframe tbody tr th {\n",
              "        vertical-align: top;\n",
              "    }\n",
              "\n",
              "    .dataframe thead th {\n",
              "        text-align: right;\n",
              "    }\n",
              "</style>\n",
              "<table border=\"1\" class=\"dataframe\">\n",
              "  <thead>\n",
              "    <tr style=\"text-align: right;\">\n",
              "      <th></th>\n",
              "      <th>cas_rn</th>\n",
              "      <th>gene_symbol</th>\n",
              "    </tr>\n",
              "  </thead>\n",
              "  <tbody>\n",
              "    <tr>\n",
              "      <th>0</th>\n",
              "      <td>218600-53-4</td>\n",
              "      <td>PPARG</td>\n",
              "    </tr>\n",
              "    <tr>\n",
              "      <th>1</th>\n",
              "      <td>1393477-72-9</td>\n",
              "      <td>XPO1</td>\n",
              "    </tr>\n",
              "    <tr>\n",
              "      <th>2</th>\n",
              "      <td>127373-66-4</td>\n",
              "      <td>ELANE</td>\n",
              "    </tr>\n",
              "    <tr>\n",
              "      <th>3</th>\n",
              "      <td>127373-66-4</td>\n",
              "      <td>CELA1</td>\n",
              "    </tr>\n",
              "    <tr>\n",
              "      <th>4</th>\n",
              "      <td>501-36-0</td>\n",
              "      <td>PTGS1</td>\n",
              "    </tr>\n",
              "  </tbody>\n",
              "</table>\n",
              "</div>\n",
              "      <button class=\"colab-df-convert\" onclick=\"convertToInteractive('df-a5c72e64-7be6-44e3-9b1c-762b22049ffc')\"\n",
              "              title=\"Convert this dataframe to an interactive table.\"\n",
              "              style=\"display:none;\">\n",
              "        \n",
              "  <svg xmlns=\"http://www.w3.org/2000/svg\" height=\"24px\"viewBox=\"0 0 24 24\"\n",
              "       width=\"24px\">\n",
              "    <path d=\"M0 0h24v24H0V0z\" fill=\"none\"/>\n",
              "    <path d=\"M18.56 5.44l.94 2.06.94-2.06 2.06-.94-2.06-.94-.94-2.06-.94 2.06-2.06.94zm-11 1L8.5 8.5l.94-2.06 2.06-.94-2.06-.94L8.5 2.5l-.94 2.06-2.06.94zm10 10l.94 2.06.94-2.06 2.06-.94-2.06-.94-.94-2.06-.94 2.06-2.06.94z\"/><path d=\"M17.41 7.96l-1.37-1.37c-.4-.4-.92-.59-1.43-.59-.52 0-1.04.2-1.43.59L10.3 9.45l-7.72 7.72c-.78.78-.78 2.05 0 2.83L4 21.41c.39.39.9.59 1.41.59.51 0 1.02-.2 1.41-.59l7.78-7.78 2.81-2.81c.8-.78.8-2.07 0-2.86zM5.41 20L4 18.59l7.72-7.72 1.47 1.35L5.41 20z\"/>\n",
              "  </svg>\n",
              "      </button>\n",
              "      \n",
              "  <style>\n",
              "    .colab-df-container {\n",
              "      display:flex;\n",
              "      flex-wrap:wrap;\n",
              "      gap: 12px;\n",
              "    }\n",
              "\n",
              "    .colab-df-convert {\n",
              "      background-color: #E8F0FE;\n",
              "      border: none;\n",
              "      border-radius: 50%;\n",
              "      cursor: pointer;\n",
              "      display: none;\n",
              "      fill: #1967D2;\n",
              "      height: 32px;\n",
              "      padding: 0 0 0 0;\n",
              "      width: 32px;\n",
              "    }\n",
              "\n",
              "    .colab-df-convert:hover {\n",
              "      background-color: #E2EBFA;\n",
              "      box-shadow: 0px 1px 2px rgba(60, 64, 67, 0.3), 0px 1px 3px 1px rgba(60, 64, 67, 0.15);\n",
              "      fill: #174EA6;\n",
              "    }\n",
              "\n",
              "    [theme=dark] .colab-df-convert {\n",
              "      background-color: #3B4455;\n",
              "      fill: #D2E3FC;\n",
              "    }\n",
              "\n",
              "    [theme=dark] .colab-df-convert:hover {\n",
              "      background-color: #434B5C;\n",
              "      box-shadow: 0px 1px 3px 1px rgba(0, 0, 0, 0.15);\n",
              "      filter: drop-shadow(0px 1px 2px rgba(0, 0, 0, 0.3));\n",
              "      fill: #FFFFFF;\n",
              "    }\n",
              "  </style>\n",
              "\n",
              "      <script>\n",
              "        const buttonEl =\n",
              "          document.querySelector('#df-a5c72e64-7be6-44e3-9b1c-762b22049ffc button.colab-df-convert');\n",
              "        buttonEl.style.display =\n",
              "          google.colab.kernel.accessAllowed ? 'block' : 'none';\n",
              "\n",
              "        async function convertToInteractive(key) {\n",
              "          const element = document.querySelector('#df-a5c72e64-7be6-44e3-9b1c-762b22049ffc');\n",
              "          const dataTable =\n",
              "            await google.colab.kernel.invokeFunction('convertToInteractive',\n",
              "                                                     [key], {});\n",
              "          if (!dataTable) return;\n",
              "\n",
              "          const docLinkHtml = 'Like what you see? Visit the ' +\n",
              "            '<a target=\"_blank\" href=https://colab.research.google.com/notebooks/data_table.ipynb>data table notebook</a>'\n",
              "            + ' to learn more about interactive tables.';\n",
              "          element.innerHTML = '';\n",
              "          dataTable['output_type'] = 'display_data';\n",
              "          await google.colab.output.renderOutput(dataTable, element);\n",
              "          const docLink = document.createElement('div');\n",
              "          docLink.innerHTML = docLinkHtml;\n",
              "          element.appendChild(docLink);\n",
              "        }\n",
              "      </script>\n",
              "    </div>\n",
              "  </div>\n",
              "  "
            ]
          },
          "metadata": {},
          "execution_count": 33
        }
      ]
    },
    {
      "cell_type": "code",
      "source": [
        "drug_target = drug_target.rename(columns={\"cas_rn\":\"head_entity\",\"gene_symbol\":\"tail_entity\"})\n",
        "drug_target[\"relation\"] = \"targets\"\n",
        "drug_target[\"head_label\"] = \"drug\"\n",
        "drug_target[\"tail_label\"] = \"gene\"\n",
        "drug_target = drug_target[[\"head_entity\",\"relation\",\"tail_entity\",\"head_label\",\"tail_label\"]]\n",
        "drug_target.head()"
      ],
      "metadata": {
        "colab": {
          "base_uri": "https://localhost:8080/",
          "height": 206
        },
        "outputId": "7e349eed-02e1-458f-c28b-cb9e3408c141",
        "id": "_ZOrUrcy8E6W"
      },
      "execution_count": null,
      "outputs": [
        {
          "output_type": "execute_result",
          "data": {
            "text/plain": [
              "    head_entity relation tail_entity head_label tail_label\n",
              "0   218600-53-4  targets       PPARG       drug       gene\n",
              "1  1393477-72-9  targets        XPO1       drug       gene\n",
              "2   127373-66-4  targets       ELANE       drug       gene\n",
              "3   127373-66-4  targets       CELA1       drug       gene\n",
              "4      501-36-0  targets       PTGS1       drug       gene"
            ],
            "text/html": [
              "\n",
              "  <div id=\"df-49494958-f0bd-4fbb-97d1-136653ed7db3\">\n",
              "    <div class=\"colab-df-container\">\n",
              "      <div>\n",
              "<style scoped>\n",
              "    .dataframe tbody tr th:only-of-type {\n",
              "        vertical-align: middle;\n",
              "    }\n",
              "\n",
              "    .dataframe tbody tr th {\n",
              "        vertical-align: top;\n",
              "    }\n",
              "\n",
              "    .dataframe thead th {\n",
              "        text-align: right;\n",
              "    }\n",
              "</style>\n",
              "<table border=\"1\" class=\"dataframe\">\n",
              "  <thead>\n",
              "    <tr style=\"text-align: right;\">\n",
              "      <th></th>\n",
              "      <th>head_entity</th>\n",
              "      <th>relation</th>\n",
              "      <th>tail_entity</th>\n",
              "      <th>head_label</th>\n",
              "      <th>tail_label</th>\n",
              "    </tr>\n",
              "  </thead>\n",
              "  <tbody>\n",
              "    <tr>\n",
              "      <th>0</th>\n",
              "      <td>218600-53-4</td>\n",
              "      <td>targets</td>\n",
              "      <td>PPARG</td>\n",
              "      <td>drug</td>\n",
              "      <td>gene</td>\n",
              "    </tr>\n",
              "    <tr>\n",
              "      <th>1</th>\n",
              "      <td>1393477-72-9</td>\n",
              "      <td>targets</td>\n",
              "      <td>XPO1</td>\n",
              "      <td>drug</td>\n",
              "      <td>gene</td>\n",
              "    </tr>\n",
              "    <tr>\n",
              "      <th>2</th>\n",
              "      <td>127373-66-4</td>\n",
              "      <td>targets</td>\n",
              "      <td>ELANE</td>\n",
              "      <td>drug</td>\n",
              "      <td>gene</td>\n",
              "    </tr>\n",
              "    <tr>\n",
              "      <th>3</th>\n",
              "      <td>127373-66-4</td>\n",
              "      <td>targets</td>\n",
              "      <td>CELA1</td>\n",
              "      <td>drug</td>\n",
              "      <td>gene</td>\n",
              "    </tr>\n",
              "    <tr>\n",
              "      <th>4</th>\n",
              "      <td>501-36-0</td>\n",
              "      <td>targets</td>\n",
              "      <td>PTGS1</td>\n",
              "      <td>drug</td>\n",
              "      <td>gene</td>\n",
              "    </tr>\n",
              "  </tbody>\n",
              "</table>\n",
              "</div>\n",
              "      <button class=\"colab-df-convert\" onclick=\"convertToInteractive('df-49494958-f0bd-4fbb-97d1-136653ed7db3')\"\n",
              "              title=\"Convert this dataframe to an interactive table.\"\n",
              "              style=\"display:none;\">\n",
              "        \n",
              "  <svg xmlns=\"http://www.w3.org/2000/svg\" height=\"24px\"viewBox=\"0 0 24 24\"\n",
              "       width=\"24px\">\n",
              "    <path d=\"M0 0h24v24H0V0z\" fill=\"none\"/>\n",
              "    <path d=\"M18.56 5.44l.94 2.06.94-2.06 2.06-.94-2.06-.94-.94-2.06-.94 2.06-2.06.94zm-11 1L8.5 8.5l.94-2.06 2.06-.94-2.06-.94L8.5 2.5l-.94 2.06-2.06.94zm10 10l.94 2.06.94-2.06 2.06-.94-2.06-.94-.94-2.06-.94 2.06-2.06.94z\"/><path d=\"M17.41 7.96l-1.37-1.37c-.4-.4-.92-.59-1.43-.59-.52 0-1.04.2-1.43.59L10.3 9.45l-7.72 7.72c-.78.78-.78 2.05 0 2.83L4 21.41c.39.39.9.59 1.41.59.51 0 1.02-.2 1.41-.59l7.78-7.78 2.81-2.81c.8-.78.8-2.07 0-2.86zM5.41 20L4 18.59l7.72-7.72 1.47 1.35L5.41 20z\"/>\n",
              "  </svg>\n",
              "      </button>\n",
              "      \n",
              "  <style>\n",
              "    .colab-df-container {\n",
              "      display:flex;\n",
              "      flex-wrap:wrap;\n",
              "      gap: 12px;\n",
              "    }\n",
              "\n",
              "    .colab-df-convert {\n",
              "      background-color: #E8F0FE;\n",
              "      border: none;\n",
              "      border-radius: 50%;\n",
              "      cursor: pointer;\n",
              "      display: none;\n",
              "      fill: #1967D2;\n",
              "      height: 32px;\n",
              "      padding: 0 0 0 0;\n",
              "      width: 32px;\n",
              "    }\n",
              "\n",
              "    .colab-df-convert:hover {\n",
              "      background-color: #E2EBFA;\n",
              "      box-shadow: 0px 1px 2px rgba(60, 64, 67, 0.3), 0px 1px 3px 1px rgba(60, 64, 67, 0.15);\n",
              "      fill: #174EA6;\n",
              "    }\n",
              "\n",
              "    [theme=dark] .colab-df-convert {\n",
              "      background-color: #3B4455;\n",
              "      fill: #D2E3FC;\n",
              "    }\n",
              "\n",
              "    [theme=dark] .colab-df-convert:hover {\n",
              "      background-color: #434B5C;\n",
              "      box-shadow: 0px 1px 3px 1px rgba(0, 0, 0, 0.15);\n",
              "      filter: drop-shadow(0px 1px 2px rgba(0, 0, 0, 0.3));\n",
              "      fill: #FFFFFF;\n",
              "    }\n",
              "  </style>\n",
              "\n",
              "      <script>\n",
              "        const buttonEl =\n",
              "          document.querySelector('#df-49494958-f0bd-4fbb-97d1-136653ed7db3 button.colab-df-convert');\n",
              "        buttonEl.style.display =\n",
              "          google.colab.kernel.accessAllowed ? 'block' : 'none';\n",
              "\n",
              "        async function convertToInteractive(key) {\n",
              "          const element = document.querySelector('#df-49494958-f0bd-4fbb-97d1-136653ed7db3');\n",
              "          const dataTable =\n",
              "            await google.colab.kernel.invokeFunction('convertToInteractive',\n",
              "                                                     [key], {});\n",
              "          if (!dataTable) return;\n",
              "\n",
              "          const docLinkHtml = 'Like what you see? Visit the ' +\n",
              "            '<a target=\"_blank\" href=https://colab.research.google.com/notebooks/data_table.ipynb>data table notebook</a>'\n",
              "            + ' to learn more about interactive tables.';\n",
              "          element.innerHTML = '';\n",
              "          dataTable['output_type'] = 'display_data';\n",
              "          await google.colab.output.renderOutput(dataTable, element);\n",
              "          const docLink = document.createElement('div');\n",
              "          docLink.innerHTML = docLinkHtml;\n",
              "          element.appendChild(docLink);\n",
              "        }\n",
              "      </script>\n",
              "    </div>\n",
              "  </div>\n",
              "  "
            ]
          },
          "metadata": {},
          "execution_count": 34
        }
      ]
    },
    {
      "cell_type": "code",
      "source": [
        "drug_target.shape"
      ],
      "metadata": {
        "colab": {
          "base_uri": "https://localhost:8080/"
        },
        "outputId": "db1f6d3e-e0a6-4610-c05a-f4b07552c276",
        "id": "lFbmxitM8E6X"
      },
      "execution_count": null,
      "outputs": [
        {
          "output_type": "execute_result",
          "data": {
            "text/plain": [
              "(1879, 5)"
            ]
          },
          "metadata": {},
          "execution_count": 35
        }
      ]
    },
    {
      "cell_type": "code",
      "source": [
        "geneList = list(geneList.union(set(drug_target[\"tail_entity\"])))\n",
        "len(geneList)"
      ],
      "metadata": {
        "colab": {
          "base_uri": "https://localhost:8080/"
        },
        "id": "UcuWIGNI9xl8",
        "outputId": "563acadb-4b6e-4b50-9d86-215203ef2960"
      },
      "execution_count": null,
      "outputs": [
        {
          "output_type": "execute_result",
          "data": {
            "text/plain": [
              "17775"
            ]
          },
          "metadata": {},
          "execution_count": 36
        }
      ]
    },
    {
      "cell_type": "markdown",
      "metadata": {
        "id": "SZPXiwLIM377"
      },
      "source": [
        "### **Drug-gene interactions** \n",
        "Downloaded from CTD (http://ctdbase.org/downloads/)<br>\n",
        "Fields:\n",
        "ChemicalName, ChemicalID, CasRN, GeneSymbol, GeneID, GeneForms, Organism, OrganismID,Interaction, InteractionActions, PubMedIDs"
      ]
    },
    {
      "cell_type": "code",
      "execution_count": null,
      "metadata": {
        "id": "RIPEpQHrM377"
      },
      "outputs": [],
      "source": [
        "drug_gene = pd.read_csv(fp + \"CTD_chem_gene_ixns.csv.gz\",\n",
        "                        compression=\"gzip\", sep =\",\", comment=\"#\", header=None,\n",
        "                        names = [\"ChemicalName\", \"ChemicalID\", \"CasRN\", \"GeneSymbol\", \"GeneID\", \"GeneForms\",\n",
        "                                 \"Organism\", \"OrganismID\",\"Interaction\", \"InteractionActions\", \"PubMedIDs\"])\n",
        "#drug_gene.head()"
      ]
    },
    {
      "cell_type": "markdown",
      "source": [
        "- CasRN will be use for crossRef with TTD drugs. since Name could be ambiguos across databases\n",
        "- Select data pertaining to humans\n",
        "- keep only drugs in `drugList`"
      ],
      "metadata": {
        "id": "CV6d7hlNjQQX"
      }
    },
    {
      "cell_type": "code",
      "execution_count": null,
      "metadata": {
        "id": "s6kePC2DM378"
      },
      "outputs": [],
      "source": [
        "drug_gene = drug_gene.loc[drug_gene['Organism']=='Homo sapiens']\n",
        "drug_gene = drug_gene[drug_gene[\"CasRN\"].isin(drugList)]\n",
        "drug_gene = drug_gene[drug_gene[\"GeneSymbol\"].isin(geneList)]\n",
        "drug_gene = drug_gene[[\"CasRN\", \"InteractionActions\", \"GeneSymbol\"]].dropna().reset_index(drop=True)\n",
        "drug_gene.head()"
      ]
    },
    {
      "cell_type": "markdown",
      "source": [
        "- inspect Interactions"
      ],
      "metadata": {
        "id": "_VQW8Uv7Iq7m"
      }
    },
    {
      "cell_type": "code",
      "source": [
        "drug_gene[\"InteractionActions\"].value_counts()"
      ],
      "metadata": {
        "id": "25jGmmQEbSXK"
      },
      "execution_count": null,
      "outputs": []
    },
    {
      "cell_type": "markdown",
      "source": [
        "- \"increases^expression\" and \"decreases^expression\" are the two most common types of interaction. I'll consider only those two\n",
        "- This is not a comprehensive study but I try to balance simplicity (network size) and retaining relavant information."
      ],
      "metadata": {
        "id": "P-NjF_8UJq-P"
      }
    },
    {
      "cell_type": "code",
      "source": [
        "fx = lambda x: \"upregulates\" if \"increases^expression\" in x else \"downregulates\" if \"decreases^expression\" in x else np.nan\n",
        "\n",
        "drug_gene[\"InteractionActions\"] = drug_gene.InteractionActions.apply(fx)\n",
        "drug_gene = drug_gene.dropna().drop_duplicates().reset_index(drop=True)\n",
        "drug_gene.head()"
      ],
      "metadata": {
        "colab": {
          "base_uri": "https://localhost:8080/",
          "height": 206
        },
        "id": "gAcPUx0c0erk",
        "outputId": "c201bc36-a788-4de9-a9fc-44181aac98c1"
      },
      "execution_count": null,
      "outputs": [
        {
          "output_type": "execute_result",
          "data": {
            "text/plain": [
              "      CasRN InteractionActions GeneSymbol\n",
              "0  149-45-1        upregulates       ATF4\n",
              "1  149-45-1        upregulates        BAD\n",
              "2  149-45-1        upregulates        BAX\n",
              "3  149-45-1      downregulates       BCL2\n",
              "4  149-45-1        upregulates      BECN1"
            ],
            "text/html": [
              "\n",
              "  <div id=\"df-8b2eb695-1130-4f44-ae2c-7bc5250048b6\">\n",
              "    <div class=\"colab-df-container\">\n",
              "      <div>\n",
              "<style scoped>\n",
              "    .dataframe tbody tr th:only-of-type {\n",
              "        vertical-align: middle;\n",
              "    }\n",
              "\n",
              "    .dataframe tbody tr th {\n",
              "        vertical-align: top;\n",
              "    }\n",
              "\n",
              "    .dataframe thead th {\n",
              "        text-align: right;\n",
              "    }\n",
              "</style>\n",
              "<table border=\"1\" class=\"dataframe\">\n",
              "  <thead>\n",
              "    <tr style=\"text-align: right;\">\n",
              "      <th></th>\n",
              "      <th>CasRN</th>\n",
              "      <th>InteractionActions</th>\n",
              "      <th>GeneSymbol</th>\n",
              "    </tr>\n",
              "  </thead>\n",
              "  <tbody>\n",
              "    <tr>\n",
              "      <th>0</th>\n",
              "      <td>149-45-1</td>\n",
              "      <td>upregulates</td>\n",
              "      <td>ATF4</td>\n",
              "    </tr>\n",
              "    <tr>\n",
              "      <th>1</th>\n",
              "      <td>149-45-1</td>\n",
              "      <td>upregulates</td>\n",
              "      <td>BAD</td>\n",
              "    </tr>\n",
              "    <tr>\n",
              "      <th>2</th>\n",
              "      <td>149-45-1</td>\n",
              "      <td>upregulates</td>\n",
              "      <td>BAX</td>\n",
              "    </tr>\n",
              "    <tr>\n",
              "      <th>3</th>\n",
              "      <td>149-45-1</td>\n",
              "      <td>downregulates</td>\n",
              "      <td>BCL2</td>\n",
              "    </tr>\n",
              "    <tr>\n",
              "      <th>4</th>\n",
              "      <td>149-45-1</td>\n",
              "      <td>upregulates</td>\n",
              "      <td>BECN1</td>\n",
              "    </tr>\n",
              "  </tbody>\n",
              "</table>\n",
              "</div>\n",
              "      <button class=\"colab-df-convert\" onclick=\"convertToInteractive('df-8b2eb695-1130-4f44-ae2c-7bc5250048b6')\"\n",
              "              title=\"Convert this dataframe to an interactive table.\"\n",
              "              style=\"display:none;\">\n",
              "        \n",
              "  <svg xmlns=\"http://www.w3.org/2000/svg\" height=\"24px\"viewBox=\"0 0 24 24\"\n",
              "       width=\"24px\">\n",
              "    <path d=\"M0 0h24v24H0V0z\" fill=\"none\"/>\n",
              "    <path d=\"M18.56 5.44l.94 2.06.94-2.06 2.06-.94-2.06-.94-.94-2.06-.94 2.06-2.06.94zm-11 1L8.5 8.5l.94-2.06 2.06-.94-2.06-.94L8.5 2.5l-.94 2.06-2.06.94zm10 10l.94 2.06.94-2.06 2.06-.94-2.06-.94-.94-2.06-.94 2.06-2.06.94z\"/><path d=\"M17.41 7.96l-1.37-1.37c-.4-.4-.92-.59-1.43-.59-.52 0-1.04.2-1.43.59L10.3 9.45l-7.72 7.72c-.78.78-.78 2.05 0 2.83L4 21.41c.39.39.9.59 1.41.59.51 0 1.02-.2 1.41-.59l7.78-7.78 2.81-2.81c.8-.78.8-2.07 0-2.86zM5.41 20L4 18.59l7.72-7.72 1.47 1.35L5.41 20z\"/>\n",
              "  </svg>\n",
              "      </button>\n",
              "      \n",
              "  <style>\n",
              "    .colab-df-container {\n",
              "      display:flex;\n",
              "      flex-wrap:wrap;\n",
              "      gap: 12px;\n",
              "    }\n",
              "\n",
              "    .colab-df-convert {\n",
              "      background-color: #E8F0FE;\n",
              "      border: none;\n",
              "      border-radius: 50%;\n",
              "      cursor: pointer;\n",
              "      display: none;\n",
              "      fill: #1967D2;\n",
              "      height: 32px;\n",
              "      padding: 0 0 0 0;\n",
              "      width: 32px;\n",
              "    }\n",
              "\n",
              "    .colab-df-convert:hover {\n",
              "      background-color: #E2EBFA;\n",
              "      box-shadow: 0px 1px 2px rgba(60, 64, 67, 0.3), 0px 1px 3px 1px rgba(60, 64, 67, 0.15);\n",
              "      fill: #174EA6;\n",
              "    }\n",
              "\n",
              "    [theme=dark] .colab-df-convert {\n",
              "      background-color: #3B4455;\n",
              "      fill: #D2E3FC;\n",
              "    }\n",
              "\n",
              "    [theme=dark] .colab-df-convert:hover {\n",
              "      background-color: #434B5C;\n",
              "      box-shadow: 0px 1px 3px 1px rgba(0, 0, 0, 0.15);\n",
              "      filter: drop-shadow(0px 1px 2px rgba(0, 0, 0, 0.3));\n",
              "      fill: #FFFFFF;\n",
              "    }\n",
              "  </style>\n",
              "\n",
              "      <script>\n",
              "        const buttonEl =\n",
              "          document.querySelector('#df-8b2eb695-1130-4f44-ae2c-7bc5250048b6 button.colab-df-convert');\n",
              "        buttonEl.style.display =\n",
              "          google.colab.kernel.accessAllowed ? 'block' : 'none';\n",
              "\n",
              "        async function convertToInteractive(key) {\n",
              "          const element = document.querySelector('#df-8b2eb695-1130-4f44-ae2c-7bc5250048b6');\n",
              "          const dataTable =\n",
              "            await google.colab.kernel.invokeFunction('convertToInteractive',\n",
              "                                                     [key], {});\n",
              "          if (!dataTable) return;\n",
              "\n",
              "          const docLinkHtml = 'Like what you see? Visit the ' +\n",
              "            '<a target=\"_blank\" href=https://colab.research.google.com/notebooks/data_table.ipynb>data table notebook</a>'\n",
              "            + ' to learn more about interactive tables.';\n",
              "          element.innerHTML = '';\n",
              "          dataTable['output_type'] = 'display_data';\n",
              "          await google.colab.output.renderOutput(dataTable, element);\n",
              "          const docLink = document.createElement('div');\n",
              "          docLink.innerHTML = docLinkHtml;\n",
              "          element.appendChild(docLink);\n",
              "        }\n",
              "      </script>\n",
              "    </div>\n",
              "  </div>\n",
              "  "
            ]
          },
          "metadata": {},
          "execution_count": 39
        }
      ]
    },
    {
      "cell_type": "code",
      "source": [
        "drug_gene = drug_gene.rename(columns={'CasRN':'head_entity',\n",
        "                                      'InteractionActions':'relation',\n",
        "                                      'GeneSymbol':'tail_entity' })\n",
        "\n",
        "drug_gene[\"head_label\"] = \"drug\"\n",
        "drug_gene[\"tail_label\"] = \"gene\"\n",
        "drug_gene.head()"
      ],
      "metadata": {
        "colab": {
          "base_uri": "https://localhost:8080/",
          "height": 206
        },
        "id": "638RoWsJQ5kG",
        "outputId": "1fd3a790-6d92-40f0-f524-18e88b239a92"
      },
      "execution_count": null,
      "outputs": [
        {
          "output_type": "execute_result",
          "data": {
            "text/plain": [
              "  head_entity       relation tail_entity head_label tail_label\n",
              "0    149-45-1    upregulates        ATF4       drug       gene\n",
              "1    149-45-1    upregulates         BAD       drug       gene\n",
              "2    149-45-1    upregulates         BAX       drug       gene\n",
              "3    149-45-1  downregulates        BCL2       drug       gene\n",
              "4    149-45-1    upregulates       BECN1       drug       gene"
            ],
            "text/html": [
              "\n",
              "  <div id=\"df-2a2bb7eb-995a-4f8c-ac72-cd3e6e1461a9\">\n",
              "    <div class=\"colab-df-container\">\n",
              "      <div>\n",
              "<style scoped>\n",
              "    .dataframe tbody tr th:only-of-type {\n",
              "        vertical-align: middle;\n",
              "    }\n",
              "\n",
              "    .dataframe tbody tr th {\n",
              "        vertical-align: top;\n",
              "    }\n",
              "\n",
              "    .dataframe thead th {\n",
              "        text-align: right;\n",
              "    }\n",
              "</style>\n",
              "<table border=\"1\" class=\"dataframe\">\n",
              "  <thead>\n",
              "    <tr style=\"text-align: right;\">\n",
              "      <th></th>\n",
              "      <th>head_entity</th>\n",
              "      <th>relation</th>\n",
              "      <th>tail_entity</th>\n",
              "      <th>head_label</th>\n",
              "      <th>tail_label</th>\n",
              "    </tr>\n",
              "  </thead>\n",
              "  <tbody>\n",
              "    <tr>\n",
              "      <th>0</th>\n",
              "      <td>149-45-1</td>\n",
              "      <td>upregulates</td>\n",
              "      <td>ATF4</td>\n",
              "      <td>drug</td>\n",
              "      <td>gene</td>\n",
              "    </tr>\n",
              "    <tr>\n",
              "      <th>1</th>\n",
              "      <td>149-45-1</td>\n",
              "      <td>upregulates</td>\n",
              "      <td>BAD</td>\n",
              "      <td>drug</td>\n",
              "      <td>gene</td>\n",
              "    </tr>\n",
              "    <tr>\n",
              "      <th>2</th>\n",
              "      <td>149-45-1</td>\n",
              "      <td>upregulates</td>\n",
              "      <td>BAX</td>\n",
              "      <td>drug</td>\n",
              "      <td>gene</td>\n",
              "    </tr>\n",
              "    <tr>\n",
              "      <th>3</th>\n",
              "      <td>149-45-1</td>\n",
              "      <td>downregulates</td>\n",
              "      <td>BCL2</td>\n",
              "      <td>drug</td>\n",
              "      <td>gene</td>\n",
              "    </tr>\n",
              "    <tr>\n",
              "      <th>4</th>\n",
              "      <td>149-45-1</td>\n",
              "      <td>upregulates</td>\n",
              "      <td>BECN1</td>\n",
              "      <td>drug</td>\n",
              "      <td>gene</td>\n",
              "    </tr>\n",
              "  </tbody>\n",
              "</table>\n",
              "</div>\n",
              "      <button class=\"colab-df-convert\" onclick=\"convertToInteractive('df-2a2bb7eb-995a-4f8c-ac72-cd3e6e1461a9')\"\n",
              "              title=\"Convert this dataframe to an interactive table.\"\n",
              "              style=\"display:none;\">\n",
              "        \n",
              "  <svg xmlns=\"http://www.w3.org/2000/svg\" height=\"24px\"viewBox=\"0 0 24 24\"\n",
              "       width=\"24px\">\n",
              "    <path d=\"M0 0h24v24H0V0z\" fill=\"none\"/>\n",
              "    <path d=\"M18.56 5.44l.94 2.06.94-2.06 2.06-.94-2.06-.94-.94-2.06-.94 2.06-2.06.94zm-11 1L8.5 8.5l.94-2.06 2.06-.94-2.06-.94L8.5 2.5l-.94 2.06-2.06.94zm10 10l.94 2.06.94-2.06 2.06-.94-2.06-.94-.94-2.06-.94 2.06-2.06.94z\"/><path d=\"M17.41 7.96l-1.37-1.37c-.4-.4-.92-.59-1.43-.59-.52 0-1.04.2-1.43.59L10.3 9.45l-7.72 7.72c-.78.78-.78 2.05 0 2.83L4 21.41c.39.39.9.59 1.41.59.51 0 1.02-.2 1.41-.59l7.78-7.78 2.81-2.81c.8-.78.8-2.07 0-2.86zM5.41 20L4 18.59l7.72-7.72 1.47 1.35L5.41 20z\"/>\n",
              "  </svg>\n",
              "      </button>\n",
              "      \n",
              "  <style>\n",
              "    .colab-df-container {\n",
              "      display:flex;\n",
              "      flex-wrap:wrap;\n",
              "      gap: 12px;\n",
              "    }\n",
              "\n",
              "    .colab-df-convert {\n",
              "      background-color: #E8F0FE;\n",
              "      border: none;\n",
              "      border-radius: 50%;\n",
              "      cursor: pointer;\n",
              "      display: none;\n",
              "      fill: #1967D2;\n",
              "      height: 32px;\n",
              "      padding: 0 0 0 0;\n",
              "      width: 32px;\n",
              "    }\n",
              "\n",
              "    .colab-df-convert:hover {\n",
              "      background-color: #E2EBFA;\n",
              "      box-shadow: 0px 1px 2px rgba(60, 64, 67, 0.3), 0px 1px 3px 1px rgba(60, 64, 67, 0.15);\n",
              "      fill: #174EA6;\n",
              "    }\n",
              "\n",
              "    [theme=dark] .colab-df-convert {\n",
              "      background-color: #3B4455;\n",
              "      fill: #D2E3FC;\n",
              "    }\n",
              "\n",
              "    [theme=dark] .colab-df-convert:hover {\n",
              "      background-color: #434B5C;\n",
              "      box-shadow: 0px 1px 3px 1px rgba(0, 0, 0, 0.15);\n",
              "      filter: drop-shadow(0px 1px 2px rgba(0, 0, 0, 0.3));\n",
              "      fill: #FFFFFF;\n",
              "    }\n",
              "  </style>\n",
              "\n",
              "      <script>\n",
              "        const buttonEl =\n",
              "          document.querySelector('#df-2a2bb7eb-995a-4f8c-ac72-cd3e6e1461a9 button.colab-df-convert');\n",
              "        buttonEl.style.display =\n",
              "          google.colab.kernel.accessAllowed ? 'block' : 'none';\n",
              "\n",
              "        async function convertToInteractive(key) {\n",
              "          const element = document.querySelector('#df-2a2bb7eb-995a-4f8c-ac72-cd3e6e1461a9');\n",
              "          const dataTable =\n",
              "            await google.colab.kernel.invokeFunction('convertToInteractive',\n",
              "                                                     [key], {});\n",
              "          if (!dataTable) return;\n",
              "\n",
              "          const docLinkHtml = 'Like what you see? Visit the ' +\n",
              "            '<a target=\"_blank\" href=https://colab.research.google.com/notebooks/data_table.ipynb>data table notebook</a>'\n",
              "            + ' to learn more about interactive tables.';\n",
              "          element.innerHTML = '';\n",
              "          dataTable['output_type'] = 'display_data';\n",
              "          await google.colab.output.renderOutput(dataTable, element);\n",
              "          const docLink = document.createElement('div');\n",
              "          docLink.innerHTML = docLinkHtml;\n",
              "          element.appendChild(docLink);\n",
              "        }\n",
              "      </script>\n",
              "    </div>\n",
              "  </div>\n",
              "  "
            ]
          },
          "metadata": {},
          "execution_count": 40
        }
      ]
    },
    {
      "cell_type": "code",
      "source": [
        "drug_gene.shape"
      ],
      "metadata": {
        "colab": {
          "base_uri": "https://localhost:8080/"
        },
        "id": "oLkaIsXyTtru",
        "outputId": "c1cc22b1-26fe-4f42-ff77-74900f8f84d9"
      },
      "execution_count": null,
      "outputs": [
        {
          "output_type": "execute_result",
          "data": {
            "text/plain": [
              "(112552, 5)"
            ]
          },
          "metadata": {},
          "execution_count": 41
        }
      ]
    },
    {
      "cell_type": "code",
      "source": [
        "drug_gene.relation.value_counts()"
      ],
      "metadata": {
        "colab": {
          "base_uri": "https://localhost:8080/"
        },
        "id": "DchOdd7KT0DL",
        "outputId": "6fa2e387-9110-439f-d57a-23fdf76fe9a3"
      },
      "execution_count": null,
      "outputs": [
        {
          "output_type": "execute_result",
          "data": {
            "text/plain": [
              "upregulates      57190\n",
              "downregulates    55362\n",
              "Name: relation, dtype: int64"
            ]
          },
          "metadata": {},
          "execution_count": 42
        }
      ]
    },
    {
      "cell_type": "markdown",
      "source": [
        "## **Drug - Disease Associations**\n",
        "- Drug-disease associations were curated by CTD from varoius literature and data sources.\n",
        "- In addition, I included all Neurodegenarative diseases (NDD) from the database; since we have limited data on AD. I searched NDD and downloaded chemical disease relations file."
      ],
      "metadata": {
        "id": "lXeVEDeEZODJ"
      }
    },
    {
      "cell_type": "code",
      "source": [
        "drug_disease = pd.read_csv(fp + \"CTD_NDD_chemicals.csv\")\n",
        "drug_disease.head()"
      ],
      "metadata": {
        "id": "jO8HTFxdaNQs"
      },
      "execution_count": null,
      "outputs": []
    },
    {
      "cell_type": "code",
      "source": [
        "drug_disease[\"Direct Evidence\"].value_counts()"
      ],
      "metadata": {
        "id": "kvkY_6bLa3F6"
      },
      "execution_count": null,
      "outputs": []
    },
    {
      "cell_type": "markdown",
      "source": [
        "- I'm only interested in \"therapeutic\" relations ie ***drug treats disease***\n",
        "- select only drugs in `drugList`\n",
        "\n"
      ],
      "metadata": {
        "id": "Ss5_F1ymbN8W"
      }
    },
    {
      "cell_type": "code",
      "source": [
        "drug_disease = drug_disease[(drug_disease[\"Direct Evidence\"]==\"therapeutic\")]\n",
        "drug_disease = drug_disease[(drug_disease[\"CAS RN\"].isin(drugList))]\n",
        "drug_disease = drug_disease[[\"CAS RN\", \"Disease Name\", \"Disease ID\"]].dropna().drop_duplicates().reset_index(drop=True)\n",
        "drug_disease.head()"
      ],
      "metadata": {
        "id": "EwYpGRuNc2o0",
        "colab": {
          "base_uri": "https://localhost:8080/",
          "height": 206
        },
        "outputId": "e1d033e9-7e41-4877-f307-7004f2f71f31"
      },
      "execution_count": null,
      "outputs": [
        {
          "output_type": "execute_result",
          "data": {
            "text/plain": [
              "       CAS RN       Disease Name    Disease ID\n",
              "0     73-31-4  Alzheimer Disease  MESH:D000544\n",
              "1    458-37-7  Alzheimer Disease  MESH:D000544\n",
              "2   2086-83-1  Alzheimer Disease  MESH:D000544\n",
              "3  84371-65-3  Alzheimer Disease  MESH:D000544\n",
              "4     51-84-3  Alzheimer Disease  MESH:D000544"
            ],
            "text/html": [
              "\n",
              "  <div id=\"df-085afa6d-6ca7-4196-be5e-bd75a39cea14\">\n",
              "    <div class=\"colab-df-container\">\n",
              "      <div>\n",
              "<style scoped>\n",
              "    .dataframe tbody tr th:only-of-type {\n",
              "        vertical-align: middle;\n",
              "    }\n",
              "\n",
              "    .dataframe tbody tr th {\n",
              "        vertical-align: top;\n",
              "    }\n",
              "\n",
              "    .dataframe thead th {\n",
              "        text-align: right;\n",
              "    }\n",
              "</style>\n",
              "<table border=\"1\" class=\"dataframe\">\n",
              "  <thead>\n",
              "    <tr style=\"text-align: right;\">\n",
              "      <th></th>\n",
              "      <th>CAS RN</th>\n",
              "      <th>Disease Name</th>\n",
              "      <th>Disease ID</th>\n",
              "    </tr>\n",
              "  </thead>\n",
              "  <tbody>\n",
              "    <tr>\n",
              "      <th>0</th>\n",
              "      <td>73-31-4</td>\n",
              "      <td>Alzheimer Disease</td>\n",
              "      <td>MESH:D000544</td>\n",
              "    </tr>\n",
              "    <tr>\n",
              "      <th>1</th>\n",
              "      <td>458-37-7</td>\n",
              "      <td>Alzheimer Disease</td>\n",
              "      <td>MESH:D000544</td>\n",
              "    </tr>\n",
              "    <tr>\n",
              "      <th>2</th>\n",
              "      <td>2086-83-1</td>\n",
              "      <td>Alzheimer Disease</td>\n",
              "      <td>MESH:D000544</td>\n",
              "    </tr>\n",
              "    <tr>\n",
              "      <th>3</th>\n",
              "      <td>84371-65-3</td>\n",
              "      <td>Alzheimer Disease</td>\n",
              "      <td>MESH:D000544</td>\n",
              "    </tr>\n",
              "    <tr>\n",
              "      <th>4</th>\n",
              "      <td>51-84-3</td>\n",
              "      <td>Alzheimer Disease</td>\n",
              "      <td>MESH:D000544</td>\n",
              "    </tr>\n",
              "  </tbody>\n",
              "</table>\n",
              "</div>\n",
              "      <button class=\"colab-df-convert\" onclick=\"convertToInteractive('df-085afa6d-6ca7-4196-be5e-bd75a39cea14')\"\n",
              "              title=\"Convert this dataframe to an interactive table.\"\n",
              "              style=\"display:none;\">\n",
              "        \n",
              "  <svg xmlns=\"http://www.w3.org/2000/svg\" height=\"24px\"viewBox=\"0 0 24 24\"\n",
              "       width=\"24px\">\n",
              "    <path d=\"M0 0h24v24H0V0z\" fill=\"none\"/>\n",
              "    <path d=\"M18.56 5.44l.94 2.06.94-2.06 2.06-.94-2.06-.94-.94-2.06-.94 2.06-2.06.94zm-11 1L8.5 8.5l.94-2.06 2.06-.94-2.06-.94L8.5 2.5l-.94 2.06-2.06.94zm10 10l.94 2.06.94-2.06 2.06-.94-2.06-.94-.94-2.06-.94 2.06-2.06.94z\"/><path d=\"M17.41 7.96l-1.37-1.37c-.4-.4-.92-.59-1.43-.59-.52 0-1.04.2-1.43.59L10.3 9.45l-7.72 7.72c-.78.78-.78 2.05 0 2.83L4 21.41c.39.39.9.59 1.41.59.51 0 1.02-.2 1.41-.59l7.78-7.78 2.81-2.81c.8-.78.8-2.07 0-2.86zM5.41 20L4 18.59l7.72-7.72 1.47 1.35L5.41 20z\"/>\n",
              "  </svg>\n",
              "      </button>\n",
              "      \n",
              "  <style>\n",
              "    .colab-df-container {\n",
              "      display:flex;\n",
              "      flex-wrap:wrap;\n",
              "      gap: 12px;\n",
              "    }\n",
              "\n",
              "    .colab-df-convert {\n",
              "      background-color: #E8F0FE;\n",
              "      border: none;\n",
              "      border-radius: 50%;\n",
              "      cursor: pointer;\n",
              "      display: none;\n",
              "      fill: #1967D2;\n",
              "      height: 32px;\n",
              "      padding: 0 0 0 0;\n",
              "      width: 32px;\n",
              "    }\n",
              "\n",
              "    .colab-df-convert:hover {\n",
              "      background-color: #E2EBFA;\n",
              "      box-shadow: 0px 1px 2px rgba(60, 64, 67, 0.3), 0px 1px 3px 1px rgba(60, 64, 67, 0.15);\n",
              "      fill: #174EA6;\n",
              "    }\n",
              "\n",
              "    [theme=dark] .colab-df-convert {\n",
              "      background-color: #3B4455;\n",
              "      fill: #D2E3FC;\n",
              "    }\n",
              "\n",
              "    [theme=dark] .colab-df-convert:hover {\n",
              "      background-color: #434B5C;\n",
              "      box-shadow: 0px 1px 3px 1px rgba(0, 0, 0, 0.15);\n",
              "      filter: drop-shadow(0px 1px 2px rgba(0, 0, 0, 0.3));\n",
              "      fill: #FFFFFF;\n",
              "    }\n",
              "  </style>\n",
              "\n",
              "      <script>\n",
              "        const buttonEl =\n",
              "          document.querySelector('#df-085afa6d-6ca7-4196-be5e-bd75a39cea14 button.colab-df-convert');\n",
              "        buttonEl.style.display =\n",
              "          google.colab.kernel.accessAllowed ? 'block' : 'none';\n",
              "\n",
              "        async function convertToInteractive(key) {\n",
              "          const element = document.querySelector('#df-085afa6d-6ca7-4196-be5e-bd75a39cea14');\n",
              "          const dataTable =\n",
              "            await google.colab.kernel.invokeFunction('convertToInteractive',\n",
              "                                                     [key], {});\n",
              "          if (!dataTable) return;\n",
              "\n",
              "          const docLinkHtml = 'Like what you see? Visit the ' +\n",
              "            '<a target=\"_blank\" href=https://colab.research.google.com/notebooks/data_table.ipynb>data table notebook</a>'\n",
              "            + ' to learn more about interactive tables.';\n",
              "          element.innerHTML = '';\n",
              "          dataTable['output_type'] = 'display_data';\n",
              "          await google.colab.output.renderOutput(dataTable, element);\n",
              "          const docLink = document.createElement('div');\n",
              "          docLink.innerHTML = docLinkHtml;\n",
              "          element.appendChild(docLink);\n",
              "        }\n",
              "      </script>\n",
              "    </div>\n",
              "  </div>\n",
              "  "
            ]
          },
          "metadata": {},
          "execution_count": 44
        }
      ]
    },
    {
      "cell_type": "code",
      "source": [
        "drug_disease[\"Disease Name\"].value_counts()"
      ],
      "metadata": {
        "id": "rRCW8koJfiM2",
        "colab": {
          "base_uri": "https://localhost:8080/"
        },
        "outputId": "17f86f6e-bf0b-4891-e784-9893dffd9674"
      },
      "execution_count": null,
      "outputs": [
        {
          "output_type": "execute_result",
          "data": {
            "text/plain": [
              "Parkinson Disease                                                                     33\n",
              "Alzheimer Disease                                                                     31\n",
              "Amyotrophic Lateral Sclerosis                                                         12\n",
              "Neurodegenerative Diseases                                                            12\n",
              "Myasthenia Gravis                                                                      9\n",
              "Tourette Syndrome                                                                      8\n",
              "Huntington Disease                                                                     8\n",
              "Friedreich Ataxia                                                                      5\n",
              "Tauopathies                                                                            4\n",
              "Hepatolenticular Degeneration                                                          4\n",
              "Motor Neuron Disease                                                                   3\n",
              "Prion Diseases                                                                         3\n",
              "Myotonic Dystrophy                                                                     3\n",
              "Unverricht-Lundborg Syndrome                                                           3\n",
              "Muscular Atrophy, Spinal                                                               2\n",
              "Multiple System Atrophy                                                                2\n",
              "Myotonia Congenita                                                                     2\n",
              "Inclusion Body Myopathy With Early-Onset Paget Disease And Frontotemporal Dementia     1\n",
              "Amyloid Neuropathies, Familial                                                         1\n",
              "Charcot-Marie-Tooth Disease                                                            1\n",
              "Amyotrophic lateral sclerosis 1                                                        1\n",
              "Lewy Body Disease                                                                      1\n",
              "Tuberous Sclerosis                                                                     1\n",
              "Alstrom Syndrome                                                                       1\n",
              "Hereditary Sensory and Motor Neuropathy                                                1\n",
              "Neuronal Ceroid-Lipofuscinoses                                                         1\n",
              "Opsoclonus-Myoclonus Syndrome                                                          1\n",
              "Parkinson Disease 6, Autosomal Recessive Early-Onset                                   1\n",
              "Refsum Disease                                                                         1\n",
              "Name: Disease Name, dtype: int64"
            ]
          },
          "metadata": {},
          "execution_count": 48
        }
      ]
    },
    {
      "cell_type": "code",
      "source": [
        "disease2id = {row[1]:row[2] for _, row in drug_disease.iterrows()}\n",
        "diseaseList = disease2id.values()\n",
        "len(diseaseList)"
      ],
      "metadata": {
        "colab": {
          "base_uri": "https://localhost:8080/"
        },
        "id": "wwUAreRHkTl4",
        "outputId": "0d92c59c-7966-459c-c904-7e4d8c0d5f5b"
      },
      "execution_count": null,
      "outputs": [
        {
          "output_type": "execute_result",
          "data": {
            "text/plain": [
              "29"
            ]
          },
          "metadata": {},
          "execution_count": 46
        }
      ]
    },
    {
      "cell_type": "markdown",
      "source": [
        "`disease2id` : for mapping disease name to mesh id<br>\n",
        "`diseaseList` : list of diseases in the network; 29 in total"
      ],
      "metadata": {
        "id": "GyJSN2AylQlU"
      }
    },
    {
      "cell_type": "code",
      "source": [
        "drug_disease = drug_disease.rename(columns={\"CAS RN\":\"head_entity\",\"Disease ID\":\"tail_entity\"})\n",
        "drug_disease[\"relation\"] = \"treats\"\n",
        "\n",
        "drug_disease = drug_disease[[\"head_entity\", \"relation\", \"tail_entity\"]]\n",
        "\n",
        "drug_disease[\"head_label\"] = \"drug\"\n",
        "drug_disease[\"tail_label\"] = \"disease\"\n",
        "drug_disease.head()"
      ],
      "metadata": {
        "colab": {
          "base_uri": "https://localhost:8080/",
          "height": 206
        },
        "id": "sabMjB7Blp5V",
        "outputId": "c19c45e1-92d6-44c9-a621-ae2f47b5bb88"
      },
      "execution_count": null,
      "outputs": [
        {
          "output_type": "execute_result",
          "data": {
            "text/plain": [
              "  head_entity relation   tail_entity head_label tail_label\n",
              "0     73-31-4   treats  MESH:D000544       drug    disease\n",
              "1    458-37-7   treats  MESH:D000544       drug    disease\n",
              "2   2086-83-1   treats  MESH:D000544       drug    disease\n",
              "3  84371-65-3   treats  MESH:D000544       drug    disease\n",
              "4     51-84-3   treats  MESH:D000544       drug    disease"
            ],
            "text/html": [
              "\n",
              "  <div id=\"df-8629c55a-aee4-4ecb-8e4f-e4bb2a64dd9f\">\n",
              "    <div class=\"colab-df-container\">\n",
              "      <div>\n",
              "<style scoped>\n",
              "    .dataframe tbody tr th:only-of-type {\n",
              "        vertical-align: middle;\n",
              "    }\n",
              "\n",
              "    .dataframe tbody tr th {\n",
              "        vertical-align: top;\n",
              "    }\n",
              "\n",
              "    .dataframe thead th {\n",
              "        text-align: right;\n",
              "    }\n",
              "</style>\n",
              "<table border=\"1\" class=\"dataframe\">\n",
              "  <thead>\n",
              "    <tr style=\"text-align: right;\">\n",
              "      <th></th>\n",
              "      <th>head_entity</th>\n",
              "      <th>relation</th>\n",
              "      <th>tail_entity</th>\n",
              "      <th>head_label</th>\n",
              "      <th>tail_label</th>\n",
              "    </tr>\n",
              "  </thead>\n",
              "  <tbody>\n",
              "    <tr>\n",
              "      <th>0</th>\n",
              "      <td>73-31-4</td>\n",
              "      <td>treats</td>\n",
              "      <td>MESH:D000544</td>\n",
              "      <td>drug</td>\n",
              "      <td>disease</td>\n",
              "    </tr>\n",
              "    <tr>\n",
              "      <th>1</th>\n",
              "      <td>458-37-7</td>\n",
              "      <td>treats</td>\n",
              "      <td>MESH:D000544</td>\n",
              "      <td>drug</td>\n",
              "      <td>disease</td>\n",
              "    </tr>\n",
              "    <tr>\n",
              "      <th>2</th>\n",
              "      <td>2086-83-1</td>\n",
              "      <td>treats</td>\n",
              "      <td>MESH:D000544</td>\n",
              "      <td>drug</td>\n",
              "      <td>disease</td>\n",
              "    </tr>\n",
              "    <tr>\n",
              "      <th>3</th>\n",
              "      <td>84371-65-3</td>\n",
              "      <td>treats</td>\n",
              "      <td>MESH:D000544</td>\n",
              "      <td>drug</td>\n",
              "      <td>disease</td>\n",
              "    </tr>\n",
              "    <tr>\n",
              "      <th>4</th>\n",
              "      <td>51-84-3</td>\n",
              "      <td>treats</td>\n",
              "      <td>MESH:D000544</td>\n",
              "      <td>drug</td>\n",
              "      <td>disease</td>\n",
              "    </tr>\n",
              "  </tbody>\n",
              "</table>\n",
              "</div>\n",
              "      <button class=\"colab-df-convert\" onclick=\"convertToInteractive('df-8629c55a-aee4-4ecb-8e4f-e4bb2a64dd9f')\"\n",
              "              title=\"Convert this dataframe to an interactive table.\"\n",
              "              style=\"display:none;\">\n",
              "        \n",
              "  <svg xmlns=\"http://www.w3.org/2000/svg\" height=\"24px\"viewBox=\"0 0 24 24\"\n",
              "       width=\"24px\">\n",
              "    <path d=\"M0 0h24v24H0V0z\" fill=\"none\"/>\n",
              "    <path d=\"M18.56 5.44l.94 2.06.94-2.06 2.06-.94-2.06-.94-.94-2.06-.94 2.06-2.06.94zm-11 1L8.5 8.5l.94-2.06 2.06-.94-2.06-.94L8.5 2.5l-.94 2.06-2.06.94zm10 10l.94 2.06.94-2.06 2.06-.94-2.06-.94-.94-2.06-.94 2.06-2.06.94z\"/><path d=\"M17.41 7.96l-1.37-1.37c-.4-.4-.92-.59-1.43-.59-.52 0-1.04.2-1.43.59L10.3 9.45l-7.72 7.72c-.78.78-.78 2.05 0 2.83L4 21.41c.39.39.9.59 1.41.59.51 0 1.02-.2 1.41-.59l7.78-7.78 2.81-2.81c.8-.78.8-2.07 0-2.86zM5.41 20L4 18.59l7.72-7.72 1.47 1.35L5.41 20z\"/>\n",
              "  </svg>\n",
              "      </button>\n",
              "      \n",
              "  <style>\n",
              "    .colab-df-container {\n",
              "      display:flex;\n",
              "      flex-wrap:wrap;\n",
              "      gap: 12px;\n",
              "    }\n",
              "\n",
              "    .colab-df-convert {\n",
              "      background-color: #E8F0FE;\n",
              "      border: none;\n",
              "      border-radius: 50%;\n",
              "      cursor: pointer;\n",
              "      display: none;\n",
              "      fill: #1967D2;\n",
              "      height: 32px;\n",
              "      padding: 0 0 0 0;\n",
              "      width: 32px;\n",
              "    }\n",
              "\n",
              "    .colab-df-convert:hover {\n",
              "      background-color: #E2EBFA;\n",
              "      box-shadow: 0px 1px 2px rgba(60, 64, 67, 0.3), 0px 1px 3px 1px rgba(60, 64, 67, 0.15);\n",
              "      fill: #174EA6;\n",
              "    }\n",
              "\n",
              "    [theme=dark] .colab-df-convert {\n",
              "      background-color: #3B4455;\n",
              "      fill: #D2E3FC;\n",
              "    }\n",
              "\n",
              "    [theme=dark] .colab-df-convert:hover {\n",
              "      background-color: #434B5C;\n",
              "      box-shadow: 0px 1px 3px 1px rgba(0, 0, 0, 0.15);\n",
              "      filter: drop-shadow(0px 1px 2px rgba(0, 0, 0, 0.3));\n",
              "      fill: #FFFFFF;\n",
              "    }\n",
              "  </style>\n",
              "\n",
              "      <script>\n",
              "        const buttonEl =\n",
              "          document.querySelector('#df-8629c55a-aee4-4ecb-8e4f-e4bb2a64dd9f button.colab-df-convert');\n",
              "        buttonEl.style.display =\n",
              "          google.colab.kernel.accessAllowed ? 'block' : 'none';\n",
              "\n",
              "        async function convertToInteractive(key) {\n",
              "          const element = document.querySelector('#df-8629c55a-aee4-4ecb-8e4f-e4bb2a64dd9f');\n",
              "          const dataTable =\n",
              "            await google.colab.kernel.invokeFunction('convertToInteractive',\n",
              "                                                     [key], {});\n",
              "          if (!dataTable) return;\n",
              "\n",
              "          const docLinkHtml = 'Like what you see? Visit the ' +\n",
              "            '<a target=\"_blank\" href=https://colab.research.google.com/notebooks/data_table.ipynb>data table notebook</a>'\n",
              "            + ' to learn more about interactive tables.';\n",
              "          element.innerHTML = '';\n",
              "          dataTable['output_type'] = 'display_data';\n",
              "          await google.colab.output.renderOutput(dataTable, element);\n",
              "          const docLink = document.createElement('div');\n",
              "          docLink.innerHTML = docLinkHtml;\n",
              "          element.appendChild(docLink);\n",
              "        }\n",
              "      </script>\n",
              "    </div>\n",
              "  </div>\n",
              "  "
            ]
          },
          "metadata": {},
          "execution_count": 49
        }
      ]
    },
    {
      "cell_type": "code",
      "source": [
        "drug_disease.shape"
      ],
      "metadata": {
        "colab": {
          "base_uri": "https://localhost:8080/"
        },
        "id": "tvefNajdn_rT",
        "outputId": "027c100b-d1d7-45db-b40b-901f30db7752"
      },
      "execution_count": null,
      "outputs": [
        {
          "output_type": "execute_result",
          "data": {
            "text/plain": [
              "(156, 5)"
            ]
          },
          "metadata": {},
          "execution_count": 50
        }
      ]
    },
    {
      "cell_type": "markdown",
      "metadata": {
        "id": "TTAWWhiJ5mta"
      },
      "source": [
        "## **Disease-pathway** \n",
        "- Pathways involved in NDD\n",
        "- Curated by CTD. Inferred via genes assocaited with disease\n",
        "- Pathways here are KEGG and REACT pathways"
      ]
    },
    {
      "cell_type": "code",
      "source": [
        "disease_pathway = pd.read_csv(fp+\"CTD_NDD_pathways.csv\")\n",
        "disease_pathway.head()"
      ],
      "metadata": {
        "id": "E7ISjJxU5mtb"
      },
      "execution_count": null,
      "outputs": []
    },
    {
      "cell_type": "markdown",
      "source": [
        "- select only disease in `diseaseList`"
      ],
      "metadata": {
        "id": "ILqgvBTH5mtb"
      }
    },
    {
      "cell_type": "code",
      "source": [
        "disease_pathway = disease_pathway[disease_pathway[\"Disease ID\"].isin(diseaseList)]\n",
        "disease_pathway = disease_pathway.rename(columns={\"Pathway ID\":\"tail_entity\",\"Disease ID\":\"head_entity\"})\n",
        "\n",
        "disease_pathway[\"relation\"] = \"associated_with_path\"\n",
        "disease_pathway = disease_pathway[[\"head_entity\",\"relation\",\"tail_entity\" ]]\n",
        "\n",
        "disease_pathway[\"head_label\"] = \"disease\"\n",
        "disease_pathway[\"tail_label\"] = \"pathway\"\n",
        "\n",
        "disease_pathway.head()"
      ],
      "metadata": {
        "colab": {
          "base_uri": "https://localhost:8080/",
          "height": 206
        },
        "outputId": "800172ad-88af-4c3d-e212-f2035cb14310",
        "id": "MdGbIi1M5mtb"
      },
      "execution_count": null,
      "outputs": [
        {
          "output_type": "execute_result",
          "data": {
            "text/plain": [
              "    head_entity              relation          tail_entity head_label  \\\n",
              "0  MESH:D000544  associated_with_path   REACT:R-HSA-168256    disease   \n",
              "1  MESH:D000544  associated_with_path   REACT:R-HSA-162582    disease   \n",
              "2  MESH:D010300  associated_with_path  REACT:R-HSA-1430728    disease   \n",
              "3  MESH:D000544  associated_with_path   REACT:R-HSA-168249    disease   \n",
              "4  MESH:D000544  associated_with_path  REACT:R-HSA-1430728    disease   \n",
              "\n",
              "  tail_label  \n",
              "0    pathway  \n",
              "1    pathway  \n",
              "2    pathway  \n",
              "3    pathway  \n",
              "4    pathway  "
            ],
            "text/html": [
              "\n",
              "  <div id=\"df-a62cc399-7851-40a5-a359-0491d43141ef\">\n",
              "    <div class=\"colab-df-container\">\n",
              "      <div>\n",
              "<style scoped>\n",
              "    .dataframe tbody tr th:only-of-type {\n",
              "        vertical-align: middle;\n",
              "    }\n",
              "\n",
              "    .dataframe tbody tr th {\n",
              "        vertical-align: top;\n",
              "    }\n",
              "\n",
              "    .dataframe thead th {\n",
              "        text-align: right;\n",
              "    }\n",
              "</style>\n",
              "<table border=\"1\" class=\"dataframe\">\n",
              "  <thead>\n",
              "    <tr style=\"text-align: right;\">\n",
              "      <th></th>\n",
              "      <th>head_entity</th>\n",
              "      <th>relation</th>\n",
              "      <th>tail_entity</th>\n",
              "      <th>head_label</th>\n",
              "      <th>tail_label</th>\n",
              "    </tr>\n",
              "  </thead>\n",
              "  <tbody>\n",
              "    <tr>\n",
              "      <th>0</th>\n",
              "      <td>MESH:D000544</td>\n",
              "      <td>associated_with_path</td>\n",
              "      <td>REACT:R-HSA-168256</td>\n",
              "      <td>disease</td>\n",
              "      <td>pathway</td>\n",
              "    </tr>\n",
              "    <tr>\n",
              "      <th>1</th>\n",
              "      <td>MESH:D000544</td>\n",
              "      <td>associated_with_path</td>\n",
              "      <td>REACT:R-HSA-162582</td>\n",
              "      <td>disease</td>\n",
              "      <td>pathway</td>\n",
              "    </tr>\n",
              "    <tr>\n",
              "      <th>2</th>\n",
              "      <td>MESH:D010300</td>\n",
              "      <td>associated_with_path</td>\n",
              "      <td>REACT:R-HSA-1430728</td>\n",
              "      <td>disease</td>\n",
              "      <td>pathway</td>\n",
              "    </tr>\n",
              "    <tr>\n",
              "      <th>3</th>\n",
              "      <td>MESH:D000544</td>\n",
              "      <td>associated_with_path</td>\n",
              "      <td>REACT:R-HSA-168249</td>\n",
              "      <td>disease</td>\n",
              "      <td>pathway</td>\n",
              "    </tr>\n",
              "    <tr>\n",
              "      <th>4</th>\n",
              "      <td>MESH:D000544</td>\n",
              "      <td>associated_with_path</td>\n",
              "      <td>REACT:R-HSA-1430728</td>\n",
              "      <td>disease</td>\n",
              "      <td>pathway</td>\n",
              "    </tr>\n",
              "  </tbody>\n",
              "</table>\n",
              "</div>\n",
              "      <button class=\"colab-df-convert\" onclick=\"convertToInteractive('df-a62cc399-7851-40a5-a359-0491d43141ef')\"\n",
              "              title=\"Convert this dataframe to an interactive table.\"\n",
              "              style=\"display:none;\">\n",
              "        \n",
              "  <svg xmlns=\"http://www.w3.org/2000/svg\" height=\"24px\"viewBox=\"0 0 24 24\"\n",
              "       width=\"24px\">\n",
              "    <path d=\"M0 0h24v24H0V0z\" fill=\"none\"/>\n",
              "    <path d=\"M18.56 5.44l.94 2.06.94-2.06 2.06-.94-2.06-.94-.94-2.06-.94 2.06-2.06.94zm-11 1L8.5 8.5l.94-2.06 2.06-.94-2.06-.94L8.5 2.5l-.94 2.06-2.06.94zm10 10l.94 2.06.94-2.06 2.06-.94-2.06-.94-.94-2.06-.94 2.06-2.06.94z\"/><path d=\"M17.41 7.96l-1.37-1.37c-.4-.4-.92-.59-1.43-.59-.52 0-1.04.2-1.43.59L10.3 9.45l-7.72 7.72c-.78.78-.78 2.05 0 2.83L4 21.41c.39.39.9.59 1.41.59.51 0 1.02-.2 1.41-.59l7.78-7.78 2.81-2.81c.8-.78.8-2.07 0-2.86zM5.41 20L4 18.59l7.72-7.72 1.47 1.35L5.41 20z\"/>\n",
              "  </svg>\n",
              "      </button>\n",
              "      \n",
              "  <style>\n",
              "    .colab-df-container {\n",
              "      display:flex;\n",
              "      flex-wrap:wrap;\n",
              "      gap: 12px;\n",
              "    }\n",
              "\n",
              "    .colab-df-convert {\n",
              "      background-color: #E8F0FE;\n",
              "      border: none;\n",
              "      border-radius: 50%;\n",
              "      cursor: pointer;\n",
              "      display: none;\n",
              "      fill: #1967D2;\n",
              "      height: 32px;\n",
              "      padding: 0 0 0 0;\n",
              "      width: 32px;\n",
              "    }\n",
              "\n",
              "    .colab-df-convert:hover {\n",
              "      background-color: #E2EBFA;\n",
              "      box-shadow: 0px 1px 2px rgba(60, 64, 67, 0.3), 0px 1px 3px 1px rgba(60, 64, 67, 0.15);\n",
              "      fill: #174EA6;\n",
              "    }\n",
              "\n",
              "    [theme=dark] .colab-df-convert {\n",
              "      background-color: #3B4455;\n",
              "      fill: #D2E3FC;\n",
              "    }\n",
              "\n",
              "    [theme=dark] .colab-df-convert:hover {\n",
              "      background-color: #434B5C;\n",
              "      box-shadow: 0px 1px 3px 1px rgba(0, 0, 0, 0.15);\n",
              "      filter: drop-shadow(0px 1px 2px rgba(0, 0, 0, 0.3));\n",
              "      fill: #FFFFFF;\n",
              "    }\n",
              "  </style>\n",
              "\n",
              "      <script>\n",
              "        const buttonEl =\n",
              "          document.querySelector('#df-a62cc399-7851-40a5-a359-0491d43141ef button.colab-df-convert');\n",
              "        buttonEl.style.display =\n",
              "          google.colab.kernel.accessAllowed ? 'block' : 'none';\n",
              "\n",
              "        async function convertToInteractive(key) {\n",
              "          const element = document.querySelector('#df-a62cc399-7851-40a5-a359-0491d43141ef');\n",
              "          const dataTable =\n",
              "            await google.colab.kernel.invokeFunction('convertToInteractive',\n",
              "                                                     [key], {});\n",
              "          if (!dataTable) return;\n",
              "\n",
              "          const docLinkHtml = 'Like what you see? Visit the ' +\n",
              "            '<a target=\"_blank\" href=https://colab.research.google.com/notebooks/data_table.ipynb>data table notebook</a>'\n",
              "            + ' to learn more about interactive tables.';\n",
              "          element.innerHTML = '';\n",
              "          dataTable['output_type'] = 'display_data';\n",
              "          await google.colab.output.renderOutput(dataTable, element);\n",
              "          const docLink = document.createElement('div');\n",
              "          docLink.innerHTML = docLinkHtml;\n",
              "          element.appendChild(docLink);\n",
              "        }\n",
              "      </script>\n",
              "    </div>\n",
              "  </div>\n",
              "  "
            ]
          },
          "metadata": {},
          "execution_count": 329
        }
      ]
    },
    {
      "cell_type": "code",
      "source": [
        "disease_pathway.shape"
      ],
      "metadata": {
        "colab": {
          "base_uri": "https://localhost:8080/"
        },
        "outputId": "d5c1a26b-4825-4891-8334-0598a231a00d",
        "id": "D95Vtym55mtc"
      },
      "execution_count": null,
      "outputs": [
        {
          "output_type": "execute_result",
          "data": {
            "text/plain": [
              "(3896, 5)"
            ]
          },
          "metadata": {},
          "execution_count": 330
        }
      ]
    },
    {
      "cell_type": "code",
      "source": [
        "pathwayList = set(disease_pathway[\"tail_entity\"].values)\n",
        "len(pathwayList)"
      ],
      "metadata": {
        "colab": {
          "base_uri": "https://localhost:8080/"
        },
        "id": "5l4EioLk6SCr",
        "outputId": "5e3b9d25-5a89-49c5-8b64-aaf568dab016"
      },
      "execution_count": null,
      "outputs": [
        {
          "output_type": "execute_result",
          "data": {
            "text/plain": [
              "1335"
            ]
          },
          "metadata": {},
          "execution_count": 332
        }
      ]
    },
    {
      "cell_type": "markdown",
      "source": [
        "`pathwayList` unique pathways involved in diseases in the knowledge graph; 1335 in total"
      ],
      "metadata": {
        "id": "cNNYUByd6uqk"
      }
    },
    {
      "cell_type": "markdown",
      "metadata": {
        "id": "zCI9byfAM38D"
      },
      "source": [
        "## **Disease-gene Association**\n",
        "Genes associated with NDDs"
      ]
    },
    {
      "cell_type": "code",
      "source": [
        "disease_gene = pd.read_csv(fp+\"CTD_NDD_genes.csv\")\n",
        "disease_gene.head()"
      ],
      "metadata": {
        "id": "OmVgqKciWKpK"
      },
      "execution_count": null,
      "outputs": []
    },
    {
      "cell_type": "code",
      "source": [
        "disease_gene = disease_gene[(disease_gene[\"Disease ID\"].isin(diseaseList))]\n",
        "disease_gene = disease_gene[(disease_gene[\"Gene Symbol\"].isin(geneList))]\n",
        "\n",
        "disease_gene = disease_gene.rename(columns={\"Gene Symbol\":\"tail_entity\",\"Disease ID\":\"head_entity\"})\n",
        "disease_gene = disease_gene.reset_index(drop=True)\n",
        "disease_gene[\"relation\"] = \"associated_with_gene\"\n",
        "disease_gene = disease_gene[[\"head_entity\", \"relation\", \"tail_entity\"]]\n",
        "disease_gene[\"head_label\"] = \"disease\"\n",
        "disease_gene[\"tail_label\"] = \"gene\"\n",
        "\n",
        "\n",
        "disease_gene.head()"
      ],
      "metadata": {
        "id": "PHL4umXNdn_O",
        "colab": {
          "base_uri": "https://localhost:8080/",
          "height": 206
        },
        "outputId": "aff101f3-7a1b-4c28-a231-14d234bd8acc"
      },
      "execution_count": null,
      "outputs": [
        {
          "output_type": "execute_result",
          "data": {
            "text/plain": [
              "    head_entity              relation tail_entity head_label tail_label\n",
              "0  MESH:D000544  associated_with_gene         APP    disease       gene\n",
              "1  MESH:D019636  associated_with_gene        SOD2    disease       gene\n",
              "2  MESH:D010300  associated_with_gene        BDNF    disease       gene\n",
              "3  MESH:D010300  associated_with_gene        SNCA    disease       gene\n",
              "4  MESH:D000544  associated_with_gene        IL1B    disease       gene"
            ],
            "text/html": [
              "\n",
              "  <div id=\"df-59ceb264-1b81-47f5-92a8-3ed7084e7220\">\n",
              "    <div class=\"colab-df-container\">\n",
              "      <div>\n",
              "<style scoped>\n",
              "    .dataframe tbody tr th:only-of-type {\n",
              "        vertical-align: middle;\n",
              "    }\n",
              "\n",
              "    .dataframe tbody tr th {\n",
              "        vertical-align: top;\n",
              "    }\n",
              "\n",
              "    .dataframe thead th {\n",
              "        text-align: right;\n",
              "    }\n",
              "</style>\n",
              "<table border=\"1\" class=\"dataframe\">\n",
              "  <thead>\n",
              "    <tr style=\"text-align: right;\">\n",
              "      <th></th>\n",
              "      <th>head_entity</th>\n",
              "      <th>relation</th>\n",
              "      <th>tail_entity</th>\n",
              "      <th>head_label</th>\n",
              "      <th>tail_label</th>\n",
              "    </tr>\n",
              "  </thead>\n",
              "  <tbody>\n",
              "    <tr>\n",
              "      <th>0</th>\n",
              "      <td>MESH:D000544</td>\n",
              "      <td>associated_with_gene</td>\n",
              "      <td>APP</td>\n",
              "      <td>disease</td>\n",
              "      <td>gene</td>\n",
              "    </tr>\n",
              "    <tr>\n",
              "      <th>1</th>\n",
              "      <td>MESH:D019636</td>\n",
              "      <td>associated_with_gene</td>\n",
              "      <td>SOD2</td>\n",
              "      <td>disease</td>\n",
              "      <td>gene</td>\n",
              "    </tr>\n",
              "    <tr>\n",
              "      <th>2</th>\n",
              "      <td>MESH:D010300</td>\n",
              "      <td>associated_with_gene</td>\n",
              "      <td>BDNF</td>\n",
              "      <td>disease</td>\n",
              "      <td>gene</td>\n",
              "    </tr>\n",
              "    <tr>\n",
              "      <th>3</th>\n",
              "      <td>MESH:D010300</td>\n",
              "      <td>associated_with_gene</td>\n",
              "      <td>SNCA</td>\n",
              "      <td>disease</td>\n",
              "      <td>gene</td>\n",
              "    </tr>\n",
              "    <tr>\n",
              "      <th>4</th>\n",
              "      <td>MESH:D000544</td>\n",
              "      <td>associated_with_gene</td>\n",
              "      <td>IL1B</td>\n",
              "      <td>disease</td>\n",
              "      <td>gene</td>\n",
              "    </tr>\n",
              "  </tbody>\n",
              "</table>\n",
              "</div>\n",
              "      <button class=\"colab-df-convert\" onclick=\"convertToInteractive('df-59ceb264-1b81-47f5-92a8-3ed7084e7220')\"\n",
              "              title=\"Convert this dataframe to an interactive table.\"\n",
              "              style=\"display:none;\">\n",
              "        \n",
              "  <svg xmlns=\"http://www.w3.org/2000/svg\" height=\"24px\"viewBox=\"0 0 24 24\"\n",
              "       width=\"24px\">\n",
              "    <path d=\"M0 0h24v24H0V0z\" fill=\"none\"/>\n",
              "    <path d=\"M18.56 5.44l.94 2.06.94-2.06 2.06-.94-2.06-.94-.94-2.06-.94 2.06-2.06.94zm-11 1L8.5 8.5l.94-2.06 2.06-.94-2.06-.94L8.5 2.5l-.94 2.06-2.06.94zm10 10l.94 2.06.94-2.06 2.06-.94-2.06-.94-.94-2.06-.94 2.06-2.06.94z\"/><path d=\"M17.41 7.96l-1.37-1.37c-.4-.4-.92-.59-1.43-.59-.52 0-1.04.2-1.43.59L10.3 9.45l-7.72 7.72c-.78.78-.78 2.05 0 2.83L4 21.41c.39.39.9.59 1.41.59.51 0 1.02-.2 1.41-.59l7.78-7.78 2.81-2.81c.8-.78.8-2.07 0-2.86zM5.41 20L4 18.59l7.72-7.72 1.47 1.35L5.41 20z\"/>\n",
              "  </svg>\n",
              "      </button>\n",
              "      \n",
              "  <style>\n",
              "    .colab-df-container {\n",
              "      display:flex;\n",
              "      flex-wrap:wrap;\n",
              "      gap: 12px;\n",
              "    }\n",
              "\n",
              "    .colab-df-convert {\n",
              "      background-color: #E8F0FE;\n",
              "      border: none;\n",
              "      border-radius: 50%;\n",
              "      cursor: pointer;\n",
              "      display: none;\n",
              "      fill: #1967D2;\n",
              "      height: 32px;\n",
              "      padding: 0 0 0 0;\n",
              "      width: 32px;\n",
              "    }\n",
              "\n",
              "    .colab-df-convert:hover {\n",
              "      background-color: #E2EBFA;\n",
              "      box-shadow: 0px 1px 2px rgba(60, 64, 67, 0.3), 0px 1px 3px 1px rgba(60, 64, 67, 0.15);\n",
              "      fill: #174EA6;\n",
              "    }\n",
              "\n",
              "    [theme=dark] .colab-df-convert {\n",
              "      background-color: #3B4455;\n",
              "      fill: #D2E3FC;\n",
              "    }\n",
              "\n",
              "    [theme=dark] .colab-df-convert:hover {\n",
              "      background-color: #434B5C;\n",
              "      box-shadow: 0px 1px 3px 1px rgba(0, 0, 0, 0.15);\n",
              "      filter: drop-shadow(0px 1px 2px rgba(0, 0, 0, 0.3));\n",
              "      fill: #FFFFFF;\n",
              "    }\n",
              "  </style>\n",
              "\n",
              "      <script>\n",
              "        const buttonEl =\n",
              "          document.querySelector('#df-59ceb264-1b81-47f5-92a8-3ed7084e7220 button.colab-df-convert');\n",
              "        buttonEl.style.display =\n",
              "          google.colab.kernel.accessAllowed ? 'block' : 'none';\n",
              "\n",
              "        async function convertToInteractive(key) {\n",
              "          const element = document.querySelector('#df-59ceb264-1b81-47f5-92a8-3ed7084e7220');\n",
              "          const dataTable =\n",
              "            await google.colab.kernel.invokeFunction('convertToInteractive',\n",
              "                                                     [key], {});\n",
              "          if (!dataTable) return;\n",
              "\n",
              "          const docLinkHtml = 'Like what you see? Visit the ' +\n",
              "            '<a target=\"_blank\" href=https://colab.research.google.com/notebooks/data_table.ipynb>data table notebook</a>'\n",
              "            + ' to learn more about interactive tables.';\n",
              "          element.innerHTML = '';\n",
              "          dataTable['output_type'] = 'display_data';\n",
              "          await google.colab.output.renderOutput(dataTable, element);\n",
              "          const docLink = document.createElement('div');\n",
              "          docLink.innerHTML = docLinkHtml;\n",
              "          element.appendChild(docLink);\n",
              "        }\n",
              "      </script>\n",
              "    </div>\n",
              "  </div>\n",
              "  "
            ]
          },
          "metadata": {},
          "execution_count": 335
        }
      ]
    },
    {
      "cell_type": "code",
      "source": [
        "disease_gene.shape"
      ],
      "metadata": {
        "colab": {
          "base_uri": "https://localhost:8080/"
        },
        "id": "1DJ3hj0ZyvCe",
        "outputId": "2fedc586-6fec-4816-d80f-055ca50ed05d"
      },
      "execution_count": null,
      "outputs": [
        {
          "output_type": "execute_result",
          "data": {
            "text/plain": [
              "(183900, 5)"
            ]
          },
          "metadata": {},
          "execution_count": 336
        }
      ]
    },
    {
      "cell_type": "markdown",
      "source": [
        "## **Gene-Pathway Association**\n",
        "Downloaded from CTD<br>\n",
        "Fields:\n",
        "GeneSymbol\tGeneID\tPathwayName\tPathwayID\n"
      ],
      "metadata": {
        "id": "Z6tzxg8F_JyC"
      }
    },
    {
      "cell_type": "code",
      "source": [
        "gene_pathway = pd.read_csv(fp+\"CTD_genes_pathways.tsv\",\n",
        "                 delimiter=\"\\t\", comment=\"#\", header=None,\n",
        "                 names = [\"GeneSymbol\",\"GeneID\",\"PathwayName\",\"PathwayID\"])\n",
        "gene_pathway.head()"
      ],
      "metadata": {
        "id": "Sy4KC4ly_VKH"
      },
      "execution_count": null,
      "outputs": []
    },
    {
      "cell_type": "code",
      "source": [
        "gene_pathway = gene_pathway[(gene_pathway[\"PathwayID\"].isin(pathwayList))]\n",
        "gene_pathway = gene_pathway[(gene_pathway[\"GeneSymbol\"].isin(geneList))]\n",
        "\n",
        "gene_pathway = gene_pathway.rename(columns={\"GeneSymbol\":\"head_entity\",\"PathwayID\":\"tail_entity\"})\n",
        "gene_pathway[\"relation\"] = \"involves_in_path\"\n",
        "gene_pathway = gene_pathway[[\"head_entity\", \"relation\", \"tail_entity\"]]\n",
        "\n",
        "gene_pathway[\"head_label\"] = \"gene\"\n",
        "gene_pathway[\"tail_label\"] = \"pathway\"\n",
        "\n",
        "gene_pathway = gene_pathway.dropna().drop_duplicates()\n",
        "gene_pathway.head()"
      ],
      "metadata": {
        "id": "HC7eIBkC70LZ",
        "colab": {
          "base_uri": "https://localhost:8080/",
          "height": 206
        },
        "outputId": "8747fa4c-89de-4684-cbb5-3aa2ea7b76ab"
      },
      "execution_count": null,
      "outputs": [
        {
          "output_type": "execute_result",
          "data": {
            "text/plain": [
              "  head_entity          relation          tail_entity head_label tail_label\n",
              "0        A1BG  involves_in_path   REACT:R-HSA-109582       gene    pathway\n",
              "1        A1BG  involves_in_path   REACT:R-HSA-168256       gene    pathway\n",
              "2        A1BG  involves_in_path   REACT:R-HSA-168249       gene    pathway\n",
              "3        A1BG  involves_in_path  REACT:R-HSA-6798695       gene    pathway\n",
              "4        A1BG  involves_in_path    REACT:R-HSA-76002       gene    pathway"
            ],
            "text/html": [
              "\n",
              "  <div id=\"df-e6dd83ff-c2c0-4164-b14d-8d64eb2e409e\">\n",
              "    <div class=\"colab-df-container\">\n",
              "      <div>\n",
              "<style scoped>\n",
              "    .dataframe tbody tr th:only-of-type {\n",
              "        vertical-align: middle;\n",
              "    }\n",
              "\n",
              "    .dataframe tbody tr th {\n",
              "        vertical-align: top;\n",
              "    }\n",
              "\n",
              "    .dataframe thead th {\n",
              "        text-align: right;\n",
              "    }\n",
              "</style>\n",
              "<table border=\"1\" class=\"dataframe\">\n",
              "  <thead>\n",
              "    <tr style=\"text-align: right;\">\n",
              "      <th></th>\n",
              "      <th>head_entity</th>\n",
              "      <th>relation</th>\n",
              "      <th>tail_entity</th>\n",
              "      <th>head_label</th>\n",
              "      <th>tail_label</th>\n",
              "    </tr>\n",
              "  </thead>\n",
              "  <tbody>\n",
              "    <tr>\n",
              "      <th>0</th>\n",
              "      <td>A1BG</td>\n",
              "      <td>involves_in_path</td>\n",
              "      <td>REACT:R-HSA-109582</td>\n",
              "      <td>gene</td>\n",
              "      <td>pathway</td>\n",
              "    </tr>\n",
              "    <tr>\n",
              "      <th>1</th>\n",
              "      <td>A1BG</td>\n",
              "      <td>involves_in_path</td>\n",
              "      <td>REACT:R-HSA-168256</td>\n",
              "      <td>gene</td>\n",
              "      <td>pathway</td>\n",
              "    </tr>\n",
              "    <tr>\n",
              "      <th>2</th>\n",
              "      <td>A1BG</td>\n",
              "      <td>involves_in_path</td>\n",
              "      <td>REACT:R-HSA-168249</td>\n",
              "      <td>gene</td>\n",
              "      <td>pathway</td>\n",
              "    </tr>\n",
              "    <tr>\n",
              "      <th>3</th>\n",
              "      <td>A1BG</td>\n",
              "      <td>involves_in_path</td>\n",
              "      <td>REACT:R-HSA-6798695</td>\n",
              "      <td>gene</td>\n",
              "      <td>pathway</td>\n",
              "    </tr>\n",
              "    <tr>\n",
              "      <th>4</th>\n",
              "      <td>A1BG</td>\n",
              "      <td>involves_in_path</td>\n",
              "      <td>REACT:R-HSA-76002</td>\n",
              "      <td>gene</td>\n",
              "      <td>pathway</td>\n",
              "    </tr>\n",
              "  </tbody>\n",
              "</table>\n",
              "</div>\n",
              "      <button class=\"colab-df-convert\" onclick=\"convertToInteractive('df-e6dd83ff-c2c0-4164-b14d-8d64eb2e409e')\"\n",
              "              title=\"Convert this dataframe to an interactive table.\"\n",
              "              style=\"display:none;\">\n",
              "        \n",
              "  <svg xmlns=\"http://www.w3.org/2000/svg\" height=\"24px\"viewBox=\"0 0 24 24\"\n",
              "       width=\"24px\">\n",
              "    <path d=\"M0 0h24v24H0V0z\" fill=\"none\"/>\n",
              "    <path d=\"M18.56 5.44l.94 2.06.94-2.06 2.06-.94-2.06-.94-.94-2.06-.94 2.06-2.06.94zm-11 1L8.5 8.5l.94-2.06 2.06-.94-2.06-.94L8.5 2.5l-.94 2.06-2.06.94zm10 10l.94 2.06.94-2.06 2.06-.94-2.06-.94-.94-2.06-.94 2.06-2.06.94z\"/><path d=\"M17.41 7.96l-1.37-1.37c-.4-.4-.92-.59-1.43-.59-.52 0-1.04.2-1.43.59L10.3 9.45l-7.72 7.72c-.78.78-.78 2.05 0 2.83L4 21.41c.39.39.9.59 1.41.59.51 0 1.02-.2 1.41-.59l7.78-7.78 2.81-2.81c.8-.78.8-2.07 0-2.86zM5.41 20L4 18.59l7.72-7.72 1.47 1.35L5.41 20z\"/>\n",
              "  </svg>\n",
              "      </button>\n",
              "      \n",
              "  <style>\n",
              "    .colab-df-container {\n",
              "      display:flex;\n",
              "      flex-wrap:wrap;\n",
              "      gap: 12px;\n",
              "    }\n",
              "\n",
              "    .colab-df-convert {\n",
              "      background-color: #E8F0FE;\n",
              "      border: none;\n",
              "      border-radius: 50%;\n",
              "      cursor: pointer;\n",
              "      display: none;\n",
              "      fill: #1967D2;\n",
              "      height: 32px;\n",
              "      padding: 0 0 0 0;\n",
              "      width: 32px;\n",
              "    }\n",
              "\n",
              "    .colab-df-convert:hover {\n",
              "      background-color: #E2EBFA;\n",
              "      box-shadow: 0px 1px 2px rgba(60, 64, 67, 0.3), 0px 1px 3px 1px rgba(60, 64, 67, 0.15);\n",
              "      fill: #174EA6;\n",
              "    }\n",
              "\n",
              "    [theme=dark] .colab-df-convert {\n",
              "      background-color: #3B4455;\n",
              "      fill: #D2E3FC;\n",
              "    }\n",
              "\n",
              "    [theme=dark] .colab-df-convert:hover {\n",
              "      background-color: #434B5C;\n",
              "      box-shadow: 0px 1px 3px 1px rgba(0, 0, 0, 0.15);\n",
              "      filter: drop-shadow(0px 1px 2px rgba(0, 0, 0, 0.3));\n",
              "      fill: #FFFFFF;\n",
              "    }\n",
              "  </style>\n",
              "\n",
              "      <script>\n",
              "        const buttonEl =\n",
              "          document.querySelector('#df-e6dd83ff-c2c0-4164-b14d-8d64eb2e409e button.colab-df-convert');\n",
              "        buttonEl.style.display =\n",
              "          google.colab.kernel.accessAllowed ? 'block' : 'none';\n",
              "\n",
              "        async function convertToInteractive(key) {\n",
              "          const element = document.querySelector('#df-e6dd83ff-c2c0-4164-b14d-8d64eb2e409e');\n",
              "          const dataTable =\n",
              "            await google.colab.kernel.invokeFunction('convertToInteractive',\n",
              "                                                     [key], {});\n",
              "          if (!dataTable) return;\n",
              "\n",
              "          const docLinkHtml = 'Like what you see? Visit the ' +\n",
              "            '<a target=\"_blank\" href=https://colab.research.google.com/notebooks/data_table.ipynb>data table notebook</a>'\n",
              "            + ' to learn more about interactive tables.';\n",
              "          element.innerHTML = '';\n",
              "          dataTable['output_type'] = 'display_data';\n",
              "          await google.colab.output.renderOutput(dataTable, element);\n",
              "          const docLink = document.createElement('div');\n",
              "          docLink.innerHTML = docLinkHtml;\n",
              "          element.appendChild(docLink);\n",
              "        }\n",
              "      </script>\n",
              "    </div>\n",
              "  </div>\n",
              "  "
            ]
          },
          "metadata": {},
          "execution_count": 338
        }
      ]
    },
    {
      "cell_type": "code",
      "source": [
        "gene_pathway.shape"
      ],
      "metadata": {
        "colab": {
          "base_uri": "https://localhost:8080/"
        },
        "id": "nbq1Hg5c9Eli",
        "outputId": "0e9c3829-da59-4dbe-becf-e44a994e912d"
      },
      "execution_count": null,
      "outputs": [
        {
          "output_type": "execute_result",
          "data": {
            "text/plain": [
              "(109289, 5)"
            ]
          },
          "metadata": {},
          "execution_count": 339
        }
      ]
    },
    {
      "cell_type": "markdown",
      "source": [
        "## **Drug similarity**\n",
        "- see 1.0_preprocessing.ipynb"
      ],
      "metadata": {
        "id": "gPgrTRtf9M1y"
      }
    },
    {
      "cell_type": "code",
      "source": [
        "drug_similarity = pd.read_csv(fp+\"drug_similarity.csv\")\n",
        "drug_similarity.head()"
      ],
      "metadata": {
        "colab": {
          "base_uri": "https://localhost:8080/",
          "height": 206
        },
        "id": "LDT1mgxe9SZs",
        "outputId": "2ecabf5a-652f-4b98-8d23-15429d583b81"
      },
      "execution_count": null,
      "outputs": [
        {
          "output_type": "execute_result",
          "data": {
            "text/plain": [
              "        query               target  similarity\n",
              "0  Miconazole          Tioconazole    0.780000\n",
              "1  Miconazole            Econazole    0.787234\n",
              "2   Goserelin           Deslorelin    0.834711\n",
              "3   Goserelin          Triptorelin    0.827869\n",
              "4   Goserelin  Leuprorelin acetate    0.829268"
            ],
            "text/html": [
              "\n",
              "  <div id=\"df-e0e36e7b-53dd-4550-9891-d7a07ec8c908\">\n",
              "    <div class=\"colab-df-container\">\n",
              "      <div>\n",
              "<style scoped>\n",
              "    .dataframe tbody tr th:only-of-type {\n",
              "        vertical-align: middle;\n",
              "    }\n",
              "\n",
              "    .dataframe tbody tr th {\n",
              "        vertical-align: top;\n",
              "    }\n",
              "\n",
              "    .dataframe thead th {\n",
              "        text-align: right;\n",
              "    }\n",
              "</style>\n",
              "<table border=\"1\" class=\"dataframe\">\n",
              "  <thead>\n",
              "    <tr style=\"text-align: right;\">\n",
              "      <th></th>\n",
              "      <th>query</th>\n",
              "      <th>target</th>\n",
              "      <th>similarity</th>\n",
              "    </tr>\n",
              "  </thead>\n",
              "  <tbody>\n",
              "    <tr>\n",
              "      <th>0</th>\n",
              "      <td>Miconazole</td>\n",
              "      <td>Tioconazole</td>\n",
              "      <td>0.780000</td>\n",
              "    </tr>\n",
              "    <tr>\n",
              "      <th>1</th>\n",
              "      <td>Miconazole</td>\n",
              "      <td>Econazole</td>\n",
              "      <td>0.787234</td>\n",
              "    </tr>\n",
              "    <tr>\n",
              "      <th>2</th>\n",
              "      <td>Goserelin</td>\n",
              "      <td>Deslorelin</td>\n",
              "      <td>0.834711</td>\n",
              "    </tr>\n",
              "    <tr>\n",
              "      <th>3</th>\n",
              "      <td>Goserelin</td>\n",
              "      <td>Triptorelin</td>\n",
              "      <td>0.827869</td>\n",
              "    </tr>\n",
              "    <tr>\n",
              "      <th>4</th>\n",
              "      <td>Goserelin</td>\n",
              "      <td>Leuprorelin acetate</td>\n",
              "      <td>0.829268</td>\n",
              "    </tr>\n",
              "  </tbody>\n",
              "</table>\n",
              "</div>\n",
              "      <button class=\"colab-df-convert\" onclick=\"convertToInteractive('df-e0e36e7b-53dd-4550-9891-d7a07ec8c908')\"\n",
              "              title=\"Convert this dataframe to an interactive table.\"\n",
              "              style=\"display:none;\">\n",
              "        \n",
              "  <svg xmlns=\"http://www.w3.org/2000/svg\" height=\"24px\"viewBox=\"0 0 24 24\"\n",
              "       width=\"24px\">\n",
              "    <path d=\"M0 0h24v24H0V0z\" fill=\"none\"/>\n",
              "    <path d=\"M18.56 5.44l.94 2.06.94-2.06 2.06-.94-2.06-.94-.94-2.06-.94 2.06-2.06.94zm-11 1L8.5 8.5l.94-2.06 2.06-.94-2.06-.94L8.5 2.5l-.94 2.06-2.06.94zm10 10l.94 2.06.94-2.06 2.06-.94-2.06-.94-.94-2.06-.94 2.06-2.06.94z\"/><path d=\"M17.41 7.96l-1.37-1.37c-.4-.4-.92-.59-1.43-.59-.52 0-1.04.2-1.43.59L10.3 9.45l-7.72 7.72c-.78.78-.78 2.05 0 2.83L4 21.41c.39.39.9.59 1.41.59.51 0 1.02-.2 1.41-.59l7.78-7.78 2.81-2.81c.8-.78.8-2.07 0-2.86zM5.41 20L4 18.59l7.72-7.72 1.47 1.35L5.41 20z\"/>\n",
              "  </svg>\n",
              "      </button>\n",
              "      \n",
              "  <style>\n",
              "    .colab-df-container {\n",
              "      display:flex;\n",
              "      flex-wrap:wrap;\n",
              "      gap: 12px;\n",
              "    }\n",
              "\n",
              "    .colab-df-convert {\n",
              "      background-color: #E8F0FE;\n",
              "      border: none;\n",
              "      border-radius: 50%;\n",
              "      cursor: pointer;\n",
              "      display: none;\n",
              "      fill: #1967D2;\n",
              "      height: 32px;\n",
              "      padding: 0 0 0 0;\n",
              "      width: 32px;\n",
              "    }\n",
              "\n",
              "    .colab-df-convert:hover {\n",
              "      background-color: #E2EBFA;\n",
              "      box-shadow: 0px 1px 2px rgba(60, 64, 67, 0.3), 0px 1px 3px 1px rgba(60, 64, 67, 0.15);\n",
              "      fill: #174EA6;\n",
              "    }\n",
              "\n",
              "    [theme=dark] .colab-df-convert {\n",
              "      background-color: #3B4455;\n",
              "      fill: #D2E3FC;\n",
              "    }\n",
              "\n",
              "    [theme=dark] .colab-df-convert:hover {\n",
              "      background-color: #434B5C;\n",
              "      box-shadow: 0px 1px 3px 1px rgba(0, 0, 0, 0.15);\n",
              "      filter: drop-shadow(0px 1px 2px rgba(0, 0, 0, 0.3));\n",
              "      fill: #FFFFFF;\n",
              "    }\n",
              "  </style>\n",
              "\n",
              "      <script>\n",
              "        const buttonEl =\n",
              "          document.querySelector('#df-e0e36e7b-53dd-4550-9891-d7a07ec8c908 button.colab-df-convert');\n",
              "        buttonEl.style.display =\n",
              "          google.colab.kernel.accessAllowed ? 'block' : 'none';\n",
              "\n",
              "        async function convertToInteractive(key) {\n",
              "          const element = document.querySelector('#df-e0e36e7b-53dd-4550-9891-d7a07ec8c908');\n",
              "          const dataTable =\n",
              "            await google.colab.kernel.invokeFunction('convertToInteractive',\n",
              "                                                     [key], {});\n",
              "          if (!dataTable) return;\n",
              "\n",
              "          const docLinkHtml = 'Like what you see? Visit the ' +\n",
              "            '<a target=\"_blank\" href=https://colab.research.google.com/notebooks/data_table.ipynb>data table notebook</a>'\n",
              "            + ' to learn more about interactive tables.';\n",
              "          element.innerHTML = '';\n",
              "          dataTable['output_type'] = 'display_data';\n",
              "          await google.colab.output.renderOutput(dataTable, element);\n",
              "          const docLink = document.createElement('div');\n",
              "          docLink.innerHTML = docLinkHtml;\n",
              "          element.appendChild(docLink);\n",
              "        }\n",
              "      </script>\n",
              "    </div>\n",
              "  </div>\n",
              "  "
            ]
          },
          "metadata": {},
          "execution_count": 340
        }
      ]
    },
    {
      "cell_type": "markdown",
      "source": [
        "- Convert drug name to CAS"
      ],
      "metadata": {
        "id": "QnYDf1S3sEYs"
      }
    },
    {
      "cell_type": "code",
      "source": [
        "drug_similarity[\"relation\"] = \"resembles\"\n",
        "drug_similarity = drug_similarity.rename(columns={\"query\":\"head_entity\",\"target\":\"tail_entity\"})\n",
        "drug_similarity = drug_similarity[[\"head_entity\",\"relation\",\"tail_entity\"]]\n",
        "\n",
        "drug_similarity[\"head_entity\"] = drug_similarity[\"head_entity\"].map(drug2cas)\n",
        "drug_similarity[\"tail_entity\"] = drug_similarity[\"tail_entity\"].map(drug2cas)\n",
        "\n",
        "drug_similarity[\"head_label\"] = \"drug\"\n",
        "drug_similarity[\"tail_label\"] = \"drug\"\n",
        "drug_similarity.head()"
      ],
      "metadata": {
        "colab": {
          "base_uri": "https://localhost:8080/",
          "height": 206
        },
        "id": "eoM9bAiU92p_",
        "outputId": "9f9a0509-a8dc-4141-eb22-7a75bac4c056"
      },
      "execution_count": null,
      "outputs": [
        {
          "output_type": "execute_result",
          "data": {
            "text/plain": [
              "  head_entity   relation tail_entity head_label tail_label\n",
              "0  22916-47-8  resembles  65899-73-2       drug       drug\n",
              "1  22916-47-8  resembles  27220-47-9       drug       drug\n",
              "2  65807-02-5  resembles  57773-65-6       drug       drug\n",
              "3  65807-02-5  resembles  57773-63-4       drug       drug\n",
              "4  65807-02-5  resembles  74381-53-6       drug       drug"
            ],
            "text/html": [
              "\n",
              "  <div id=\"df-b3c5133c-51d6-42c9-9661-d741227f2987\">\n",
              "    <div class=\"colab-df-container\">\n",
              "      <div>\n",
              "<style scoped>\n",
              "    .dataframe tbody tr th:only-of-type {\n",
              "        vertical-align: middle;\n",
              "    }\n",
              "\n",
              "    .dataframe tbody tr th {\n",
              "        vertical-align: top;\n",
              "    }\n",
              "\n",
              "    .dataframe thead th {\n",
              "        text-align: right;\n",
              "    }\n",
              "</style>\n",
              "<table border=\"1\" class=\"dataframe\">\n",
              "  <thead>\n",
              "    <tr style=\"text-align: right;\">\n",
              "      <th></th>\n",
              "      <th>head_entity</th>\n",
              "      <th>relation</th>\n",
              "      <th>tail_entity</th>\n",
              "      <th>head_label</th>\n",
              "      <th>tail_label</th>\n",
              "    </tr>\n",
              "  </thead>\n",
              "  <tbody>\n",
              "    <tr>\n",
              "      <th>0</th>\n",
              "      <td>22916-47-8</td>\n",
              "      <td>resembles</td>\n",
              "      <td>65899-73-2</td>\n",
              "      <td>drug</td>\n",
              "      <td>drug</td>\n",
              "    </tr>\n",
              "    <tr>\n",
              "      <th>1</th>\n",
              "      <td>22916-47-8</td>\n",
              "      <td>resembles</td>\n",
              "      <td>27220-47-9</td>\n",
              "      <td>drug</td>\n",
              "      <td>drug</td>\n",
              "    </tr>\n",
              "    <tr>\n",
              "      <th>2</th>\n",
              "      <td>65807-02-5</td>\n",
              "      <td>resembles</td>\n",
              "      <td>57773-65-6</td>\n",
              "      <td>drug</td>\n",
              "      <td>drug</td>\n",
              "    </tr>\n",
              "    <tr>\n",
              "      <th>3</th>\n",
              "      <td>65807-02-5</td>\n",
              "      <td>resembles</td>\n",
              "      <td>57773-63-4</td>\n",
              "      <td>drug</td>\n",
              "      <td>drug</td>\n",
              "    </tr>\n",
              "    <tr>\n",
              "      <th>4</th>\n",
              "      <td>65807-02-5</td>\n",
              "      <td>resembles</td>\n",
              "      <td>74381-53-6</td>\n",
              "      <td>drug</td>\n",
              "      <td>drug</td>\n",
              "    </tr>\n",
              "  </tbody>\n",
              "</table>\n",
              "</div>\n",
              "      <button class=\"colab-df-convert\" onclick=\"convertToInteractive('df-b3c5133c-51d6-42c9-9661-d741227f2987')\"\n",
              "              title=\"Convert this dataframe to an interactive table.\"\n",
              "              style=\"display:none;\">\n",
              "        \n",
              "  <svg xmlns=\"http://www.w3.org/2000/svg\" height=\"24px\"viewBox=\"0 0 24 24\"\n",
              "       width=\"24px\">\n",
              "    <path d=\"M0 0h24v24H0V0z\" fill=\"none\"/>\n",
              "    <path d=\"M18.56 5.44l.94 2.06.94-2.06 2.06-.94-2.06-.94-.94-2.06-.94 2.06-2.06.94zm-11 1L8.5 8.5l.94-2.06 2.06-.94-2.06-.94L8.5 2.5l-.94 2.06-2.06.94zm10 10l.94 2.06.94-2.06 2.06-.94-2.06-.94-.94-2.06-.94 2.06-2.06.94z\"/><path d=\"M17.41 7.96l-1.37-1.37c-.4-.4-.92-.59-1.43-.59-.52 0-1.04.2-1.43.59L10.3 9.45l-7.72 7.72c-.78.78-.78 2.05 0 2.83L4 21.41c.39.39.9.59 1.41.59.51 0 1.02-.2 1.41-.59l7.78-7.78 2.81-2.81c.8-.78.8-2.07 0-2.86zM5.41 20L4 18.59l7.72-7.72 1.47 1.35L5.41 20z\"/>\n",
              "  </svg>\n",
              "      </button>\n",
              "      \n",
              "  <style>\n",
              "    .colab-df-container {\n",
              "      display:flex;\n",
              "      flex-wrap:wrap;\n",
              "      gap: 12px;\n",
              "    }\n",
              "\n",
              "    .colab-df-convert {\n",
              "      background-color: #E8F0FE;\n",
              "      border: none;\n",
              "      border-radius: 50%;\n",
              "      cursor: pointer;\n",
              "      display: none;\n",
              "      fill: #1967D2;\n",
              "      height: 32px;\n",
              "      padding: 0 0 0 0;\n",
              "      width: 32px;\n",
              "    }\n",
              "\n",
              "    .colab-df-convert:hover {\n",
              "      background-color: #E2EBFA;\n",
              "      box-shadow: 0px 1px 2px rgba(60, 64, 67, 0.3), 0px 1px 3px 1px rgba(60, 64, 67, 0.15);\n",
              "      fill: #174EA6;\n",
              "    }\n",
              "\n",
              "    [theme=dark] .colab-df-convert {\n",
              "      background-color: #3B4455;\n",
              "      fill: #D2E3FC;\n",
              "    }\n",
              "\n",
              "    [theme=dark] .colab-df-convert:hover {\n",
              "      background-color: #434B5C;\n",
              "      box-shadow: 0px 1px 3px 1px rgba(0, 0, 0, 0.15);\n",
              "      filter: drop-shadow(0px 1px 2px rgba(0, 0, 0, 0.3));\n",
              "      fill: #FFFFFF;\n",
              "    }\n",
              "  </style>\n",
              "\n",
              "      <script>\n",
              "        const buttonEl =\n",
              "          document.querySelector('#df-b3c5133c-51d6-42c9-9661-d741227f2987 button.colab-df-convert');\n",
              "        buttonEl.style.display =\n",
              "          google.colab.kernel.accessAllowed ? 'block' : 'none';\n",
              "\n",
              "        async function convertToInteractive(key) {\n",
              "          const element = document.querySelector('#df-b3c5133c-51d6-42c9-9661-d741227f2987');\n",
              "          const dataTable =\n",
              "            await google.colab.kernel.invokeFunction('convertToInteractive',\n",
              "                                                     [key], {});\n",
              "          if (!dataTable) return;\n",
              "\n",
              "          const docLinkHtml = 'Like what you see? Visit the ' +\n",
              "            '<a target=\"_blank\" href=https://colab.research.google.com/notebooks/data_table.ipynb>data table notebook</a>'\n",
              "            + ' to learn more about interactive tables.';\n",
              "          element.innerHTML = '';\n",
              "          dataTable['output_type'] = 'display_data';\n",
              "          await google.colab.output.renderOutput(dataTable, element);\n",
              "          const docLink = document.createElement('div');\n",
              "          docLink.innerHTML = docLinkHtml;\n",
              "          element.appendChild(docLink);\n",
              "        }\n",
              "      </script>\n",
              "    </div>\n",
              "  </div>\n",
              "  "
            ]
          },
          "metadata": {},
          "execution_count": 341
        }
      ]
    },
    {
      "cell_type": "code",
      "source": [
        "drug_similarity.shape"
      ],
      "metadata": {
        "colab": {
          "base_uri": "https://localhost:8080/"
        },
        "id": "5UUcjJJF-nsc",
        "outputId": "ebfb62f5-5a42-4e8a-d25a-b01d1dd757ba"
      },
      "execution_count": null,
      "outputs": [
        {
          "output_type": "execute_result",
          "data": {
            "text/plain": [
              "(435, 5)"
            ]
          },
          "metadata": {},
          "execution_count": 342
        }
      ]
    },
    {
      "cell_type": "markdown",
      "source": [
        "### **AD Nominated Genes**\n",
        "Downloaded from Agora (https://agora.adknowledgeportal.org/genes/nominated-targets)<br>\n",
        "Researchers have nominated genes that may be good targets for new Alzheimer's Disease treatment or prevention. "
      ],
      "metadata": {
        "id": "Qi6W8C_6D4vf"
      }
    },
    {
      "cell_type": "code",
      "source": [
        "ad_genes = pd.read_csv(fp + \"gene-list.csv\")\n",
        "\n",
        "#ad_genes.head()"
      ],
      "metadata": {
        "id": "93uYXnSZD4vp"
      },
      "execution_count": null,
      "outputs": []
    },
    {
      "cell_type": "code",
      "source": [
        "ad_genes = ad_genes[ad_genes[\"Gene Symbol\"].isin(geneList)]\n",
        "\n",
        "agora = pd.DataFrame({\"head_entity\": disease2id.get(\"Alzheimer Disease\"),\n",
        "                           \"relation\": \"associated_with_gene\",\n",
        "                           \"tail_entity\": ad_genes[\"Gene Symbol\"],\n",
        "                           \"head_label\": \"disease\",\n",
        "                           \"tail_label\": \"gene\"})\n",
        "agora.head()"
      ],
      "metadata": {
        "colab": {
          "base_uri": "https://localhost:8080/",
          "height": 206
        },
        "outputId": "20551c68-bf75-441b-cf06-5fc6ab5ff425",
        "id": "e3oxGRaOD4vq"
      },
      "execution_count": null,
      "outputs": [
        {
          "output_type": "execute_result",
          "data": {
            "text/plain": [
              "    head_entity              relation tail_entity head_label tail_label\n",
              "0  MESH:D000544  associated_with_gene         MSN    disease       gene\n",
              "1  MESH:D000544  associated_with_gene        PLEC    disease       gene\n",
              "2  MESH:D000544  associated_with_gene       PRDX1    disease       gene\n",
              "3  MESH:D000544  associated_with_gene       PRDX6    disease       gene\n",
              "4  MESH:D000544  associated_with_gene       RPH3A    disease       gene"
            ],
            "text/html": [
              "\n",
              "  <div id=\"df-087d3e0b-d3aa-48d5-b457-0c82ed036615\">\n",
              "    <div class=\"colab-df-container\">\n",
              "      <div>\n",
              "<style scoped>\n",
              "    .dataframe tbody tr th:only-of-type {\n",
              "        vertical-align: middle;\n",
              "    }\n",
              "\n",
              "    .dataframe tbody tr th {\n",
              "        vertical-align: top;\n",
              "    }\n",
              "\n",
              "    .dataframe thead th {\n",
              "        text-align: right;\n",
              "    }\n",
              "</style>\n",
              "<table border=\"1\" class=\"dataframe\">\n",
              "  <thead>\n",
              "    <tr style=\"text-align: right;\">\n",
              "      <th></th>\n",
              "      <th>head_entity</th>\n",
              "      <th>relation</th>\n",
              "      <th>tail_entity</th>\n",
              "      <th>head_label</th>\n",
              "      <th>tail_label</th>\n",
              "    </tr>\n",
              "  </thead>\n",
              "  <tbody>\n",
              "    <tr>\n",
              "      <th>0</th>\n",
              "      <td>MESH:D000544</td>\n",
              "      <td>associated_with_gene</td>\n",
              "      <td>MSN</td>\n",
              "      <td>disease</td>\n",
              "      <td>gene</td>\n",
              "    </tr>\n",
              "    <tr>\n",
              "      <th>1</th>\n",
              "      <td>MESH:D000544</td>\n",
              "      <td>associated_with_gene</td>\n",
              "      <td>PLEC</td>\n",
              "      <td>disease</td>\n",
              "      <td>gene</td>\n",
              "    </tr>\n",
              "    <tr>\n",
              "      <th>2</th>\n",
              "      <td>MESH:D000544</td>\n",
              "      <td>associated_with_gene</td>\n",
              "      <td>PRDX1</td>\n",
              "      <td>disease</td>\n",
              "      <td>gene</td>\n",
              "    </tr>\n",
              "    <tr>\n",
              "      <th>3</th>\n",
              "      <td>MESH:D000544</td>\n",
              "      <td>associated_with_gene</td>\n",
              "      <td>PRDX6</td>\n",
              "      <td>disease</td>\n",
              "      <td>gene</td>\n",
              "    </tr>\n",
              "    <tr>\n",
              "      <th>4</th>\n",
              "      <td>MESH:D000544</td>\n",
              "      <td>associated_with_gene</td>\n",
              "      <td>RPH3A</td>\n",
              "      <td>disease</td>\n",
              "      <td>gene</td>\n",
              "    </tr>\n",
              "  </tbody>\n",
              "</table>\n",
              "</div>\n",
              "      <button class=\"colab-df-convert\" onclick=\"convertToInteractive('df-087d3e0b-d3aa-48d5-b457-0c82ed036615')\"\n",
              "              title=\"Convert this dataframe to an interactive table.\"\n",
              "              style=\"display:none;\">\n",
              "        \n",
              "  <svg xmlns=\"http://www.w3.org/2000/svg\" height=\"24px\"viewBox=\"0 0 24 24\"\n",
              "       width=\"24px\">\n",
              "    <path d=\"M0 0h24v24H0V0z\" fill=\"none\"/>\n",
              "    <path d=\"M18.56 5.44l.94 2.06.94-2.06 2.06-.94-2.06-.94-.94-2.06-.94 2.06-2.06.94zm-11 1L8.5 8.5l.94-2.06 2.06-.94-2.06-.94L8.5 2.5l-.94 2.06-2.06.94zm10 10l.94 2.06.94-2.06 2.06-.94-2.06-.94-.94-2.06-.94 2.06-2.06.94z\"/><path d=\"M17.41 7.96l-1.37-1.37c-.4-.4-.92-.59-1.43-.59-.52 0-1.04.2-1.43.59L10.3 9.45l-7.72 7.72c-.78.78-.78 2.05 0 2.83L4 21.41c.39.39.9.59 1.41.59.51 0 1.02-.2 1.41-.59l7.78-7.78 2.81-2.81c.8-.78.8-2.07 0-2.86zM5.41 20L4 18.59l7.72-7.72 1.47 1.35L5.41 20z\"/>\n",
              "  </svg>\n",
              "      </button>\n",
              "      \n",
              "  <style>\n",
              "    .colab-df-container {\n",
              "      display:flex;\n",
              "      flex-wrap:wrap;\n",
              "      gap: 12px;\n",
              "    }\n",
              "\n",
              "    .colab-df-convert {\n",
              "      background-color: #E8F0FE;\n",
              "      border: none;\n",
              "      border-radius: 50%;\n",
              "      cursor: pointer;\n",
              "      display: none;\n",
              "      fill: #1967D2;\n",
              "      height: 32px;\n",
              "      padding: 0 0 0 0;\n",
              "      width: 32px;\n",
              "    }\n",
              "\n",
              "    .colab-df-convert:hover {\n",
              "      background-color: #E2EBFA;\n",
              "      box-shadow: 0px 1px 2px rgba(60, 64, 67, 0.3), 0px 1px 3px 1px rgba(60, 64, 67, 0.15);\n",
              "      fill: #174EA6;\n",
              "    }\n",
              "\n",
              "    [theme=dark] .colab-df-convert {\n",
              "      background-color: #3B4455;\n",
              "      fill: #D2E3FC;\n",
              "    }\n",
              "\n",
              "    [theme=dark] .colab-df-convert:hover {\n",
              "      background-color: #434B5C;\n",
              "      box-shadow: 0px 1px 3px 1px rgba(0, 0, 0, 0.15);\n",
              "      filter: drop-shadow(0px 1px 2px rgba(0, 0, 0, 0.3));\n",
              "      fill: #FFFFFF;\n",
              "    }\n",
              "  </style>\n",
              "\n",
              "      <script>\n",
              "        const buttonEl =\n",
              "          document.querySelector('#df-087d3e0b-d3aa-48d5-b457-0c82ed036615 button.colab-df-convert');\n",
              "        buttonEl.style.display =\n",
              "          google.colab.kernel.accessAllowed ? 'block' : 'none';\n",
              "\n",
              "        async function convertToInteractive(key) {\n",
              "          const element = document.querySelector('#df-087d3e0b-d3aa-48d5-b457-0c82ed036615');\n",
              "          const dataTable =\n",
              "            await google.colab.kernel.invokeFunction('convertToInteractive',\n",
              "                                                     [key], {});\n",
              "          if (!dataTable) return;\n",
              "\n",
              "          const docLinkHtml = 'Like what you see? Visit the ' +\n",
              "            '<a target=\"_blank\" href=https://colab.research.google.com/notebooks/data_table.ipynb>data table notebook</a>'\n",
              "            + ' to learn more about interactive tables.';\n",
              "          element.innerHTML = '';\n",
              "          dataTable['output_type'] = 'display_data';\n",
              "          await google.colab.output.renderOutput(dataTable, element);\n",
              "          const docLink = document.createElement('div');\n",
              "          docLink.innerHTML = docLinkHtml;\n",
              "          element.appendChild(docLink);\n",
              "        }\n",
              "      </script>\n",
              "    </div>\n",
              "  </div>\n",
              "  "
            ]
          },
          "metadata": {},
          "execution_count": 344
        }
      ]
    },
    {
      "cell_type": "code",
      "source": [
        "agora.shape"
      ],
      "metadata": {
        "colab": {
          "base_uri": "https://localhost:8080/"
        },
        "id": "u4uazCYXOtHf",
        "outputId": "7bb0dab1-29e3-4eaf-923d-fda18231e2f9"
      },
      "execution_count": null,
      "outputs": [
        {
          "output_type": "execute_result",
          "data": {
            "text/plain": [
              "(595, 5)"
            ]
          },
          "metadata": {},
          "execution_count": 345
        }
      ]
    },
    {
      "cell_type": "markdown",
      "source": [
        "## **Disease-phenotype**"
      ],
      "metadata": {
        "id": "KERk9yCHZ33Z"
      }
    },
    {
      "cell_type": "code",
      "source": [
        "ndd_phenotype = pd.read_csv(fp+\"CTD_NDD_Phenotype.csv\")\n",
        "ndd_phenotype.head()"
      ],
      "metadata": {
        "id": "PpkELPX7dGl1"
      },
      "execution_count": null,
      "outputs": []
    },
    {
      "cell_type": "code",
      "source": [
        "ndd_phenotype.columns"
      ],
      "metadata": {
        "id": "eWKuSA2Gk_Gu"
      },
      "execution_count": null,
      "outputs": []
    },
    {
      "cell_type": "code",
      "source": [
        "ndd_phenotype = ndd_phenotype[(ndd_phenotype[\"Disease ID\"].isin(diseaseList))].reset_index(drop=True)"
      ],
      "metadata": {
        "id": "hKUzXDbFlWCF"
      },
      "execution_count": null,
      "outputs": []
    },
    {
      "cell_type": "code",
      "source": [
        "disease_phenotype = ndd_phenotype.rename(columns={\"Disease ID\":\"head_entity\",\"Phenotype Term ID\":\"tail_entity\"})\n",
        "disease_phenotype[\"relation\"] = \"associated_with_pheno\"\n",
        "disease_phenotype[\"head_label\"] = \"disease\"\n",
        "disease_phenotype[\"tail_label\"] = \"phenotype\"\n",
        "\n",
        "disease_phenotype = disease_phenotype[[\"head_entity\",\"relation\",\"tail_entity\",\"head_label\",\"tail_label\"]].drop_duplicates()\n",
        "\n",
        "disease_phenotype.head()"
      ],
      "metadata": {
        "colab": {
          "base_uri": "https://localhost:8080/",
          "height": 206
        },
        "id": "nmBTgqKwdik5",
        "outputId": "63b9344b-73dd-42aa-d7bb-599a4a3c8f34"
      },
      "execution_count": null,
      "outputs": [
        {
          "output_type": "execute_result",
          "data": {
            "text/plain": [
              "    head_entity               relation tail_entity head_label tail_label\n",
              "0  MESH:D010300  associated_with_pheno  GO:0006915    disease  phenotype\n",
              "1  MESH:D000544  associated_with_pheno  GO:0006915    disease  phenotype\n",
              "2  MESH:D010300  associated_with_pheno  GO:0008219    disease  phenotype\n",
              "3  MESH:D000544  associated_with_pheno  GO:0008283    disease  phenotype\n",
              "4  MESH:D010300  associated_with_pheno  GO:0008283    disease  phenotype"
            ],
            "text/html": [
              "\n",
              "  <div id=\"df-80dfd7b7-ad1e-472a-874c-bf4f2800aa0d\">\n",
              "    <div class=\"colab-df-container\">\n",
              "      <div>\n",
              "<style scoped>\n",
              "    .dataframe tbody tr th:only-of-type {\n",
              "        vertical-align: middle;\n",
              "    }\n",
              "\n",
              "    .dataframe tbody tr th {\n",
              "        vertical-align: top;\n",
              "    }\n",
              "\n",
              "    .dataframe thead th {\n",
              "        text-align: right;\n",
              "    }\n",
              "</style>\n",
              "<table border=\"1\" class=\"dataframe\">\n",
              "  <thead>\n",
              "    <tr style=\"text-align: right;\">\n",
              "      <th></th>\n",
              "      <th>head_entity</th>\n",
              "      <th>relation</th>\n",
              "      <th>tail_entity</th>\n",
              "      <th>head_label</th>\n",
              "      <th>tail_label</th>\n",
              "    </tr>\n",
              "  </thead>\n",
              "  <tbody>\n",
              "    <tr>\n",
              "      <th>0</th>\n",
              "      <td>MESH:D010300</td>\n",
              "      <td>associated_with_pheno</td>\n",
              "      <td>GO:0006915</td>\n",
              "      <td>disease</td>\n",
              "      <td>phenotype</td>\n",
              "    </tr>\n",
              "    <tr>\n",
              "      <th>1</th>\n",
              "      <td>MESH:D000544</td>\n",
              "      <td>associated_with_pheno</td>\n",
              "      <td>GO:0006915</td>\n",
              "      <td>disease</td>\n",
              "      <td>phenotype</td>\n",
              "    </tr>\n",
              "    <tr>\n",
              "      <th>2</th>\n",
              "      <td>MESH:D010300</td>\n",
              "      <td>associated_with_pheno</td>\n",
              "      <td>GO:0008219</td>\n",
              "      <td>disease</td>\n",
              "      <td>phenotype</td>\n",
              "    </tr>\n",
              "    <tr>\n",
              "      <th>3</th>\n",
              "      <td>MESH:D000544</td>\n",
              "      <td>associated_with_pheno</td>\n",
              "      <td>GO:0008283</td>\n",
              "      <td>disease</td>\n",
              "      <td>phenotype</td>\n",
              "    </tr>\n",
              "    <tr>\n",
              "      <th>4</th>\n",
              "      <td>MESH:D010300</td>\n",
              "      <td>associated_with_pheno</td>\n",
              "      <td>GO:0008283</td>\n",
              "      <td>disease</td>\n",
              "      <td>phenotype</td>\n",
              "    </tr>\n",
              "  </tbody>\n",
              "</table>\n",
              "</div>\n",
              "      <button class=\"colab-df-convert\" onclick=\"convertToInteractive('df-80dfd7b7-ad1e-472a-874c-bf4f2800aa0d')\"\n",
              "              title=\"Convert this dataframe to an interactive table.\"\n",
              "              style=\"display:none;\">\n",
              "        \n",
              "  <svg xmlns=\"http://www.w3.org/2000/svg\" height=\"24px\"viewBox=\"0 0 24 24\"\n",
              "       width=\"24px\">\n",
              "    <path d=\"M0 0h24v24H0V0z\" fill=\"none\"/>\n",
              "    <path d=\"M18.56 5.44l.94 2.06.94-2.06 2.06-.94-2.06-.94-.94-2.06-.94 2.06-2.06.94zm-11 1L8.5 8.5l.94-2.06 2.06-.94-2.06-.94L8.5 2.5l-.94 2.06-2.06.94zm10 10l.94 2.06.94-2.06 2.06-.94-2.06-.94-.94-2.06-.94 2.06-2.06.94z\"/><path d=\"M17.41 7.96l-1.37-1.37c-.4-.4-.92-.59-1.43-.59-.52 0-1.04.2-1.43.59L10.3 9.45l-7.72 7.72c-.78.78-.78 2.05 0 2.83L4 21.41c.39.39.9.59 1.41.59.51 0 1.02-.2 1.41-.59l7.78-7.78 2.81-2.81c.8-.78.8-2.07 0-2.86zM5.41 20L4 18.59l7.72-7.72 1.47 1.35L5.41 20z\"/>\n",
              "  </svg>\n",
              "      </button>\n",
              "      \n",
              "  <style>\n",
              "    .colab-df-container {\n",
              "      display:flex;\n",
              "      flex-wrap:wrap;\n",
              "      gap: 12px;\n",
              "    }\n",
              "\n",
              "    .colab-df-convert {\n",
              "      background-color: #E8F0FE;\n",
              "      border: none;\n",
              "      border-radius: 50%;\n",
              "      cursor: pointer;\n",
              "      display: none;\n",
              "      fill: #1967D2;\n",
              "      height: 32px;\n",
              "      padding: 0 0 0 0;\n",
              "      width: 32px;\n",
              "    }\n",
              "\n",
              "    .colab-df-convert:hover {\n",
              "      background-color: #E2EBFA;\n",
              "      box-shadow: 0px 1px 2px rgba(60, 64, 67, 0.3), 0px 1px 3px 1px rgba(60, 64, 67, 0.15);\n",
              "      fill: #174EA6;\n",
              "    }\n",
              "\n",
              "    [theme=dark] .colab-df-convert {\n",
              "      background-color: #3B4455;\n",
              "      fill: #D2E3FC;\n",
              "    }\n",
              "\n",
              "    [theme=dark] .colab-df-convert:hover {\n",
              "      background-color: #434B5C;\n",
              "      box-shadow: 0px 1px 3px 1px rgba(0, 0, 0, 0.15);\n",
              "      filter: drop-shadow(0px 1px 2px rgba(0, 0, 0, 0.3));\n",
              "      fill: #FFFFFF;\n",
              "    }\n",
              "  </style>\n",
              "\n",
              "      <script>\n",
              "        const buttonEl =\n",
              "          document.querySelector('#df-80dfd7b7-ad1e-472a-874c-bf4f2800aa0d button.colab-df-convert');\n",
              "        buttonEl.style.display =\n",
              "          google.colab.kernel.accessAllowed ? 'block' : 'none';\n",
              "\n",
              "        async function convertToInteractive(key) {\n",
              "          const element = document.querySelector('#df-80dfd7b7-ad1e-472a-874c-bf4f2800aa0d');\n",
              "          const dataTable =\n",
              "            await google.colab.kernel.invokeFunction('convertToInteractive',\n",
              "                                                     [key], {});\n",
              "          if (!dataTable) return;\n",
              "\n",
              "          const docLinkHtml = 'Like what you see? Visit the ' +\n",
              "            '<a target=\"_blank\" href=https://colab.research.google.com/notebooks/data_table.ipynb>data table notebook</a>'\n",
              "            + ' to learn more about interactive tables.';\n",
              "          element.innerHTML = '';\n",
              "          dataTable['output_type'] = 'display_data';\n",
              "          await google.colab.output.renderOutput(dataTable, element);\n",
              "          const docLink = document.createElement('div');\n",
              "          docLink.innerHTML = docLinkHtml;\n",
              "          element.appendChild(docLink);\n",
              "        }\n",
              "      </script>\n",
              "    </div>\n",
              "  </div>\n",
              "  "
            ]
          },
          "metadata": {},
          "execution_count": 348
        }
      ]
    },
    {
      "cell_type": "code",
      "source": [
        "disease_phenotype.shape"
      ],
      "metadata": {
        "colab": {
          "base_uri": "https://localhost:8080/"
        },
        "id": "9Fj_BLEBjvqh",
        "outputId": "9e4870e9-f933-4258-de18-273acc93ea28"
      },
      "execution_count": null,
      "outputs": [
        {
          "output_type": "execute_result",
          "data": {
            "text/plain": [
              "(33999, 5)"
            ]
          },
          "metadata": {},
          "execution_count": 349
        }
      ]
    },
    {
      "cell_type": "code",
      "source": [
        "phenotypeList = np.unique(disease_phenotype['tail_entity'])\n",
        "len(phenotypeList)"
      ],
      "metadata": {
        "colab": {
          "base_uri": "https://localhost:8080/"
        },
        "id": "j5GU51fikD2g",
        "outputId": "c52fd1ea-71d8-4255-c1ec-5533745b306b"
      },
      "execution_count": null,
      "outputs": [
        {
          "output_type": "execute_result",
          "data": {
            "text/plain": [
              "8634"
            ]
          },
          "metadata": {},
          "execution_count": 350
        }
      ]
    },
    {
      "cell_type": "markdown",
      "source": [
        "## **Gene-Phenotype**\n"
      ],
      "metadata": {
        "id": "8z903Z5-mnoY"
      }
    },
    {
      "cell_type": "code",
      "source": [
        "gene_phenotype = ndd_phenotype[[\"Phenotype Term ID\",\"Gene Inference Network\"]].reset_index(drop=True)\n",
        "gene_phenotype['Gene Inference Network'] = gene_phenotype['Gene Inference Network'].str.split('|')\n",
        "gene_phenotype.head()"
      ],
      "metadata": {
        "id": "tWGxOiL1nEh9"
      },
      "execution_count": null,
      "outputs": []
    },
    {
      "cell_type": "code",
      "source": [
        "# Create a new dataframe with separate columns for each gene symbol\n",
        "split_genes = gene_phenotype['Gene Inference Network'].apply(pd.Series)\n",
        "\n",
        "# merge both df \n",
        "gene_phenotype = pd.concat([gene_phenotype[[\"Phenotype Term ID\"]], split_genes], axis=1)\n",
        "gene_phenotype= pd.melt(gene_phenotype, id_vars=['Phenotype Term ID'], value_vars=split_genes.columns, value_name='gene_symbol')\n",
        "\n",
        "gene_phenotype = gene_phenotype.dropna(subset=['gene_symbol'])\n",
        "gene_phenotype= gene_phenotype.drop_duplicates().reset_index(drop=True).drop(columns=['variable'])\n",
        "gene_phenotype.head()"
      ],
      "metadata": {
        "colab": {
          "base_uri": "https://localhost:8080/",
          "height": 206
        },
        "id": "3w4z_zj3uu7m",
        "outputId": "0f558412-fcad-4c8c-847c-164bfc0977bf"
      },
      "execution_count": null,
      "outputs": [
        {
          "output_type": "execute_result",
          "data": {
            "text/plain": [
              "  Phenotype Term ID gene_symbol\n",
              "0        GO:0006915     CEACAM6\n",
              "1        GO:0006915         APP\n",
              "2        GO:0008283         ACE\n",
              "3        GO:0008283     CNTNAP2\n",
              "4        GO:0016042        GLAZ"
            ],
            "text/html": [
              "\n",
              "  <div id=\"df-5118adb2-3d0d-43d9-9e21-9608eb366983\">\n",
              "    <div class=\"colab-df-container\">\n",
              "      <div>\n",
              "<style scoped>\n",
              "    .dataframe tbody tr th:only-of-type {\n",
              "        vertical-align: middle;\n",
              "    }\n",
              "\n",
              "    .dataframe tbody tr th {\n",
              "        vertical-align: top;\n",
              "    }\n",
              "\n",
              "    .dataframe thead th {\n",
              "        text-align: right;\n",
              "    }\n",
              "</style>\n",
              "<table border=\"1\" class=\"dataframe\">\n",
              "  <thead>\n",
              "    <tr style=\"text-align: right;\">\n",
              "      <th></th>\n",
              "      <th>Phenotype Term ID</th>\n",
              "      <th>gene_symbol</th>\n",
              "    </tr>\n",
              "  </thead>\n",
              "  <tbody>\n",
              "    <tr>\n",
              "      <th>0</th>\n",
              "      <td>GO:0006915</td>\n",
              "      <td>CEACAM6</td>\n",
              "    </tr>\n",
              "    <tr>\n",
              "      <th>1</th>\n",
              "      <td>GO:0006915</td>\n",
              "      <td>APP</td>\n",
              "    </tr>\n",
              "    <tr>\n",
              "      <th>2</th>\n",
              "      <td>GO:0008283</td>\n",
              "      <td>ACE</td>\n",
              "    </tr>\n",
              "    <tr>\n",
              "      <th>3</th>\n",
              "      <td>GO:0008283</td>\n",
              "      <td>CNTNAP2</td>\n",
              "    </tr>\n",
              "    <tr>\n",
              "      <th>4</th>\n",
              "      <td>GO:0016042</td>\n",
              "      <td>GLAZ</td>\n",
              "    </tr>\n",
              "  </tbody>\n",
              "</table>\n",
              "</div>\n",
              "      <button class=\"colab-df-convert\" onclick=\"convertToInteractive('df-5118adb2-3d0d-43d9-9e21-9608eb366983')\"\n",
              "              title=\"Convert this dataframe to an interactive table.\"\n",
              "              style=\"display:none;\">\n",
              "        \n",
              "  <svg xmlns=\"http://www.w3.org/2000/svg\" height=\"24px\"viewBox=\"0 0 24 24\"\n",
              "       width=\"24px\">\n",
              "    <path d=\"M0 0h24v24H0V0z\" fill=\"none\"/>\n",
              "    <path d=\"M18.56 5.44l.94 2.06.94-2.06 2.06-.94-2.06-.94-.94-2.06-.94 2.06-2.06.94zm-11 1L8.5 8.5l.94-2.06 2.06-.94-2.06-.94L8.5 2.5l-.94 2.06-2.06.94zm10 10l.94 2.06.94-2.06 2.06-.94-2.06-.94-.94-2.06-.94 2.06-2.06.94z\"/><path d=\"M17.41 7.96l-1.37-1.37c-.4-.4-.92-.59-1.43-.59-.52 0-1.04.2-1.43.59L10.3 9.45l-7.72 7.72c-.78.78-.78 2.05 0 2.83L4 21.41c.39.39.9.59 1.41.59.51 0 1.02-.2 1.41-.59l7.78-7.78 2.81-2.81c.8-.78.8-2.07 0-2.86zM5.41 20L4 18.59l7.72-7.72 1.47 1.35L5.41 20z\"/>\n",
              "  </svg>\n",
              "      </button>\n",
              "      \n",
              "  <style>\n",
              "    .colab-df-container {\n",
              "      display:flex;\n",
              "      flex-wrap:wrap;\n",
              "      gap: 12px;\n",
              "    }\n",
              "\n",
              "    .colab-df-convert {\n",
              "      background-color: #E8F0FE;\n",
              "      border: none;\n",
              "      border-radius: 50%;\n",
              "      cursor: pointer;\n",
              "      display: none;\n",
              "      fill: #1967D2;\n",
              "      height: 32px;\n",
              "      padding: 0 0 0 0;\n",
              "      width: 32px;\n",
              "    }\n",
              "\n",
              "    .colab-df-convert:hover {\n",
              "      background-color: #E2EBFA;\n",
              "      box-shadow: 0px 1px 2px rgba(60, 64, 67, 0.3), 0px 1px 3px 1px rgba(60, 64, 67, 0.15);\n",
              "      fill: #174EA6;\n",
              "    }\n",
              "\n",
              "    [theme=dark] .colab-df-convert {\n",
              "      background-color: #3B4455;\n",
              "      fill: #D2E3FC;\n",
              "    }\n",
              "\n",
              "    [theme=dark] .colab-df-convert:hover {\n",
              "      background-color: #434B5C;\n",
              "      box-shadow: 0px 1px 3px 1px rgba(0, 0, 0, 0.15);\n",
              "      filter: drop-shadow(0px 1px 2px rgba(0, 0, 0, 0.3));\n",
              "      fill: #FFFFFF;\n",
              "    }\n",
              "  </style>\n",
              "\n",
              "      <script>\n",
              "        const buttonEl =\n",
              "          document.querySelector('#df-5118adb2-3d0d-43d9-9e21-9608eb366983 button.colab-df-convert');\n",
              "        buttonEl.style.display =\n",
              "          google.colab.kernel.accessAllowed ? 'block' : 'none';\n",
              "\n",
              "        async function convertToInteractive(key) {\n",
              "          const element = document.querySelector('#df-5118adb2-3d0d-43d9-9e21-9608eb366983');\n",
              "          const dataTable =\n",
              "            await google.colab.kernel.invokeFunction('convertToInteractive',\n",
              "                                                     [key], {});\n",
              "          if (!dataTable) return;\n",
              "\n",
              "          const docLinkHtml = 'Like what you see? Visit the ' +\n",
              "            '<a target=\"_blank\" href=https://colab.research.google.com/notebooks/data_table.ipynb>data table notebook</a>'\n",
              "            + ' to learn more about interactive tables.';\n",
              "          element.innerHTML = '';\n",
              "          dataTable['output_type'] = 'display_data';\n",
              "          await google.colab.output.renderOutput(dataTable, element);\n",
              "          const docLink = document.createElement('div');\n",
              "          docLink.innerHTML = docLinkHtml;\n",
              "          element.appendChild(docLink);\n",
              "        }\n",
              "      </script>\n",
              "    </div>\n",
              "  </div>\n",
              "  "
            ]
          },
          "metadata": {},
          "execution_count": 352
        }
      ]
    },
    {
      "cell_type": "code",
      "source": [
        "gene_phenotype = gene_phenotype[gene_phenotype[\"gene_symbol\"].isin(geneList)].reset_index(drop=True)\n",
        "\n",
        "gene_phenotype = gene_phenotype.rename(columns={\"gene_symbol\":\"head_entity\",\"Phenotype Term ID\":\"tail_entity\"})\n",
        "gene_phenotype[\"relation\"] = \"involves_in_pheno\"\n",
        "gene_phenotype[\"head_label\"] = \"gene\"\n",
        "gene_phenotype[\"tail_label\"] = \"phenotype\"\n",
        "gene_phenotype = gene_phenotype[[\"head_entity\",\"relation\",\"tail_entity\",\"head_label\",\"tail_label\"]]\n",
        "gene_phenotype.head()"
      ],
      "metadata": {
        "colab": {
          "base_uri": "https://localhost:8080/",
          "height": 206
        },
        "id": "Qy9eEatXAlAO",
        "outputId": "c0966880-eae3-4b62-b7ca-7dd263d0318c"
      },
      "execution_count": null,
      "outputs": [
        {
          "output_type": "execute_result",
          "data": {
            "text/plain": [
              "  head_entity           relation tail_entity head_label tail_label\n",
              "0     CEACAM6  involves_in_pheno  GO:0006915       gene  phenotype\n",
              "1         APP  involves_in_pheno  GO:0006915       gene  phenotype\n",
              "2         ACE  involves_in_pheno  GO:0008283       gene  phenotype\n",
              "3     CNTNAP2  involves_in_pheno  GO:0008283       gene  phenotype\n",
              "4       PLCG2  involves_in_pheno  GO:0016042       gene  phenotype"
            ],
            "text/html": [
              "\n",
              "  <div id=\"df-0dc6a0e5-7290-48bc-8220-0635e1b3680a\">\n",
              "    <div class=\"colab-df-container\">\n",
              "      <div>\n",
              "<style scoped>\n",
              "    .dataframe tbody tr th:only-of-type {\n",
              "        vertical-align: middle;\n",
              "    }\n",
              "\n",
              "    .dataframe tbody tr th {\n",
              "        vertical-align: top;\n",
              "    }\n",
              "\n",
              "    .dataframe thead th {\n",
              "        text-align: right;\n",
              "    }\n",
              "</style>\n",
              "<table border=\"1\" class=\"dataframe\">\n",
              "  <thead>\n",
              "    <tr style=\"text-align: right;\">\n",
              "      <th></th>\n",
              "      <th>head_entity</th>\n",
              "      <th>relation</th>\n",
              "      <th>tail_entity</th>\n",
              "      <th>head_label</th>\n",
              "      <th>tail_label</th>\n",
              "    </tr>\n",
              "  </thead>\n",
              "  <tbody>\n",
              "    <tr>\n",
              "      <th>0</th>\n",
              "      <td>CEACAM6</td>\n",
              "      <td>involves_in_pheno</td>\n",
              "      <td>GO:0006915</td>\n",
              "      <td>gene</td>\n",
              "      <td>phenotype</td>\n",
              "    </tr>\n",
              "    <tr>\n",
              "      <th>1</th>\n",
              "      <td>APP</td>\n",
              "      <td>involves_in_pheno</td>\n",
              "      <td>GO:0006915</td>\n",
              "      <td>gene</td>\n",
              "      <td>phenotype</td>\n",
              "    </tr>\n",
              "    <tr>\n",
              "      <th>2</th>\n",
              "      <td>ACE</td>\n",
              "      <td>involves_in_pheno</td>\n",
              "      <td>GO:0008283</td>\n",
              "      <td>gene</td>\n",
              "      <td>phenotype</td>\n",
              "    </tr>\n",
              "    <tr>\n",
              "      <th>3</th>\n",
              "      <td>CNTNAP2</td>\n",
              "      <td>involves_in_pheno</td>\n",
              "      <td>GO:0008283</td>\n",
              "      <td>gene</td>\n",
              "      <td>phenotype</td>\n",
              "    </tr>\n",
              "    <tr>\n",
              "      <th>4</th>\n",
              "      <td>PLCG2</td>\n",
              "      <td>involves_in_pheno</td>\n",
              "      <td>GO:0016042</td>\n",
              "      <td>gene</td>\n",
              "      <td>phenotype</td>\n",
              "    </tr>\n",
              "  </tbody>\n",
              "</table>\n",
              "</div>\n",
              "      <button class=\"colab-df-convert\" onclick=\"convertToInteractive('df-0dc6a0e5-7290-48bc-8220-0635e1b3680a')\"\n",
              "              title=\"Convert this dataframe to an interactive table.\"\n",
              "              style=\"display:none;\">\n",
              "        \n",
              "  <svg xmlns=\"http://www.w3.org/2000/svg\" height=\"24px\"viewBox=\"0 0 24 24\"\n",
              "       width=\"24px\">\n",
              "    <path d=\"M0 0h24v24H0V0z\" fill=\"none\"/>\n",
              "    <path d=\"M18.56 5.44l.94 2.06.94-2.06 2.06-.94-2.06-.94-.94-2.06-.94 2.06-2.06.94zm-11 1L8.5 8.5l.94-2.06 2.06-.94-2.06-.94L8.5 2.5l-.94 2.06-2.06.94zm10 10l.94 2.06.94-2.06 2.06-.94-2.06-.94-.94-2.06-.94 2.06-2.06.94z\"/><path d=\"M17.41 7.96l-1.37-1.37c-.4-.4-.92-.59-1.43-.59-.52 0-1.04.2-1.43.59L10.3 9.45l-7.72 7.72c-.78.78-.78 2.05 0 2.83L4 21.41c.39.39.9.59 1.41.59.51 0 1.02-.2 1.41-.59l7.78-7.78 2.81-2.81c.8-.78.8-2.07 0-2.86zM5.41 20L4 18.59l7.72-7.72 1.47 1.35L5.41 20z\"/>\n",
              "  </svg>\n",
              "      </button>\n",
              "      \n",
              "  <style>\n",
              "    .colab-df-container {\n",
              "      display:flex;\n",
              "      flex-wrap:wrap;\n",
              "      gap: 12px;\n",
              "    }\n",
              "\n",
              "    .colab-df-convert {\n",
              "      background-color: #E8F0FE;\n",
              "      border: none;\n",
              "      border-radius: 50%;\n",
              "      cursor: pointer;\n",
              "      display: none;\n",
              "      fill: #1967D2;\n",
              "      height: 32px;\n",
              "      padding: 0 0 0 0;\n",
              "      width: 32px;\n",
              "    }\n",
              "\n",
              "    .colab-df-convert:hover {\n",
              "      background-color: #E2EBFA;\n",
              "      box-shadow: 0px 1px 2px rgba(60, 64, 67, 0.3), 0px 1px 3px 1px rgba(60, 64, 67, 0.15);\n",
              "      fill: #174EA6;\n",
              "    }\n",
              "\n",
              "    [theme=dark] .colab-df-convert {\n",
              "      background-color: #3B4455;\n",
              "      fill: #D2E3FC;\n",
              "    }\n",
              "\n",
              "    [theme=dark] .colab-df-convert:hover {\n",
              "      background-color: #434B5C;\n",
              "      box-shadow: 0px 1px 3px 1px rgba(0, 0, 0, 0.15);\n",
              "      filter: drop-shadow(0px 1px 2px rgba(0, 0, 0, 0.3));\n",
              "      fill: #FFFFFF;\n",
              "    }\n",
              "  </style>\n",
              "\n",
              "      <script>\n",
              "        const buttonEl =\n",
              "          document.querySelector('#df-0dc6a0e5-7290-48bc-8220-0635e1b3680a button.colab-df-convert');\n",
              "        buttonEl.style.display =\n",
              "          google.colab.kernel.accessAllowed ? 'block' : 'none';\n",
              "\n",
              "        async function convertToInteractive(key) {\n",
              "          const element = document.querySelector('#df-0dc6a0e5-7290-48bc-8220-0635e1b3680a');\n",
              "          const dataTable =\n",
              "            await google.colab.kernel.invokeFunction('convertToInteractive',\n",
              "                                                     [key], {});\n",
              "          if (!dataTable) return;\n",
              "\n",
              "          const docLinkHtml = 'Like what you see? Visit the ' +\n",
              "            '<a target=\"_blank\" href=https://colab.research.google.com/notebooks/data_table.ipynb>data table notebook</a>'\n",
              "            + ' to learn more about interactive tables.';\n",
              "          element.innerHTML = '';\n",
              "          dataTable['output_type'] = 'display_data';\n",
              "          await google.colab.output.renderOutput(dataTable, element);\n",
              "          const docLink = document.createElement('div');\n",
              "          docLink.innerHTML = docLinkHtml;\n",
              "          element.appendChild(docLink);\n",
              "        }\n",
              "      </script>\n",
              "    </div>\n",
              "  </div>\n",
              "  "
            ]
          },
          "metadata": {},
          "execution_count": 353
        }
      ]
    },
    {
      "cell_type": "code",
      "source": [
        "gene_phenotype.shape"
      ],
      "metadata": {
        "colab": {
          "base_uri": "https://localhost:8080/"
        },
        "id": "BzBWd_3yB49w",
        "outputId": "148307a2-c369-43c0-8b19-f79c4e683a7f"
      },
      "execution_count": null,
      "outputs": [
        {
          "output_type": "execute_result",
          "data": {
            "text/plain": [
              "(23543, 5)"
            ]
          },
          "metadata": {},
          "execution_count": 354
        }
      ]
    },
    {
      "cell_type": "markdown",
      "source": [
        "#### Bidirecting relation\n",
        "This accounts for symetrical relations, for example, drug_a resembles drug_b then drug_b resembles drug_a\n",
        "the function `bidirect` simply swab head and tail enitities to account for symetry"
      ],
      "metadata": {
        "id": "yb0fX1Hh0fuK"
      }
    },
    {
      "cell_type": "code",
      "source": [
        "def bidirect(df):\n",
        "  df1 = df.copy()\n",
        "  df1.columns=['tail_entity','relation','head_entity','tail_label','head_label']\n",
        "  return pd.concat([df,df1], axis=0)\n",
        "\n"
      ],
      "metadata": {
        "id": "3ouNWcyL2DW5"
      },
      "execution_count": null,
      "outputs": []
    },
    {
      "cell_type": "markdown",
      "source": [
        "- for example"
      ],
      "metadata": {
        "id": "HNreJbKB4Ggb"
      }
    },
    {
      "cell_type": "code",
      "source": [
        "df1 = pd.DataFrame({\"head_entity\":[1,2,3,4],\"relation\":\"binds\",\"tail_entity\":[\"a\",\"b\",\"c\",\"d\"],\"head_label\":\"drug\",\"tail_label\":\"gene\"}\n",
        "                   )\n",
        "df1.head()"
      ],
      "metadata": {
        "colab": {
          "base_uri": "https://localhost:8080/",
          "height": 175
        },
        "id": "SONA-1tmXnzM",
        "outputId": "19523b76-f1f0-4098-c688-0eb7b627bdc0"
      },
      "execution_count": null,
      "outputs": [
        {
          "output_type": "execute_result",
          "data": {
            "text/plain": [
              "   head_entity relation tail_entity head_label tail_label\n",
              "0            1    binds           a       drug       gene\n",
              "1            2    binds           b       drug       gene\n",
              "2            3    binds           c       drug       gene\n",
              "3            4    binds           d       drug       gene"
            ],
            "text/html": [
              "\n",
              "  <div id=\"df-48300027-4862-4fc8-95cc-854f9d9e101e\">\n",
              "    <div class=\"colab-df-container\">\n",
              "      <div>\n",
              "<style scoped>\n",
              "    .dataframe tbody tr th:only-of-type {\n",
              "        vertical-align: middle;\n",
              "    }\n",
              "\n",
              "    .dataframe tbody tr th {\n",
              "        vertical-align: top;\n",
              "    }\n",
              "\n",
              "    .dataframe thead th {\n",
              "        text-align: right;\n",
              "    }\n",
              "</style>\n",
              "<table border=\"1\" class=\"dataframe\">\n",
              "  <thead>\n",
              "    <tr style=\"text-align: right;\">\n",
              "      <th></th>\n",
              "      <th>head_entity</th>\n",
              "      <th>relation</th>\n",
              "      <th>tail_entity</th>\n",
              "      <th>head_label</th>\n",
              "      <th>tail_label</th>\n",
              "    </tr>\n",
              "  </thead>\n",
              "  <tbody>\n",
              "    <tr>\n",
              "      <th>0</th>\n",
              "      <td>1</td>\n",
              "      <td>binds</td>\n",
              "      <td>a</td>\n",
              "      <td>drug</td>\n",
              "      <td>gene</td>\n",
              "    </tr>\n",
              "    <tr>\n",
              "      <th>1</th>\n",
              "      <td>2</td>\n",
              "      <td>binds</td>\n",
              "      <td>b</td>\n",
              "      <td>drug</td>\n",
              "      <td>gene</td>\n",
              "    </tr>\n",
              "    <tr>\n",
              "      <th>2</th>\n",
              "      <td>3</td>\n",
              "      <td>binds</td>\n",
              "      <td>c</td>\n",
              "      <td>drug</td>\n",
              "      <td>gene</td>\n",
              "    </tr>\n",
              "    <tr>\n",
              "      <th>3</th>\n",
              "      <td>4</td>\n",
              "      <td>binds</td>\n",
              "      <td>d</td>\n",
              "      <td>drug</td>\n",
              "      <td>gene</td>\n",
              "    </tr>\n",
              "  </tbody>\n",
              "</table>\n",
              "</div>\n",
              "      <button class=\"colab-df-convert\" onclick=\"convertToInteractive('df-48300027-4862-4fc8-95cc-854f9d9e101e')\"\n",
              "              title=\"Convert this dataframe to an interactive table.\"\n",
              "              style=\"display:none;\">\n",
              "        \n",
              "  <svg xmlns=\"http://www.w3.org/2000/svg\" height=\"24px\"viewBox=\"0 0 24 24\"\n",
              "       width=\"24px\">\n",
              "    <path d=\"M0 0h24v24H0V0z\" fill=\"none\"/>\n",
              "    <path d=\"M18.56 5.44l.94 2.06.94-2.06 2.06-.94-2.06-.94-.94-2.06-.94 2.06-2.06.94zm-11 1L8.5 8.5l.94-2.06 2.06-.94-2.06-.94L8.5 2.5l-.94 2.06-2.06.94zm10 10l.94 2.06.94-2.06 2.06-.94-2.06-.94-.94-2.06-.94 2.06-2.06.94z\"/><path d=\"M17.41 7.96l-1.37-1.37c-.4-.4-.92-.59-1.43-.59-.52 0-1.04.2-1.43.59L10.3 9.45l-7.72 7.72c-.78.78-.78 2.05 0 2.83L4 21.41c.39.39.9.59 1.41.59.51 0 1.02-.2 1.41-.59l7.78-7.78 2.81-2.81c.8-.78.8-2.07 0-2.86zM5.41 20L4 18.59l7.72-7.72 1.47 1.35L5.41 20z\"/>\n",
              "  </svg>\n",
              "      </button>\n",
              "      \n",
              "  <style>\n",
              "    .colab-df-container {\n",
              "      display:flex;\n",
              "      flex-wrap:wrap;\n",
              "      gap: 12px;\n",
              "    }\n",
              "\n",
              "    .colab-df-convert {\n",
              "      background-color: #E8F0FE;\n",
              "      border: none;\n",
              "      border-radius: 50%;\n",
              "      cursor: pointer;\n",
              "      display: none;\n",
              "      fill: #1967D2;\n",
              "      height: 32px;\n",
              "      padding: 0 0 0 0;\n",
              "      width: 32px;\n",
              "    }\n",
              "\n",
              "    .colab-df-convert:hover {\n",
              "      background-color: #E2EBFA;\n",
              "      box-shadow: 0px 1px 2px rgba(60, 64, 67, 0.3), 0px 1px 3px 1px rgba(60, 64, 67, 0.15);\n",
              "      fill: #174EA6;\n",
              "    }\n",
              "\n",
              "    [theme=dark] .colab-df-convert {\n",
              "      background-color: #3B4455;\n",
              "      fill: #D2E3FC;\n",
              "    }\n",
              "\n",
              "    [theme=dark] .colab-df-convert:hover {\n",
              "      background-color: #434B5C;\n",
              "      box-shadow: 0px 1px 3px 1px rgba(0, 0, 0, 0.15);\n",
              "      filter: drop-shadow(0px 1px 2px rgba(0, 0, 0, 0.3));\n",
              "      fill: #FFFFFF;\n",
              "    }\n",
              "  </style>\n",
              "\n",
              "      <script>\n",
              "        const buttonEl =\n",
              "          document.querySelector('#df-48300027-4862-4fc8-95cc-854f9d9e101e button.colab-df-convert');\n",
              "        buttonEl.style.display =\n",
              "          google.colab.kernel.accessAllowed ? 'block' : 'none';\n",
              "\n",
              "        async function convertToInteractive(key) {\n",
              "          const element = document.querySelector('#df-48300027-4862-4fc8-95cc-854f9d9e101e');\n",
              "          const dataTable =\n",
              "            await google.colab.kernel.invokeFunction('convertToInteractive',\n",
              "                                                     [key], {});\n",
              "          if (!dataTable) return;\n",
              "\n",
              "          const docLinkHtml = 'Like what you see? Visit the ' +\n",
              "            '<a target=\"_blank\" href=https://colab.research.google.com/notebooks/data_table.ipynb>data table notebook</a>'\n",
              "            + ' to learn more about interactive tables.';\n",
              "          element.innerHTML = '';\n",
              "          dataTable['output_type'] = 'display_data';\n",
              "          await google.colab.output.renderOutput(dataTable, element);\n",
              "          const docLink = document.createElement('div');\n",
              "          docLink.innerHTML = docLinkHtml;\n",
              "          element.appendChild(docLink);\n",
              "        }\n",
              "      </script>\n",
              "    </div>\n",
              "  </div>\n",
              "  "
            ]
          },
          "metadata": {},
          "execution_count": 356
        }
      ]
    },
    {
      "cell_type": "code",
      "source": [
        "df1 = bidirect(df1)\n",
        "df1"
      ],
      "metadata": {
        "colab": {
          "base_uri": "https://localhost:8080/",
          "height": 300
        },
        "id": "Pzb1-qMpYikp",
        "outputId": "a3044f9a-0c7a-41cd-972a-080d58338ebc"
      },
      "execution_count": null,
      "outputs": [
        {
          "output_type": "execute_result",
          "data": {
            "text/plain": [
              "  head_entity relation tail_entity head_label tail_label\n",
              "0           1    binds           a       drug       gene\n",
              "1           2    binds           b       drug       gene\n",
              "2           3    binds           c       drug       gene\n",
              "3           4    binds           d       drug       gene\n",
              "0           a    binds           1       gene       drug\n",
              "1           b    binds           2       gene       drug\n",
              "2           c    binds           3       gene       drug\n",
              "3           d    binds           4       gene       drug"
            ],
            "text/html": [
              "\n",
              "  <div id=\"df-037b9d4f-5497-4d34-8992-3de89a038383\">\n",
              "    <div class=\"colab-df-container\">\n",
              "      <div>\n",
              "<style scoped>\n",
              "    .dataframe tbody tr th:only-of-type {\n",
              "        vertical-align: middle;\n",
              "    }\n",
              "\n",
              "    .dataframe tbody tr th {\n",
              "        vertical-align: top;\n",
              "    }\n",
              "\n",
              "    .dataframe thead th {\n",
              "        text-align: right;\n",
              "    }\n",
              "</style>\n",
              "<table border=\"1\" class=\"dataframe\">\n",
              "  <thead>\n",
              "    <tr style=\"text-align: right;\">\n",
              "      <th></th>\n",
              "      <th>head_entity</th>\n",
              "      <th>relation</th>\n",
              "      <th>tail_entity</th>\n",
              "      <th>head_label</th>\n",
              "      <th>tail_label</th>\n",
              "    </tr>\n",
              "  </thead>\n",
              "  <tbody>\n",
              "    <tr>\n",
              "      <th>0</th>\n",
              "      <td>1</td>\n",
              "      <td>binds</td>\n",
              "      <td>a</td>\n",
              "      <td>drug</td>\n",
              "      <td>gene</td>\n",
              "    </tr>\n",
              "    <tr>\n",
              "      <th>1</th>\n",
              "      <td>2</td>\n",
              "      <td>binds</td>\n",
              "      <td>b</td>\n",
              "      <td>drug</td>\n",
              "      <td>gene</td>\n",
              "    </tr>\n",
              "    <tr>\n",
              "      <th>2</th>\n",
              "      <td>3</td>\n",
              "      <td>binds</td>\n",
              "      <td>c</td>\n",
              "      <td>drug</td>\n",
              "      <td>gene</td>\n",
              "    </tr>\n",
              "    <tr>\n",
              "      <th>3</th>\n",
              "      <td>4</td>\n",
              "      <td>binds</td>\n",
              "      <td>d</td>\n",
              "      <td>drug</td>\n",
              "      <td>gene</td>\n",
              "    </tr>\n",
              "    <tr>\n",
              "      <th>0</th>\n",
              "      <td>a</td>\n",
              "      <td>binds</td>\n",
              "      <td>1</td>\n",
              "      <td>gene</td>\n",
              "      <td>drug</td>\n",
              "    </tr>\n",
              "    <tr>\n",
              "      <th>1</th>\n",
              "      <td>b</td>\n",
              "      <td>binds</td>\n",
              "      <td>2</td>\n",
              "      <td>gene</td>\n",
              "      <td>drug</td>\n",
              "    </tr>\n",
              "    <tr>\n",
              "      <th>2</th>\n",
              "      <td>c</td>\n",
              "      <td>binds</td>\n",
              "      <td>3</td>\n",
              "      <td>gene</td>\n",
              "      <td>drug</td>\n",
              "    </tr>\n",
              "    <tr>\n",
              "      <th>3</th>\n",
              "      <td>d</td>\n",
              "      <td>binds</td>\n",
              "      <td>4</td>\n",
              "      <td>gene</td>\n",
              "      <td>drug</td>\n",
              "    </tr>\n",
              "  </tbody>\n",
              "</table>\n",
              "</div>\n",
              "      <button class=\"colab-df-convert\" onclick=\"convertToInteractive('df-037b9d4f-5497-4d34-8992-3de89a038383')\"\n",
              "              title=\"Convert this dataframe to an interactive table.\"\n",
              "              style=\"display:none;\">\n",
              "        \n",
              "  <svg xmlns=\"http://www.w3.org/2000/svg\" height=\"24px\"viewBox=\"0 0 24 24\"\n",
              "       width=\"24px\">\n",
              "    <path d=\"M0 0h24v24H0V0z\" fill=\"none\"/>\n",
              "    <path d=\"M18.56 5.44l.94 2.06.94-2.06 2.06-.94-2.06-.94-.94-2.06-.94 2.06-2.06.94zm-11 1L8.5 8.5l.94-2.06 2.06-.94-2.06-.94L8.5 2.5l-.94 2.06-2.06.94zm10 10l.94 2.06.94-2.06 2.06-.94-2.06-.94-.94-2.06-.94 2.06-2.06.94z\"/><path d=\"M17.41 7.96l-1.37-1.37c-.4-.4-.92-.59-1.43-.59-.52 0-1.04.2-1.43.59L10.3 9.45l-7.72 7.72c-.78.78-.78 2.05 0 2.83L4 21.41c.39.39.9.59 1.41.59.51 0 1.02-.2 1.41-.59l7.78-7.78 2.81-2.81c.8-.78.8-2.07 0-2.86zM5.41 20L4 18.59l7.72-7.72 1.47 1.35L5.41 20z\"/>\n",
              "  </svg>\n",
              "      </button>\n",
              "      \n",
              "  <style>\n",
              "    .colab-df-container {\n",
              "      display:flex;\n",
              "      flex-wrap:wrap;\n",
              "      gap: 12px;\n",
              "    }\n",
              "\n",
              "    .colab-df-convert {\n",
              "      background-color: #E8F0FE;\n",
              "      border: none;\n",
              "      border-radius: 50%;\n",
              "      cursor: pointer;\n",
              "      display: none;\n",
              "      fill: #1967D2;\n",
              "      height: 32px;\n",
              "      padding: 0 0 0 0;\n",
              "      width: 32px;\n",
              "    }\n",
              "\n",
              "    .colab-df-convert:hover {\n",
              "      background-color: #E2EBFA;\n",
              "      box-shadow: 0px 1px 2px rgba(60, 64, 67, 0.3), 0px 1px 3px 1px rgba(60, 64, 67, 0.15);\n",
              "      fill: #174EA6;\n",
              "    }\n",
              "\n",
              "    [theme=dark] .colab-df-convert {\n",
              "      background-color: #3B4455;\n",
              "      fill: #D2E3FC;\n",
              "    }\n",
              "\n",
              "    [theme=dark] .colab-df-convert:hover {\n",
              "      background-color: #434B5C;\n",
              "      box-shadow: 0px 1px 3px 1px rgba(0, 0, 0, 0.15);\n",
              "      filter: drop-shadow(0px 1px 2px rgba(0, 0, 0, 0.3));\n",
              "      fill: #FFFFFF;\n",
              "    }\n",
              "  </style>\n",
              "\n",
              "      <script>\n",
              "        const buttonEl =\n",
              "          document.querySelector('#df-037b9d4f-5497-4d34-8992-3de89a038383 button.colab-df-convert');\n",
              "        buttonEl.style.display =\n",
              "          google.colab.kernel.accessAllowed ? 'block' : 'none';\n",
              "\n",
              "        async function convertToInteractive(key) {\n",
              "          const element = document.querySelector('#df-037b9d4f-5497-4d34-8992-3de89a038383');\n",
              "          const dataTable =\n",
              "            await google.colab.kernel.invokeFunction('convertToInteractive',\n",
              "                                                     [key], {});\n",
              "          if (!dataTable) return;\n",
              "\n",
              "          const docLinkHtml = 'Like what you see? Visit the ' +\n",
              "            '<a target=\"_blank\" href=https://colab.research.google.com/notebooks/data_table.ipynb>data table notebook</a>'\n",
              "            + ' to learn more about interactive tables.';\n",
              "          element.innerHTML = '';\n",
              "          dataTable['output_type'] = 'display_data';\n",
              "          await google.colab.output.renderOutput(dataTable, element);\n",
              "          const docLink = document.createElement('div');\n",
              "          docLink.innerHTML = docLinkHtml;\n",
              "          element.appendChild(docLink);\n",
              "        }\n",
              "      </script>\n",
              "    </div>\n",
              "  </div>\n",
              "  "
            ]
          },
          "metadata": {},
          "execution_count": 357
        }
      ]
    },
    {
      "cell_type": "code",
      "source": [
        "ppi = bidirect(ppi)\n",
        "drug_similarity = bidirect(drug_similarity)"
      ],
      "metadata": {
        "id": "-kowjGDQXjPp"
      },
      "execution_count": null,
      "outputs": []
    },
    {
      "cell_type": "markdown",
      "source": [
        "#### Put all together"
      ],
      "metadata": {
        "id": "_2iol7LrGrjN"
      }
    },
    {
      "cell_type": "code",
      "source": [
        "frames = [ppi, agora, drug_similarity, gene_pathway, drug_disease, disease_gene, \n",
        "          disease_pathway, drug_gene, disease_phenotype, gene_phenotype, drug_target]\n",
        "\n",
        "df = pd.concat(frames, ignore_index=True, axis=0)\n",
        "df = df.drop_duplicates().reset_index(drop=True)\n",
        "df.head()"
      ],
      "metadata": {
        "colab": {
          "base_uri": "https://localhost:8080/",
          "height": 206
        },
        "id": "I13M524wGwjk",
        "outputId": "b21654df-3aa1-467a-f31c-295d28790f9a"
      },
      "execution_count": null,
      "outputs": [
        {
          "output_type": "execute_result",
          "data": {
            "text/plain": [
              "  head_entity        relation tail_entity head_label tail_label\n",
              "0        ARF5  interacts_with       ACAP2       gene       gene\n",
              "1        ARF5  interacts_with       RAB1A       gene       gene\n",
              "2        ARF5  interacts_with        COPE       gene       gene\n",
              "3        ARF5  interacts_with       ACAP1       gene       gene\n",
              "4        ARF5  interacts_with       COPZ1       gene       gene"
            ],
            "text/html": [
              "\n",
              "  <div id=\"df-bcc3d52b-73c9-4002-a843-61ea1658cac4\">\n",
              "    <div class=\"colab-df-container\">\n",
              "      <div>\n",
              "<style scoped>\n",
              "    .dataframe tbody tr th:only-of-type {\n",
              "        vertical-align: middle;\n",
              "    }\n",
              "\n",
              "    .dataframe tbody tr th {\n",
              "        vertical-align: top;\n",
              "    }\n",
              "\n",
              "    .dataframe thead th {\n",
              "        text-align: right;\n",
              "    }\n",
              "</style>\n",
              "<table border=\"1\" class=\"dataframe\">\n",
              "  <thead>\n",
              "    <tr style=\"text-align: right;\">\n",
              "      <th></th>\n",
              "      <th>head_entity</th>\n",
              "      <th>relation</th>\n",
              "      <th>tail_entity</th>\n",
              "      <th>head_label</th>\n",
              "      <th>tail_label</th>\n",
              "    </tr>\n",
              "  </thead>\n",
              "  <tbody>\n",
              "    <tr>\n",
              "      <th>0</th>\n",
              "      <td>ARF5</td>\n",
              "      <td>interacts_with</td>\n",
              "      <td>ACAP2</td>\n",
              "      <td>gene</td>\n",
              "      <td>gene</td>\n",
              "    </tr>\n",
              "    <tr>\n",
              "      <th>1</th>\n",
              "      <td>ARF5</td>\n",
              "      <td>interacts_with</td>\n",
              "      <td>RAB1A</td>\n",
              "      <td>gene</td>\n",
              "      <td>gene</td>\n",
              "    </tr>\n",
              "    <tr>\n",
              "      <th>2</th>\n",
              "      <td>ARF5</td>\n",
              "      <td>interacts_with</td>\n",
              "      <td>COPE</td>\n",
              "      <td>gene</td>\n",
              "      <td>gene</td>\n",
              "    </tr>\n",
              "    <tr>\n",
              "      <th>3</th>\n",
              "      <td>ARF5</td>\n",
              "      <td>interacts_with</td>\n",
              "      <td>ACAP1</td>\n",
              "      <td>gene</td>\n",
              "      <td>gene</td>\n",
              "    </tr>\n",
              "    <tr>\n",
              "      <th>4</th>\n",
              "      <td>ARF5</td>\n",
              "      <td>interacts_with</td>\n",
              "      <td>COPZ1</td>\n",
              "      <td>gene</td>\n",
              "      <td>gene</td>\n",
              "    </tr>\n",
              "  </tbody>\n",
              "</table>\n",
              "</div>\n",
              "      <button class=\"colab-df-convert\" onclick=\"convertToInteractive('df-bcc3d52b-73c9-4002-a843-61ea1658cac4')\"\n",
              "              title=\"Convert this dataframe to an interactive table.\"\n",
              "              style=\"display:none;\">\n",
              "        \n",
              "  <svg xmlns=\"http://www.w3.org/2000/svg\" height=\"24px\"viewBox=\"0 0 24 24\"\n",
              "       width=\"24px\">\n",
              "    <path d=\"M0 0h24v24H0V0z\" fill=\"none\"/>\n",
              "    <path d=\"M18.56 5.44l.94 2.06.94-2.06 2.06-.94-2.06-.94-.94-2.06-.94 2.06-2.06.94zm-11 1L8.5 8.5l.94-2.06 2.06-.94-2.06-.94L8.5 2.5l-.94 2.06-2.06.94zm10 10l.94 2.06.94-2.06 2.06-.94-2.06-.94-.94-2.06-.94 2.06-2.06.94z\"/><path d=\"M17.41 7.96l-1.37-1.37c-.4-.4-.92-.59-1.43-.59-.52 0-1.04.2-1.43.59L10.3 9.45l-7.72 7.72c-.78.78-.78 2.05 0 2.83L4 21.41c.39.39.9.59 1.41.59.51 0 1.02-.2 1.41-.59l7.78-7.78 2.81-2.81c.8-.78.8-2.07 0-2.86zM5.41 20L4 18.59l7.72-7.72 1.47 1.35L5.41 20z\"/>\n",
              "  </svg>\n",
              "      </button>\n",
              "      \n",
              "  <style>\n",
              "    .colab-df-container {\n",
              "      display:flex;\n",
              "      flex-wrap:wrap;\n",
              "      gap: 12px;\n",
              "    }\n",
              "\n",
              "    .colab-df-convert {\n",
              "      background-color: #E8F0FE;\n",
              "      border: none;\n",
              "      border-radius: 50%;\n",
              "      cursor: pointer;\n",
              "      display: none;\n",
              "      fill: #1967D2;\n",
              "      height: 32px;\n",
              "      padding: 0 0 0 0;\n",
              "      width: 32px;\n",
              "    }\n",
              "\n",
              "    .colab-df-convert:hover {\n",
              "      background-color: #E2EBFA;\n",
              "      box-shadow: 0px 1px 2px rgba(60, 64, 67, 0.3), 0px 1px 3px 1px rgba(60, 64, 67, 0.15);\n",
              "      fill: #174EA6;\n",
              "    }\n",
              "\n",
              "    [theme=dark] .colab-df-convert {\n",
              "      background-color: #3B4455;\n",
              "      fill: #D2E3FC;\n",
              "    }\n",
              "\n",
              "    [theme=dark] .colab-df-convert:hover {\n",
              "      background-color: #434B5C;\n",
              "      box-shadow: 0px 1px 3px 1px rgba(0, 0, 0, 0.15);\n",
              "      filter: drop-shadow(0px 1px 2px rgba(0, 0, 0, 0.3));\n",
              "      fill: #FFFFFF;\n",
              "    }\n",
              "  </style>\n",
              "\n",
              "      <script>\n",
              "        const buttonEl =\n",
              "          document.querySelector('#df-bcc3d52b-73c9-4002-a843-61ea1658cac4 button.colab-df-convert');\n",
              "        buttonEl.style.display =\n",
              "          google.colab.kernel.accessAllowed ? 'block' : 'none';\n",
              "\n",
              "        async function convertToInteractive(key) {\n",
              "          const element = document.querySelector('#df-bcc3d52b-73c9-4002-a843-61ea1658cac4');\n",
              "          const dataTable =\n",
              "            await google.colab.kernel.invokeFunction('convertToInteractive',\n",
              "                                                     [key], {});\n",
              "          if (!dataTable) return;\n",
              "\n",
              "          const docLinkHtml = 'Like what you see? Visit the ' +\n",
              "            '<a target=\"_blank\" href=https://colab.research.google.com/notebooks/data_table.ipynb>data table notebook</a>'\n",
              "            + ' to learn more about interactive tables.';\n",
              "          element.innerHTML = '';\n",
              "          dataTable['output_type'] = 'display_data';\n",
              "          await google.colab.output.renderOutput(dataTable, element);\n",
              "          const docLink = document.createElement('div');\n",
              "          docLink.innerHTML = docLinkHtml;\n",
              "          element.appendChild(docLink);\n",
              "        }\n",
              "      </script>\n",
              "    </div>\n",
              "  </div>\n",
              "  "
            ]
          },
          "metadata": {},
          "execution_count": 359
        }
      ]
    },
    {
      "cell_type": "code",
      "source": [
        "df.shape"
      ],
      "metadata": {
        "colab": {
          "base_uri": "https://localhost:8080/"
        },
        "id": "uzcUQ4fsTZCw",
        "outputId": "fd5a9c93-ab45-4c4c-b2e3-9fae753f0f23"
      },
      "execution_count": null,
      "outputs": [
        {
          "output_type": "execute_result",
          "data": {
            "text/plain": [
              "(1097315, 5)"
            ]
          },
          "metadata": {},
          "execution_count": 360
        }
      ]
    },
    {
      "cell_type": "code",
      "source": [
        "df.relation.value_counts()"
      ],
      "metadata": {
        "colab": {
          "base_uri": "https://localhost:8080/"
        },
        "id": "PcCoST8PTxsl",
        "outputId": "6f3c77ad-49b2-442b-c5e3-9e384ee7bfdb"
      },
      "execution_count": null,
      "outputs": [
        {
          "output_type": "execute_result",
          "data": {
            "text/plain": [
              "interacts_with           630733\n",
              "associated_with_gene     183911\n",
              "involves_in_path         109289\n",
              "upregulates               57190\n",
              "downregulates             55362\n",
              "associated_with_pheno     33999\n",
              "involves_in_pheno         20050\n",
              "associated_with_path       3896\n",
              "targets                    1873\n",
              "resembles                   856\n",
              "treats                      156\n",
              "Name: relation, dtype: int64"
            ]
          },
          "metadata": {},
          "execution_count": 361
        }
      ]
    },
    {
      "cell_type": "code",
      "source": [
        "len(set(list(df[\"head_entity\"].values)+list(df[\"tail_entity\"].values)))"
      ],
      "metadata": {
        "colab": {
          "base_uri": "https://localhost:8080/"
        },
        "id": "lMFW4OEOUk9V",
        "outputId": "90849569-588b-4730-918b-3273c3fb62e8"
      },
      "execution_count": null,
      "outputs": [
        {
          "output_type": "execute_result",
          "data": {
            "text/plain": [
              "29776"
            ]
          },
          "metadata": {},
          "execution_count": 362
        }
      ]
    },
    {
      "cell_type": "markdown",
      "source": [
        "### Entity labels"
      ],
      "metadata": {
        "id": "z3fHkh4mXikS"
      }
    },
    {
      "cell_type": "code",
      "source": [
        "import pickle\n",
        "\n",
        "# Combine head and tail columns with their respective labels\n",
        "entities = pd.concat([df[['head_entity', 'head_label']].rename(columns={'head_entity': 'entity', 'head_label': 'label'}),\n",
        "                      df[['tail_entity', 'tail_label']].rename(columns={'tail_entity': 'entity', 'tail_label': 'label'})],\n",
        "                            axis=0)\n",
        "\n",
        "entities = entities.drop_duplicates()\n",
        "\n",
        "# Create a dictionary with entities as keys and their labels as values\n",
        "entity2label = dict(zip(entities['entity'], entities['label']))\n",
        "\n",
        "# Serialize the object and save it to a file\n",
        "with open(fp+\"entity2label.pkl\", \"wb\") as file:\n",
        "    pickle.dump(entity2label, file)\n"
      ],
      "metadata": {
        "id": "RqDbTehSbhrR"
      },
      "execution_count": null,
      "outputs": []
    },
    {
      "cell_type": "code",
      "source": [
        "entities.label.value_counts()"
      ],
      "metadata": {
        "colab": {
          "base_uri": "https://localhost:8080/"
        },
        "id": "CHxq2xJOsQyd",
        "outputId": "21535806-c044-47dc-898c-e44935a295c6"
      },
      "execution_count": null,
      "outputs": [
        {
          "output_type": "execute_result",
          "data": {
            "text/plain": [
              "gene         17775\n",
              "phenotype     8634\n",
              "drug          2003\n",
              "pathway       1335\n",
              "disease         29\n",
              "Name: label, dtype: int64"
            ]
          },
          "metadata": {},
          "execution_count": 364
        }
      ]
    },
    {
      "cell_type": "markdown",
      "source": [
        "### Visualise Network Schema"
      ],
      "metadata": {
        "id": "EDOfY2qycGj2"
      }
    },
    {
      "cell_type": "code",
      "source": [
        "schema = df[[\"head_label\", \"relation\", \"tail_label\"]]\n",
        "schema = schema.drop_duplicates().reset_index(drop=True)\n",
        "schema"
      ],
      "metadata": {
        "colab": {
          "base_uri": "https://localhost:8080/",
          "height": 394
        },
        "id": "_xHNTdpheiIj",
        "outputId": "9c888fd4-ae70-49ae-bd67-6c378c08b5c7"
      },
      "execution_count": null,
      "outputs": [
        {
          "output_type": "execute_result",
          "data": {
            "text/plain": [
              "   head_label               relation tail_label\n",
              "0        gene         interacts_with       gene\n",
              "1     disease   associated_with_gene       gene\n",
              "2        drug              resembles       drug\n",
              "3        gene       involves_in_path    pathway\n",
              "4        drug                 treats    disease\n",
              "5     disease   associated_with_path    pathway\n",
              "6        drug            upregulates       gene\n",
              "7        drug          downregulates       gene\n",
              "8     disease  associated_with_pheno  phenotype\n",
              "9        gene      involves_in_pheno  phenotype\n",
              "10       drug                targets       gene"
            ],
            "text/html": [
              "\n",
              "  <div id=\"df-926c8f50-f125-4a9a-ab4f-af0d198aee09\">\n",
              "    <div class=\"colab-df-container\">\n",
              "      <div>\n",
              "<style scoped>\n",
              "    .dataframe tbody tr th:only-of-type {\n",
              "        vertical-align: middle;\n",
              "    }\n",
              "\n",
              "    .dataframe tbody tr th {\n",
              "        vertical-align: top;\n",
              "    }\n",
              "\n",
              "    .dataframe thead th {\n",
              "        text-align: right;\n",
              "    }\n",
              "</style>\n",
              "<table border=\"1\" class=\"dataframe\">\n",
              "  <thead>\n",
              "    <tr style=\"text-align: right;\">\n",
              "      <th></th>\n",
              "      <th>head_label</th>\n",
              "      <th>relation</th>\n",
              "      <th>tail_label</th>\n",
              "    </tr>\n",
              "  </thead>\n",
              "  <tbody>\n",
              "    <tr>\n",
              "      <th>0</th>\n",
              "      <td>gene</td>\n",
              "      <td>interacts_with</td>\n",
              "      <td>gene</td>\n",
              "    </tr>\n",
              "    <tr>\n",
              "      <th>1</th>\n",
              "      <td>disease</td>\n",
              "      <td>associated_with_gene</td>\n",
              "      <td>gene</td>\n",
              "    </tr>\n",
              "    <tr>\n",
              "      <th>2</th>\n",
              "      <td>drug</td>\n",
              "      <td>resembles</td>\n",
              "      <td>drug</td>\n",
              "    </tr>\n",
              "    <tr>\n",
              "      <th>3</th>\n",
              "      <td>gene</td>\n",
              "      <td>involves_in_path</td>\n",
              "      <td>pathway</td>\n",
              "    </tr>\n",
              "    <tr>\n",
              "      <th>4</th>\n",
              "      <td>drug</td>\n",
              "      <td>treats</td>\n",
              "      <td>disease</td>\n",
              "    </tr>\n",
              "    <tr>\n",
              "      <th>5</th>\n",
              "      <td>disease</td>\n",
              "      <td>associated_with_path</td>\n",
              "      <td>pathway</td>\n",
              "    </tr>\n",
              "    <tr>\n",
              "      <th>6</th>\n",
              "      <td>drug</td>\n",
              "      <td>upregulates</td>\n",
              "      <td>gene</td>\n",
              "    </tr>\n",
              "    <tr>\n",
              "      <th>7</th>\n",
              "      <td>drug</td>\n",
              "      <td>downregulates</td>\n",
              "      <td>gene</td>\n",
              "    </tr>\n",
              "    <tr>\n",
              "      <th>8</th>\n",
              "      <td>disease</td>\n",
              "      <td>associated_with_pheno</td>\n",
              "      <td>phenotype</td>\n",
              "    </tr>\n",
              "    <tr>\n",
              "      <th>9</th>\n",
              "      <td>gene</td>\n",
              "      <td>involves_in_pheno</td>\n",
              "      <td>phenotype</td>\n",
              "    </tr>\n",
              "    <tr>\n",
              "      <th>10</th>\n",
              "      <td>drug</td>\n",
              "      <td>targets</td>\n",
              "      <td>gene</td>\n",
              "    </tr>\n",
              "  </tbody>\n",
              "</table>\n",
              "</div>\n",
              "      <button class=\"colab-df-convert\" onclick=\"convertToInteractive('df-926c8f50-f125-4a9a-ab4f-af0d198aee09')\"\n",
              "              title=\"Convert this dataframe to an interactive table.\"\n",
              "              style=\"display:none;\">\n",
              "        \n",
              "  <svg xmlns=\"http://www.w3.org/2000/svg\" height=\"24px\"viewBox=\"0 0 24 24\"\n",
              "       width=\"24px\">\n",
              "    <path d=\"M0 0h24v24H0V0z\" fill=\"none\"/>\n",
              "    <path d=\"M18.56 5.44l.94 2.06.94-2.06 2.06-.94-2.06-.94-.94-2.06-.94 2.06-2.06.94zm-11 1L8.5 8.5l.94-2.06 2.06-.94-2.06-.94L8.5 2.5l-.94 2.06-2.06.94zm10 10l.94 2.06.94-2.06 2.06-.94-2.06-.94-.94-2.06-.94 2.06-2.06.94z\"/><path d=\"M17.41 7.96l-1.37-1.37c-.4-.4-.92-.59-1.43-.59-.52 0-1.04.2-1.43.59L10.3 9.45l-7.72 7.72c-.78.78-.78 2.05 0 2.83L4 21.41c.39.39.9.59 1.41.59.51 0 1.02-.2 1.41-.59l7.78-7.78 2.81-2.81c.8-.78.8-2.07 0-2.86zM5.41 20L4 18.59l7.72-7.72 1.47 1.35L5.41 20z\"/>\n",
              "  </svg>\n",
              "      </button>\n",
              "      \n",
              "  <style>\n",
              "    .colab-df-container {\n",
              "      display:flex;\n",
              "      flex-wrap:wrap;\n",
              "      gap: 12px;\n",
              "    }\n",
              "\n",
              "    .colab-df-convert {\n",
              "      background-color: #E8F0FE;\n",
              "      border: none;\n",
              "      border-radius: 50%;\n",
              "      cursor: pointer;\n",
              "      display: none;\n",
              "      fill: #1967D2;\n",
              "      height: 32px;\n",
              "      padding: 0 0 0 0;\n",
              "      width: 32px;\n",
              "    }\n",
              "\n",
              "    .colab-df-convert:hover {\n",
              "      background-color: #E2EBFA;\n",
              "      box-shadow: 0px 1px 2px rgba(60, 64, 67, 0.3), 0px 1px 3px 1px rgba(60, 64, 67, 0.15);\n",
              "      fill: #174EA6;\n",
              "    }\n",
              "\n",
              "    [theme=dark] .colab-df-convert {\n",
              "      background-color: #3B4455;\n",
              "      fill: #D2E3FC;\n",
              "    }\n",
              "\n",
              "    [theme=dark] .colab-df-convert:hover {\n",
              "      background-color: #434B5C;\n",
              "      box-shadow: 0px 1px 3px 1px rgba(0, 0, 0, 0.15);\n",
              "      filter: drop-shadow(0px 1px 2px rgba(0, 0, 0, 0.3));\n",
              "      fill: #FFFFFF;\n",
              "    }\n",
              "  </style>\n",
              "\n",
              "      <script>\n",
              "        const buttonEl =\n",
              "          document.querySelector('#df-926c8f50-f125-4a9a-ab4f-af0d198aee09 button.colab-df-convert');\n",
              "        buttonEl.style.display =\n",
              "          google.colab.kernel.accessAllowed ? 'block' : 'none';\n",
              "\n",
              "        async function convertToInteractive(key) {\n",
              "          const element = document.querySelector('#df-926c8f50-f125-4a9a-ab4f-af0d198aee09');\n",
              "          const dataTable =\n",
              "            await google.colab.kernel.invokeFunction('convertToInteractive',\n",
              "                                                     [key], {});\n",
              "          if (!dataTable) return;\n",
              "\n",
              "          const docLinkHtml = 'Like what you see? Visit the ' +\n",
              "            '<a target=\"_blank\" href=https://colab.research.google.com/notebooks/data_table.ipynb>data table notebook</a>'\n",
              "            + ' to learn more about interactive tables.';\n",
              "          element.innerHTML = '';\n",
              "          dataTable['output_type'] = 'display_data';\n",
              "          await google.colab.output.renderOutput(dataTable, element);\n",
              "          const docLink = document.createElement('div');\n",
              "          docLink.innerHTML = docLinkHtml;\n",
              "          element.appendChild(docLink);\n",
              "        }\n",
              "      </script>\n",
              "    </div>\n",
              "  </div>\n",
              "  "
            ]
          },
          "metadata": {},
          "execution_count": 365
        }
      ]
    },
    {
      "cell_type": "code",
      "source": [
        "import networkx as nx\n",
        "import matplotlib.pyplot as plt\n",
        "\n",
        "# Create a directed multigraph\n",
        "G = nx.MultiDiGraph()\n",
        "\n",
        "# Add nodes and edges to the graph\n",
        "for row in schema.to_records(index=False):\n",
        "    G.add_node(row['head_label'], color='lightblue')\n",
        "    G.add_node(row['tail_label'], color='lightblue')\n",
        "    G.add_edge(row['head_label'], row['tail_label'], relation=row['relation'])\n",
        "\n",
        "# Set positions of nodes\n",
        "pos = nx.circular_layout(G)\n",
        "\n",
        "# Draw the graph without edge labels\n",
        "fig, ax = plt.subplots(figsize=(7, 7))\n",
        "nx.draw(G, pos, with_labels=True, node_color='lightblue', node_size=3000, font_size=12, ax=ax)\n",
        "\n",
        "plt.axis('off')\n",
        "plt.show()"
      ],
      "metadata": {
        "colab": {
          "base_uri": "https://localhost:8080/",
          "height": 576
        },
        "id": "dWZDWTrOnHOV",
        "outputId": "2e5e7eb9-d0b3-410a-ddb0-ae91baeffe8d"
      },
      "execution_count": null,
      "outputs": [
        {
          "output_type": "display_data",
          "data": {
            "text/plain": [
              "<Figure size 700x700 with 1 Axes>"
            ],
            "image/png": "[encoded data removed]"
          },
          "metadata": {}
        }
      ]
    },
    {
      "cell_type": "markdown",
      "source": [
        "- Finally, Save df without headers and labels as `triples`.\n",
        "- Next step is to train `triples` on various Embedding models, and the best one will be use for drug repurposing task. See next notebook "
      ],
      "metadata": {
        "id": "gox5nf1Fq2ye"
      }
    },
    {
      "cell_type": "code",
      "source": [
        "df.to_csv(fp+\"triples_full.csv\", index=False)\n",
        "\n",
        "df = df[[\"head_entity\", \"relation\", \"tail_entity\"]]\n",
        "df.to_csv(fp+\"triples_without_labels.tsv\", sep='\\t', header=False, index=False)"
      ],
      "metadata": {
        "id": "5A-OuJuLYKPI"
      },
      "execution_count": null,
      "outputs": []
    },
    {
      "cell_type": "markdown",
      "source": [
        "## References\n",
        "\n",
        "Szklarczyk, D., Gable, A. L., Lyon, D., Junge, A., Wyder, S., Huerta-Cepas, J., ... & Mering, C. V. (2019). STRING v11: protein–protein association networks with increased coverage, supporting functional discovery in genome-wide experimental datasets. Nucleic Acids Research, 47(D1), D607-D613. https://doi.org/10.1093/nar/gky1131"
      ],
      "metadata": {
        "id": "Z_rjZGnmYfSW"
      }
    },
    {
      "cell_type": "code",
      "source": [],
      "metadata": {
        "id": "o1r00QFWYiCJ"
      },
      "execution_count": null,
      "outputs": []
    }
  ],
  "metadata": {
    "kernelspec": {
      "display_name": "Python 3",
      "language": "python",
      "name": "python3"
    },
    "language_info": {
      "codemirror_mode": {
        "name": "ipython",
        "version": 3
      },
      "file_extension": ".py",
      "mimetype": "text/x-python",
      "name": "python",
      "nbconvert_exporter": "python",
      "pygments_lexer": "ipython3",
      "version": "3.8.5"
    },
    "colab": {
      "provenance": []
    },
    "accelerator": "TPU",
    "gpuClass": "standard"
  },
  "nbformat": 4,
  "nbformat_minor": 0
}