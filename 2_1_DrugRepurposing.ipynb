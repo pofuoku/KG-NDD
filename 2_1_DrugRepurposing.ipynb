{
  "nbformat": 4,
  "nbformat_minor": 0,
  "metadata": {
    "colab": {
      "provenance": []
    },
    "kernelspec": {
      "name": "python3",
      "display_name": "Python 3"
    },
    "language_info": {
      "name": "python"
    }
  },
  "cells": [
    {
      "cell_type": "markdown",
      "source": [
        "### Load Knowledge graph"
      ],
      "metadata": {
        "id": "SrmbypTsLmTj"
      }
    },
    {
      "cell_type": "code",
      "execution_count": null,
      "metadata": {
        "id": "6PUUB_gJLerp"
      },
      "outputs": [],
      "source": [
        "import pandas as pd\n",
        "import networkx as nx\n",
        "import matplotlib.pyplot as plt"
      ]
    },
    {
      "cell_type": "code",
      "source": [
        "fp = \"/content/drive/MyDrive/Project/data/\"\n",
        "\n",
        "df = pd.read_csv(fp+\"triples_full.csv\")\n",
        "df.head()"
      ],
      "metadata": {
        "id": "jsvlOn5bNYK-",
        "colab": {
          "base_uri": "https://localhost:8080/",
          "height": 206
        },
        "outputId": "334bdd86-2c52-441a-e698-7e8c8f2800f2"
      },
      "execution_count": null,
      "outputs": [
        {
          "output_type": "execute_result",
          "data": {
            "text/plain": [
              "  head_entity        relation tail_entity head_label tail_label\n",
              "0        ARF5  interacts_with       ACAP2       gene       gene\n",
              "1        ARF5  interacts_with       RAB1A       gene       gene\n",
              "2        ARF5  interacts_with        COPE       gene       gene\n",
              "3        ARF5  interacts_with       ACAP1       gene       gene\n",
              "4        ARF5  interacts_with       COPZ1       gene       gene"
            ],
            "text/html": [
              "\n",
              "  <div id=\"df-70229303-a653-48fc-bac5-73e513f1a8b3\">\n",
              "    <div class=\"colab-df-container\">\n",
              "      <div>\n",
              "<style scoped>\n",
              "    .dataframe tbody tr th:only-of-type {\n",
              "        vertical-align: middle;\n",
              "    }\n",
              "\n",
              "    .dataframe tbody tr th {\n",
              "        vertical-align: top;\n",
              "    }\n",
              "\n",
              "    .dataframe thead th {\n",
              "        text-align: right;\n",
              "    }\n",
              "</style>\n",
              "<table border=\"1\" class=\"dataframe\">\n",
              "  <thead>\n",
              "    <tr style=\"text-align: right;\">\n",
              "      <th></th>\n",
              "      <th>head_entity</th>\n",
              "      <th>relation</th>\n",
              "      <th>tail_entity</th>\n",
              "      <th>head_label</th>\n",
              "      <th>tail_label</th>\n",
              "    </tr>\n",
              "  </thead>\n",
              "  <tbody>\n",
              "    <tr>\n",
              "      <th>0</th>\n",
              "      <td>ARF5</td>\n",
              "      <td>interacts_with</td>\n",
              "      <td>ACAP2</td>\n",
              "      <td>gene</td>\n",
              "      <td>gene</td>\n",
              "    </tr>\n",
              "    <tr>\n",
              "      <th>1</th>\n",
              "      <td>ARF5</td>\n",
              "      <td>interacts_with</td>\n",
              "      <td>RAB1A</td>\n",
              "      <td>gene</td>\n",
              "      <td>gene</td>\n",
              "    </tr>\n",
              "    <tr>\n",
              "      <th>2</th>\n",
              "      <td>ARF5</td>\n",
              "      <td>interacts_with</td>\n",
              "      <td>COPE</td>\n",
              "      <td>gene</td>\n",
              "      <td>gene</td>\n",
              "    </tr>\n",
              "    <tr>\n",
              "      <th>3</th>\n",
              "      <td>ARF5</td>\n",
              "      <td>interacts_with</td>\n",
              "      <td>ACAP1</td>\n",
              "      <td>gene</td>\n",
              "      <td>gene</td>\n",
              "    </tr>\n",
              "    <tr>\n",
              "      <th>4</th>\n",
              "      <td>ARF5</td>\n",
              "      <td>interacts_with</td>\n",
              "      <td>COPZ1</td>\n",
              "      <td>gene</td>\n",
              "      <td>gene</td>\n",
              "    </tr>\n",
              "  </tbody>\n",
              "</table>\n",
              "</div>\n",
              "      <button class=\"colab-df-convert\" onclick=\"convertToInteractive('df-70229303-a653-48fc-bac5-73e513f1a8b3')\"\n",
              "              title=\"Convert this dataframe to an interactive table.\"\n",
              "              style=\"display:none;\">\n",
              "        \n",
              "  <svg xmlns=\"http://www.w3.org/2000/svg\" height=\"24px\"viewBox=\"0 0 24 24\"\n",
              "       width=\"24px\">\n",
              "    <path d=\"M0 0h24v24H0V0z\" fill=\"none\"/>\n",
              "    <path d=\"M18.56 5.44l.94 2.06.94-2.06 2.06-.94-2.06-.94-.94-2.06-.94 2.06-2.06.94zm-11 1L8.5 8.5l.94-2.06 2.06-.94-2.06-.94L8.5 2.5l-.94 2.06-2.06.94zm10 10l.94 2.06.94-2.06 2.06-.94-2.06-.94-.94-2.06-.94 2.06-2.06.94z\"/><path d=\"M17.41 7.96l-1.37-1.37c-.4-.4-.92-.59-1.43-.59-.52 0-1.04.2-1.43.59L10.3 9.45l-7.72 7.72c-.78.78-.78 2.05 0 2.83L4 21.41c.39.39.9.59 1.41.59.51 0 1.02-.2 1.41-.59l7.78-7.78 2.81-2.81c.8-.78.8-2.07 0-2.86zM5.41 20L4 18.59l7.72-7.72 1.47 1.35L5.41 20z\"/>\n",
              "  </svg>\n",
              "      </button>\n",
              "      \n",
              "  <style>\n",
              "    .colab-df-container {\n",
              "      display:flex;\n",
              "      flex-wrap:wrap;\n",
              "      gap: 12px;\n",
              "    }\n",
              "\n",
              "    .colab-df-convert {\n",
              "      background-color: #E8F0FE;\n",
              "      border: none;\n",
              "      border-radius: 50%;\n",
              "      cursor: pointer;\n",
              "      display: none;\n",
              "      fill: #1967D2;\n",
              "      height: 32px;\n",
              "      padding: 0 0 0 0;\n",
              "      width: 32px;\n",
              "    }\n",
              "\n",
              "    .colab-df-convert:hover {\n",
              "      background-color: #E2EBFA;\n",
              "      box-shadow: 0px 1px 2px rgba(60, 64, 67, 0.3), 0px 1px 3px 1px rgba(60, 64, 67, 0.15);\n",
              "      fill: #174EA6;\n",
              "    }\n",
              "\n",
              "    [theme=dark] .colab-df-convert {\n",
              "      background-color: #3B4455;\n",
              "      fill: #D2E3FC;\n",
              "    }\n",
              "\n",
              "    [theme=dark] .colab-df-convert:hover {\n",
              "      background-color: #434B5C;\n",
              "      box-shadow: 0px 1px 3px 1px rgba(0, 0, 0, 0.15);\n",
              "      filter: drop-shadow(0px 1px 2px rgba(0, 0, 0, 0.3));\n",
              "      fill: #FFFFFF;\n",
              "    }\n",
              "  </style>\n",
              "\n",
              "      <script>\n",
              "        const buttonEl =\n",
              "          document.querySelector('#df-70229303-a653-48fc-bac5-73e513f1a8b3 button.colab-df-convert');\n",
              "        buttonEl.style.display =\n",
              "          google.colab.kernel.accessAllowed ? 'block' : 'none';\n",
              "\n",
              "        async function convertToInteractive(key) {\n",
              "          const element = document.querySelector('#df-70229303-a653-48fc-bac5-73e513f1a8b3');\n",
              "          const dataTable =\n",
              "            await google.colab.kernel.invokeFunction('convertToInteractive',\n",
              "                                                     [key], {});\n",
              "          if (!dataTable) return;\n",
              "\n",
              "          const docLinkHtml = 'Like what you see? Visit the ' +\n",
              "            '<a target=\"_blank\" href=https://colab.research.google.com/notebooks/data_table.ipynb>data table notebook</a>'\n",
              "            + ' to learn more about interactive tables.';\n",
              "          element.innerHTML = '';\n",
              "          dataTable['output_type'] = 'display_data';\n",
              "          await google.colab.output.renderOutput(dataTable, element);\n",
              "          const docLink = document.createElement('div');\n",
              "          docLink.innerHTML = docLinkHtml;\n",
              "          element.appendChild(docLink);\n",
              "        }\n",
              "      </script>\n",
              "    </div>\n",
              "  </div>\n",
              "  "
            ]
          },
          "metadata": {},
          "execution_count": 2
        }
      ]
    },
    {
      "cell_type": "markdown",
      "source": [
        "### Create graph object\n",
        "The following codes creates a graph from the triples df by adding nodes and connecting edges as depicted in the df. NetworkX lets us perform graph operations seamlessly\n"
      ],
      "metadata": {
        "id": "Ob6teRg4N8Y0"
      }
    },
    {
      "cell_type": "code",
      "source": [
        "G = nx.MultiDiGraph()\n",
        "\n",
        "for _, row in df.iterrows():\n",
        "    head = row['head_entity']\n",
        "    relation = row['relation']\n",
        "    tail = row['tail_entity']\n",
        "    head_label = row['head_label']\n",
        "    tail_label = row['tail_label']\n",
        "    \n",
        "    # Add edge\n",
        "    G.add_edge(head, tail, relation=relation)\n",
        "    \n",
        "    # Add label to head node if it doesn't already have one\n",
        "    if 'label' not in G.nodes[head]:\n",
        "        G.nodes[head]['label'] = head_label\n",
        "    \n",
        "    # Add label to tail node if it doesn't already have one\n",
        "    if 'label' not in G.nodes[tail]:\n",
        "        G.nodes[tail]['label'] = tail_label"
      ],
      "metadata": {
        "id": "usTCHtVZN2IP"
      },
      "execution_count": null,
      "outputs": []
    },
    {
      "cell_type": "markdown",
      "source": [
        "- `predicted_drugs.txt` contains list of predicted drug from ML Model\n",
        "- `DEGs_AD.txt` contains list of differentially expressed genes from Alzhemiers brain tissue vs control"
      ],
      "metadata": {
        "id": "DMP_TZHfO_NS"
      }
    },
    {
      "cell_type": "code",
      "source": [
        "with open(fp+'predicted_drugs.txt') as f:\n",
        "    drugs = [line.strip() for line in f.readlines()]\n",
        "\n",
        "with open(fp+'DEGs_AD.txt') as f:\n",
        "    genes = [line.strip() for line in f.readlines()]\n",
        "\n",
        "disease = [\"MESH:D000544\"] # Id for Alzheimer's Disease"
      ],
      "metadata": {
        "id": "RULzXpghPbBP"
      },
      "execution_count": null,
      "outputs": []
    },
    {
      "cell_type": "code",
      "source": [
        "len(genes)"
      ],
      "metadata": {
        "colab": {
          "base_uri": "https://localhost:8080/"
        },
        "id": "bRYTkrG2dh3I",
        "outputId": "096f7e6f-a2b0-43f5-cfd7-b1dd3f3a6503"
      },
      "execution_count": null,
      "outputs": [
        {
          "output_type": "execute_result",
          "data": {
            "text/plain": [
              "529"
            ]
          },
          "metadata": {},
          "execution_count": 5
        }
      ]
    },
    {
      "cell_type": "markdown",
      "source": [
        "There are 529 DEGs from the AD vs control analysis. Let's check how many are present in the knowledge graph"
      ],
      "metadata": {
        "id": "ToPjuQGYHfFl"
      }
    },
    {
      "cell_type": "code",
      "source": [
        "degs_in_kg = [gene for gene in genes if gene in G.nodes()]\n",
        "len(degs_in_kg)"
      ],
      "metadata": {
        "colab": {
          "base_uri": "https://localhost:8080/"
        },
        "id": "Fuqv47fPdUbQ",
        "outputId": "05bce59f-c7d5-4f28-97fa-69d9fc59021c"
      },
      "execution_count": null,
      "outputs": [
        {
          "output_type": "execute_result",
          "data": {
            "text/plain": [
              "497"
            ]
          },
          "metadata": {},
          "execution_count": 6
        }
      ]
    },
    {
      "cell_type": "markdown",
      "source": [
        "- 32 DEGs were not present in the graph\n",
        "- Next, is to create a subgraph (subnetwork) consisting of AD node, the top predicted drugs, and the degs_in_kg"
      ],
      "metadata": {
        "id": "UFaIxZA1IL-H"
      }
    },
    {
      "cell_type": "code",
      "source": [
        "subgraph_nodes = drugs + degs_in_kg + disease"
      ],
      "metadata": {
        "id": "tGbFepLhIBHG"
      },
      "execution_count": null,
      "outputs": []
    },
    {
      "cell_type": "markdown",
      "source": [
        "Include one hop neighbour of drugs nodes to subgraph. This is to ensure the subgraph has enough full connections. I could do 2 hop neighbours or include neigbours of degs_in_kg but it will become computationaly expensive. This study is for demonstration purpose and not a comprehensive study"
      ],
      "metadata": {
        "id": "HPs-uqx8JA7O"
      }
    },
    {
      "cell_type": "code",
      "source": [
        "#for drug in drugs:\n",
        "#    neighbors = list(nx.neighbors(G, drug))\n",
        "#    subgraph_nodes.extend(neighbors)\n",
        "\n",
        "# remove duplicates\n",
        "#subgraph_nodes = list(set(subgraph_nodes))"
      ],
      "metadata": {
        "id": "R3WQ8yIxadWT"
      },
      "execution_count": null,
      "outputs": []
    },
    {
      "cell_type": "code",
      "source": [
        "len(subgraph_nodes)"
      ],
      "metadata": {
        "id": "qoqDZxHxKCDi"
      },
      "execution_count": null,
      "outputs": []
    },
    {
      "cell_type": "markdown",
      "source": [
        "### Subgraph"
      ],
      "metadata": {
        "id": "ugwyfNEBRQFX"
      }
    },
    {
      "cell_type": "code",
      "source": [
        "subgraph = G.subgraph(subgraph_nodes)"
      ],
      "metadata": {
        "id": "Yx1j1OcYRPYI"
      },
      "execution_count": null,
      "outputs": []
    },
    {
      "cell_type": "markdown",
      "source": [
        "### Closeness Centrality\n",
        "\n",
        "Closeness centrality is a measure of how \"close\" or \"central\" a node is in a network. It is calculated as the reciprocal of the average shortest path distance from a node to all other nodes in the network.\n",
        "\n",
        "Closeness centrality of a node u is the reciprocal of the average shortest path distance to u over all n-1 reachable nodes.\n",
        "\n",
        "$$\n",
        "C(u) = \\frac{n - 1}{\\sum_{v=1}^{n-1} d(v, u)}\n",
        "$$\n",
        "\n",
        "\n",
        " \n",
        "where d(v, u) is the shortest-path distance between v and u, and n-1 is the number of nodes reachable from u.\n",
        "\n",
        "Generally, a higher closeness centrality value indicates that a node is closer, in terms of average shortest path distance, to all other nodes in the network. This can imply that the node has better access or influence over information or resources in the network. And have more influence over other nodes in the network, as they can potentially reach them more quickly and influence their decision-making.\n",
        "\n",
        "\n",
        "\n"
      ],
      "metadata": {
        "id": "AtPNbvsJh2mC"
      }
    },
    {
      "cell_type": "code",
      "source": [
        "res = nx.closeness_centrality(subgraph)\n",
        "\n",
        "df = pd.DataFrame(list(res.items()), columns=[\"Drug\", \"Closeness Centrality\"])\n",
        "df = df[(df.Drug.isin(drugs))]\n",
        "\n",
        "# Sort values in descending order\n",
        "df.sort_values(by=\"Closeness Centrality\", ascending=False, inplace=True)\n",
        "df.reset_index(drop=True, inplace=True)\n",
        "\n",
        "df.head()"
      ],
      "metadata": {
        "id": "Ga-Zk4G5sBcg",
        "colab": {
          "base_uri": "https://localhost:8080/",
          "height": 206
        },
        "outputId": "81827eb0-0752-4b6a-d59d-c287bf035c34"
      },
      "execution_count": null,
      "outputs": [
        {
          "output_type": "execute_result",
          "data": {
            "text/plain": [
              "        Drug  Closeness Centrality\n",
              "0  5300-03-8              0.003407\n",
              "1  4759-48-2              0.003407\n",
              "2   302-79-4              0.003407\n",
              "3    50-02-2              0.001704\n",
              "4   378-44-9              0.001704"
            ],
            "text/html": [
              "\n",
              "  <div id=\"df-ae50be55-a7c4-4b12-be59-a260e57f8709\">\n",
              "    <div class=\"colab-df-container\">\n",
              "      <div>\n",
              "<style scoped>\n",
              "    .dataframe tbody tr th:only-of-type {\n",
              "        vertical-align: middle;\n",
              "    }\n",
              "\n",
              "    .dataframe tbody tr th {\n",
              "        vertical-align: top;\n",
              "    }\n",
              "\n",
              "    .dataframe thead th {\n",
              "        text-align: right;\n",
              "    }\n",
              "</style>\n",
              "<table border=\"1\" class=\"dataframe\">\n",
              "  <thead>\n",
              "    <tr style=\"text-align: right;\">\n",
              "      <th></th>\n",
              "      <th>Drug</th>\n",
              "      <th>Closeness Centrality</th>\n",
              "    </tr>\n",
              "  </thead>\n",
              "  <tbody>\n",
              "    <tr>\n",
              "      <th>0</th>\n",
              "      <td>5300-03-8</td>\n",
              "      <td>0.003407</td>\n",
              "    </tr>\n",
              "    <tr>\n",
              "      <th>1</th>\n",
              "      <td>4759-48-2</td>\n",
              "      <td>0.003407</td>\n",
              "    </tr>\n",
              "    <tr>\n",
              "      <th>2</th>\n",
              "      <td>302-79-4</td>\n",
              "      <td>0.003407</td>\n",
              "    </tr>\n",
              "    <tr>\n",
              "      <th>3</th>\n",
              "      <td>50-02-2</td>\n",
              "      <td>0.001704</td>\n",
              "    </tr>\n",
              "    <tr>\n",
              "      <th>4</th>\n",
              "      <td>378-44-9</td>\n",
              "      <td>0.001704</td>\n",
              "    </tr>\n",
              "  </tbody>\n",
              "</table>\n",
              "</div>\n",
              "      <button class=\"colab-df-convert\" onclick=\"convertToInteractive('df-ae50be55-a7c4-4b12-be59-a260e57f8709')\"\n",
              "              title=\"Convert this dataframe to an interactive table.\"\n",
              "              style=\"display:none;\">\n",
              "        \n",
              "  <svg xmlns=\"http://www.w3.org/2000/svg\" height=\"24px\"viewBox=\"0 0 24 24\"\n",
              "       width=\"24px\">\n",
              "    <path d=\"M0 0h24v24H0V0z\" fill=\"none\"/>\n",
              "    <path d=\"M18.56 5.44l.94 2.06.94-2.06 2.06-.94-2.06-.94-.94-2.06-.94 2.06-2.06.94zm-11 1L8.5 8.5l.94-2.06 2.06-.94-2.06-.94L8.5 2.5l-.94 2.06-2.06.94zm10 10l.94 2.06.94-2.06 2.06-.94-2.06-.94-.94-2.06-.94 2.06-2.06.94z\"/><path d=\"M17.41 7.96l-1.37-1.37c-.4-.4-.92-.59-1.43-.59-.52 0-1.04.2-1.43.59L10.3 9.45l-7.72 7.72c-.78.78-.78 2.05 0 2.83L4 21.41c.39.39.9.59 1.41.59.51 0 1.02-.2 1.41-.59l7.78-7.78 2.81-2.81c.8-.78.8-2.07 0-2.86zM5.41 20L4 18.59l7.72-7.72 1.47 1.35L5.41 20z\"/>\n",
              "  </svg>\n",
              "      </button>\n",
              "      \n",
              "  <style>\n",
              "    .colab-df-container {\n",
              "      display:flex;\n",
              "      flex-wrap:wrap;\n",
              "      gap: 12px;\n",
              "    }\n",
              "\n",
              "    .colab-df-convert {\n",
              "      background-color: #E8F0FE;\n",
              "      border: none;\n",
              "      border-radius: 50%;\n",
              "      cursor: pointer;\n",
              "      display: none;\n",
              "      fill: #1967D2;\n",
              "      height: 32px;\n",
              "      padding: 0 0 0 0;\n",
              "      width: 32px;\n",
              "    }\n",
              "\n",
              "    .colab-df-convert:hover {\n",
              "      background-color: #E2EBFA;\n",
              "      box-shadow: 0px 1px 2px rgba(60, 64, 67, 0.3), 0px 1px 3px 1px rgba(60, 64, 67, 0.15);\n",
              "      fill: #174EA6;\n",
              "    }\n",
              "\n",
              "    [theme=dark] .colab-df-convert {\n",
              "      background-color: #3B4455;\n",
              "      fill: #D2E3FC;\n",
              "    }\n",
              "\n",
              "    [theme=dark] .colab-df-convert:hover {\n",
              "      background-color: #434B5C;\n",
              "      box-shadow: 0px 1px 3px 1px rgba(0, 0, 0, 0.15);\n",
              "      filter: drop-shadow(0px 1px 2px rgba(0, 0, 0, 0.3));\n",
              "      fill: #FFFFFF;\n",
              "    }\n",
              "  </style>\n",
              "\n",
              "      <script>\n",
              "        const buttonEl =\n",
              "          document.querySelector('#df-ae50be55-a7c4-4b12-be59-a260e57f8709 button.colab-df-convert');\n",
              "        buttonEl.style.display =\n",
              "          google.colab.kernel.accessAllowed ? 'block' : 'none';\n",
              "\n",
              "        async function convertToInteractive(key) {\n",
              "          const element = document.querySelector('#df-ae50be55-a7c4-4b12-be59-a260e57f8709');\n",
              "          const dataTable =\n",
              "            await google.colab.kernel.invokeFunction('convertToInteractive',\n",
              "                                                     [key], {});\n",
              "          if (!dataTable) return;\n",
              "\n",
              "          const docLinkHtml = 'Like what you see? Visit the ' +\n",
              "            '<a target=\"_blank\" href=https://colab.research.google.com/notebooks/data_table.ipynb>data table notebook</a>'\n",
              "            + ' to learn more about interactive tables.';\n",
              "          element.innerHTML = '';\n",
              "          dataTable['output_type'] = 'display_data';\n",
              "          await google.colab.output.renderOutput(dataTable, element);\n",
              "          const docLink = document.createElement('div');\n",
              "          docLink.innerHTML = docLinkHtml;\n",
              "          element.appendChild(docLink);\n",
              "        }\n",
              "      </script>\n",
              "    </div>\n",
              "  </div>\n",
              "  "
            ]
          },
          "metadata": {},
          "execution_count": 9
        }
      ]
    },
    {
      "cell_type": "markdown",
      "source": [
        "Selected top 20 candidates as final result"
      ],
      "metadata": {
        "id": "ZpxzAmtgL5ZU"
      }
    },
    {
      "cell_type": "code",
      "source": [
        "df1 = df.head(20)"
      ],
      "metadata": {
        "id": "M9d5TNQc-jEt"
      },
      "execution_count": null,
      "outputs": []
    },
    {
      "cell_type": "code",
      "source": [
        "drug_info = pd.read_csv(fp+\"drugs_TTD.csv\")\n",
        "drug_info.head()"
      ],
      "metadata": {
        "id": "LRg5j0GfL4NA"
      },
      "execution_count": null,
      "outputs": []
    },
    {
      "cell_type": "code",
      "source": [
        "drugs_pred = drug_info[(drug_info.cas_rn.isin(df1.Drug))]\n",
        "drugs_pred = drugs_pred[[\"drug_name\", \"status\",\"cas_rn\", \"smiles\"]].reset_index(drop=True)\n",
        "drugs_pred"
      ],
      "metadata": {
        "colab": {
          "base_uri": "https://localhost:8080/",
          "height": 677
        },
        "id": "L6TSWhG2MOs_",
        "outputId": "12a9a0de-81cc-41e7-dc65-6a9440aee3bc"
      },
      "execution_count": null,
      "outputs": [
        {
          "output_type": "execute_result",
          "data": {
            "text/plain": [
              "                               drug_name    status       cas_rn  \\\n",
              "0                              Triclosan  Approved    3380-34-5   \n",
              "1                           Isotretinoin  Approved    4759-48-2   \n",
              "2                              Tretinoin  Approved     302-79-4   \n",
              "3                              Doxazosin  Approved   74191-85-8   \n",
              "4                           Pioglitazone  Approved  111025-46-8   \n",
              "5                          Dexamethasone  Approved      50-02-2   \n",
              "6                            Niclosamide  Approved      50-65-7   \n",
              "7                            Hydralazine  Approved      86-54-4   \n",
              "8                         Hydrocortisone  Approved      50-23-7   \n",
              "9                            Cabergoline  Approved   81409-90-7   \n",
              "10                             Vitamin A  Approved   11103-57-4   \n",
              "11                           Thalidomide  Approved      50-35-1   \n",
              "12                           Doxorubicin  Approved   23214-92-8   \n",
              "13                            Decitabine  Approved    2353-33-5   \n",
              "14                            Nefazodone  Approved   83366-66-9   \n",
              "15                             Flutamide  Approved   13311-84-7   \n",
              "16                            Lucanthone  Approved     479-50-5   \n",
              "17                         Betamethasone  Approved     378-44-9   \n",
              "18                          Alitretinoin  Approved    5300-03-8   \n",
              "19  Brilliant Blue G Ophthalmic Solution  Approved    6104-58-1   \n",
              "\n",
              "                                               smiles  \n",
              "0              C1=CC(=C(C=C1Cl)O)OC2=C(C=C(C=C2)Cl)Cl  \n",
              "1          CC1=C(C(CCC1)(C)C)C=CC(=CC=CC(=CC(=O)O)C)C  \n",
              "2          CC1=C(C(CCC1)(C)C)C=CC(=CC=CC(=CC(=O)O)C)C  \n",
              "3   COC1=C(C=C2C(=C1)C(=NC(=N2)N3CCN(CC3)C(=O)C4CO...  \n",
              "4     CCC1=CN=C(C=C1)CCOC2=CC=C(C=C2)CC3C(=O)NC(=O)S3  \n",
              "5   CC1CC2C3CCC4=CC(=O)C=CC4(C3(C(CC2(C1(C(=O)CO)O...  \n",
              "6   C1=CC(=C(C=C1[N+](=O)[O-])Cl)NC(=O)C2=C(C=CC(=...  \n",
              "7                             C1=CC=C2C(=C1)C=NN=C2NN  \n",
              "8     CC12CCC(=O)C=C1CCC3C2C(CC4(C3CCC4(C(=O)CO)O)C)O  \n",
              "9   CCNC(=O)N(CCCN(C)C)C(=O)C1CC2C(CC3=CNC4=CC=CC2...  \n",
              "10             CC1=C(C(CCC1)(C)C)C=CC(=CC=CC(=CCO)C)C  \n",
              "11             C1CC(=O)NC(=O)C1N2C(=O)C3=CC=CC=C3C2=O  \n",
              "12  CC1C(C(CC(O1)OC2CC(CC3=C2C(=C4C(=C3O)C(=O)C5=C...  \n",
              "13                      C1C(C(OC1N2C=NC(=NC2=O)N)CO)O  \n",
              "14  CCC1=NN(C(=O)N1CCOC2=CC=CC=C2)CCCN3CCN(CC3)C4=...  \n",
              "15     CC(C)C(=O)NC1=CC(=C(C=C1)[N+](=O)[O-])C(F)(F)F  \n",
              "16        CCN(CC)CCNC1=C2C(=C(C=C1)C)SC3=CC=CC=C3C2=O  \n",
              "17  CC1CC2C3CCC4=CC(=O)C=CC4(C3(C(CC2(C1(C(=O)CO)O...  \n",
              "18         CC1=C(C(CCC1)(C)C)C=CC(=CC=CC(=CC(=O)O)C)C  \n",
              "19  CCN(CC1=CC(=CC=C1)S(=O)(=O)[O-])C2=CC(=C(C=C2)...  "
            ],
            "text/html": [
              "\n",
              "  <div id=\"df-2e90c21b-fc51-4f64-9cb8-69f327b597b1\">\n",
              "    <div class=\"colab-df-container\">\n",
              "      <div>\n",
              "<style scoped>\n",
              "    .dataframe tbody tr th:only-of-type {\n",
              "        vertical-align: middle;\n",
              "    }\n",
              "\n",
              "    .dataframe tbody tr th {\n",
              "        vertical-align: top;\n",
              "    }\n",
              "\n",
              "    .dataframe thead th {\n",
              "        text-align: right;\n",
              "    }\n",
              "</style>\n",
              "<table border=\"1\" class=\"dataframe\">\n",
              "  <thead>\n",
              "    <tr style=\"text-align: right;\">\n",
              "      <th></th>\n",
              "      <th>drug_name</th>\n",
              "      <th>status</th>\n",
              "      <th>cas_rn</th>\n",
              "      <th>smiles</th>\n",
              "    </tr>\n",
              "  </thead>\n",
              "  <tbody>\n",
              "    <tr>\n",
              "      <th>0</th>\n",
              "      <td>Triclosan</td>\n",
              "      <td>Approved</td>\n",
              "      <td>3380-34-5</td>\n",
              "      <td>C1=CC(=C(C=C1Cl)O)OC2=C(C=C(C=C2)Cl)Cl</td>\n",
              "    </tr>\n",
              "    <tr>\n",
              "      <th>1</th>\n",
              "      <td>Isotretinoin</td>\n",
              "      <td>Approved</td>\n",
              "      <td>4759-48-2</td>\n",
              "      <td>CC1=C(C(CCC1)(C)C)C=CC(=CC=CC(=CC(=O)O)C)C</td>\n",
              "    </tr>\n",
              "    <tr>\n",
              "      <th>2</th>\n",
              "      <td>Tretinoin</td>\n",
              "      <td>Approved</td>\n",
              "      <td>302-79-4</td>\n",
              "      <td>CC1=C(C(CCC1)(C)C)C=CC(=CC=CC(=CC(=O)O)C)C</td>\n",
              "    </tr>\n",
              "    <tr>\n",
              "      <th>3</th>\n",
              "      <td>Doxazosin</td>\n",
              "      <td>Approved</td>\n",
              "      <td>74191-85-8</td>\n",
              "      <td>COC1=C(C=C2C(=C1)C(=NC(=N2)N3CCN(CC3)C(=O)C4CO...</td>\n",
              "    </tr>\n",
              "    <tr>\n",
              "      <th>4</th>\n",
              "      <td>Pioglitazone</td>\n",
              "      <td>Approved</td>\n",
              "      <td>111025-46-8</td>\n",
              "      <td>CCC1=CN=C(C=C1)CCOC2=CC=C(C=C2)CC3C(=O)NC(=O)S3</td>\n",
              "    </tr>\n",
              "    <tr>\n",
              "      <th>5</th>\n",
              "      <td>Dexamethasone</td>\n",
              "      <td>Approved</td>\n",
              "      <td>50-02-2</td>\n",
              "      <td>CC1CC2C3CCC4=CC(=O)C=CC4(C3(C(CC2(C1(C(=O)CO)O...</td>\n",
              "    </tr>\n",
              "    <tr>\n",
              "      <th>6</th>\n",
              "      <td>Niclosamide</td>\n",
              "      <td>Approved</td>\n",
              "      <td>50-65-7</td>\n",
              "      <td>C1=CC(=C(C=C1[N+](=O)[O-])Cl)NC(=O)C2=C(C=CC(=...</td>\n",
              "    </tr>\n",
              "    <tr>\n",
              "      <th>7</th>\n",
              "      <td>Hydralazine</td>\n",
              "      <td>Approved</td>\n",
              "      <td>86-54-4</td>\n",
              "      <td>C1=CC=C2C(=C1)C=NN=C2NN</td>\n",
              "    </tr>\n",
              "    <tr>\n",
              "      <th>8</th>\n",
              "      <td>Hydrocortisone</td>\n",
              "      <td>Approved</td>\n",
              "      <td>50-23-7</td>\n",
              "      <td>CC12CCC(=O)C=C1CCC3C2C(CC4(C3CCC4(C(=O)CO)O)C)O</td>\n",
              "    </tr>\n",
              "    <tr>\n",
              "      <th>9</th>\n",
              "      <td>Cabergoline</td>\n",
              "      <td>Approved</td>\n",
              "      <td>81409-90-7</td>\n",
              "      <td>CCNC(=O)N(CCCN(C)C)C(=O)C1CC2C(CC3=CNC4=CC=CC2...</td>\n",
              "    </tr>\n",
              "    <tr>\n",
              "      <th>10</th>\n",
              "      <td>Vitamin A</td>\n",
              "      <td>Approved</td>\n",
              "      <td>11103-57-4</td>\n",
              "      <td>CC1=C(C(CCC1)(C)C)C=CC(=CC=CC(=CCO)C)C</td>\n",
              "    </tr>\n",
              "    <tr>\n",
              "      <th>11</th>\n",
              "      <td>Thalidomide</td>\n",
              "      <td>Approved</td>\n",
              "      <td>50-35-1</td>\n",
              "      <td>C1CC(=O)NC(=O)C1N2C(=O)C3=CC=CC=C3C2=O</td>\n",
              "    </tr>\n",
              "    <tr>\n",
              "      <th>12</th>\n",
              "      <td>Doxorubicin</td>\n",
              "      <td>Approved</td>\n",
              "      <td>23214-92-8</td>\n",
              "      <td>CC1C(C(CC(O1)OC2CC(CC3=C2C(=C4C(=C3O)C(=O)C5=C...</td>\n",
              "    </tr>\n",
              "    <tr>\n",
              "      <th>13</th>\n",
              "      <td>Decitabine</td>\n",
              "      <td>Approved</td>\n",
              "      <td>2353-33-5</td>\n",
              "      <td>C1C(C(OC1N2C=NC(=NC2=O)N)CO)O</td>\n",
              "    </tr>\n",
              "    <tr>\n",
              "      <th>14</th>\n",
              "      <td>Nefazodone</td>\n",
              "      <td>Approved</td>\n",
              "      <td>83366-66-9</td>\n",
              "      <td>CCC1=NN(C(=O)N1CCOC2=CC=CC=C2)CCCN3CCN(CC3)C4=...</td>\n",
              "    </tr>\n",
              "    <tr>\n",
              "      <th>15</th>\n",
              "      <td>Flutamide</td>\n",
              "      <td>Approved</td>\n",
              "      <td>13311-84-7</td>\n",
              "      <td>CC(C)C(=O)NC1=CC(=C(C=C1)[N+](=O)[O-])C(F)(F)F</td>\n",
              "    </tr>\n",
              "    <tr>\n",
              "      <th>16</th>\n",
              "      <td>Lucanthone</td>\n",
              "      <td>Approved</td>\n",
              "      <td>479-50-5</td>\n",
              "      <td>CCN(CC)CCNC1=C2C(=C(C=C1)C)SC3=CC=CC=C3C2=O</td>\n",
              "    </tr>\n",
              "    <tr>\n",
              "      <th>17</th>\n",
              "      <td>Betamethasone</td>\n",
              "      <td>Approved</td>\n",
              "      <td>378-44-9</td>\n",
              "      <td>CC1CC2C3CCC4=CC(=O)C=CC4(C3(C(CC2(C1(C(=O)CO)O...</td>\n",
              "    </tr>\n",
              "    <tr>\n",
              "      <th>18</th>\n",
              "      <td>Alitretinoin</td>\n",
              "      <td>Approved</td>\n",
              "      <td>5300-03-8</td>\n",
              "      <td>CC1=C(C(CCC1)(C)C)C=CC(=CC=CC(=CC(=O)O)C)C</td>\n",
              "    </tr>\n",
              "    <tr>\n",
              "      <th>19</th>\n",
              "      <td>Brilliant Blue G Ophthalmic Solution</td>\n",
              "      <td>Approved</td>\n",
              "      <td>6104-58-1</td>\n",
              "      <td>CCN(CC1=CC(=CC=C1)S(=O)(=O)[O-])C2=CC(=C(C=C2)...</td>\n",
              "    </tr>\n",
              "  </tbody>\n",
              "</table>\n",
              "</div>\n",
              "      <button class=\"colab-df-convert\" onclick=\"convertToInteractive('df-2e90c21b-fc51-4f64-9cb8-69f327b597b1')\"\n",
              "              title=\"Convert this dataframe to an interactive table.\"\n",
              "              style=\"display:none;\">\n",
              "        \n",
              "  <svg xmlns=\"http://www.w3.org/2000/svg\" height=\"24px\"viewBox=\"0 0 24 24\"\n",
              "       width=\"24px\">\n",
              "    <path d=\"M0 0h24v24H0V0z\" fill=\"none\"/>\n",
              "    <path d=\"M18.56 5.44l.94 2.06.94-2.06 2.06-.94-2.06-.94-.94-2.06-.94 2.06-2.06.94zm-11 1L8.5 8.5l.94-2.06 2.06-.94-2.06-.94L8.5 2.5l-.94 2.06-2.06.94zm10 10l.94 2.06.94-2.06 2.06-.94-2.06-.94-.94-2.06-.94 2.06-2.06.94z\"/><path d=\"M17.41 7.96l-1.37-1.37c-.4-.4-.92-.59-1.43-.59-.52 0-1.04.2-1.43.59L10.3 9.45l-7.72 7.72c-.78.78-.78 2.05 0 2.83L4 21.41c.39.39.9.59 1.41.59.51 0 1.02-.2 1.41-.59l7.78-7.78 2.81-2.81c.8-.78.8-2.07 0-2.86zM5.41 20L4 18.59l7.72-7.72 1.47 1.35L5.41 20z\"/>\n",
              "  </svg>\n",
              "      </button>\n",
              "      \n",
              "  <style>\n",
              "    .colab-df-container {\n",
              "      display:flex;\n",
              "      flex-wrap:wrap;\n",
              "      gap: 12px;\n",
              "    }\n",
              "\n",
              "    .colab-df-convert {\n",
              "      background-color: #E8F0FE;\n",
              "      border: none;\n",
              "      border-radius: 50%;\n",
              "      cursor: pointer;\n",
              "      display: none;\n",
              "      fill: #1967D2;\n",
              "      height: 32px;\n",
              "      padding: 0 0 0 0;\n",
              "      width: 32px;\n",
              "    }\n",
              "\n",
              "    .colab-df-convert:hover {\n",
              "      background-color: #E2EBFA;\n",
              "      box-shadow: 0px 1px 2px rgba(60, 64, 67, 0.3), 0px 1px 3px 1px rgba(60, 64, 67, 0.15);\n",
              "      fill: #174EA6;\n",
              "    }\n",
              "\n",
              "    [theme=dark] .colab-df-convert {\n",
              "      background-color: #3B4455;\n",
              "      fill: #D2E3FC;\n",
              "    }\n",
              "\n",
              "    [theme=dark] .colab-df-convert:hover {\n",
              "      background-color: #434B5C;\n",
              "      box-shadow: 0px 1px 3px 1px rgba(0, 0, 0, 0.15);\n",
              "      filter: drop-shadow(0px 1px 2px rgba(0, 0, 0, 0.3));\n",
              "      fill: #FFFFFF;\n",
              "    }\n",
              "  </style>\n",
              "\n",
              "      <script>\n",
              "        const buttonEl =\n",
              "          document.querySelector('#df-2e90c21b-fc51-4f64-9cb8-69f327b597b1 button.colab-df-convert');\n",
              "        buttonEl.style.display =\n",
              "          google.colab.kernel.accessAllowed ? 'block' : 'none';\n",
              "\n",
              "        async function convertToInteractive(key) {\n",
              "          const element = document.querySelector('#df-2e90c21b-fc51-4f64-9cb8-69f327b597b1');\n",
              "          const dataTable =\n",
              "            await google.colab.kernel.invokeFunction('convertToInteractive',\n",
              "                                                     [key], {});\n",
              "          if (!dataTable) return;\n",
              "\n",
              "          const docLinkHtml = 'Like what you see? Visit the ' +\n",
              "            '<a target=\"_blank\" href=https://colab.research.google.com/notebooks/data_table.ipynb>data table notebook</a>'\n",
              "            + ' to learn more about interactive tables.';\n",
              "          element.innerHTML = '';\n",
              "          dataTable['output_type'] = 'display_data';\n",
              "          await google.colab.output.renderOutput(dataTable, element);\n",
              "          const docLink = document.createElement('div');\n",
              "          docLink.innerHTML = docLinkHtml;\n",
              "          element.appendChild(docLink);\n",
              "        }\n",
              "      </script>\n",
              "    </div>\n",
              "  </div>\n",
              "  "
            ]
          },
          "metadata": {},
          "execution_count": 13
        }
      ]
    },
    {
      "cell_type": "markdown",
      "source": [
        "Save predicted drugs to file. Next is to validate drug categories from literatures"
      ],
      "metadata": {
        "id": "USNcZ5GsN-mD"
      }
    },
    {
      "cell_type": "code",
      "source": [
        "drugs_pred.to_csv(fp+\"pred_drugs_top20.csv\", index = False)"
      ],
      "metadata": {
        "id": "q0yv-JojNtiA"
      },
      "execution_count": null,
      "outputs": []
    },
    {
      "cell_type": "markdown",
      "source": [
        "Write subgraph to file; to be visualised on cytoscape"
      ],
      "metadata": {
        "id": "YPHj-bgSOPx8"
      }
    },
    {
      "cell_type": "code",
      "source": [
        "import csv\n",
        "\n",
        "subgraph_edges = subgraph.edges(data=True)\n",
        "\n",
        "# Open a CSV file for writing\n",
        "with open(fp+'subgraph.csv', 'w', newline='') as csvfile:\n",
        "    fieldnames = ['source', 'relation', 'target', 'head_label', 'tail_label']\n",
        "    writer = csv.DictWriter(csvfile, fieldnames=fieldnames)\n",
        "    writer.writeheader()\n",
        "\n",
        "    # Write each edge to the CSV file\n",
        "    for edge in subgraph_edges:\n",
        "        source = edge[0]\n",
        "        target = edge[1]\n",
        "        relation = edge[2]['relation']\n",
        "        head_label = subgraph.nodes[source]['label']\n",
        "        tail_label = subgraph.nodes[target]['label']\n",
        "        writer.writerow({'source': source, 'relation': relation, 'target': target, 'head_label': head_label, 'tail_label': tail_label})\n",
        "\n",
        "print(\"Subgraph has been saved as subgraph.csv\")\n"
      ],
      "metadata": {
        "colab": {
          "base_uri": "https://localhost:8080/"
        },
        "id": "AgJF55f9gPci",
        "outputId": "29f6c613-186c-4dee-abfa-e674539bed49"
      },
      "execution_count": null,
      "outputs": [
        {
          "output_type": "stream",
          "name": "stdout",
          "text": [
            "Subgraph has been saved as subgraph.csv\n"
          ]
        }
      ]
    },
    {
      "cell_type": "markdown",
      "source": [
        "### Add current indication of pred_drugs"
      ],
      "metadata": {
        "id": "f9_0bxi_OfNZ"
      }
    },
    {
      "cell_type": "code",
      "source": [
        "drug_indication = pd.read_csv(\"/content/drive/MyDrive/Project/data/drug_indication.csv\")\n",
        "drug_indication = drug_indication[drug_indication.cas_rn.isin(drugs_pred.cas_rn.values)]\n",
        "drug_indication"
      ],
      "metadata": {
        "id": "v0_Xbzdqg0qh"
      },
      "execution_count": null,
      "outputs": []
    },
    {
      "cell_type": "code",
      "source": [
        "cas2dx = {row[3]:row[1] for _,row in drug_indication.iterrows()}"
      ],
      "metadata": {
        "id": "XJIFfISficZ2"
      },
      "execution_count": null,
      "outputs": []
    },
    {
      "cell_type": "code",
      "source": [
        "drugs_pred[\"Indication\"] = drugs_pred.cas_rn.map(cas2dx)\n",
        "drugs_pred"
      ],
      "metadata": {
        "id": "0sI59YNXi7gi"
      },
      "execution_count": null,
      "outputs": []
    },
    {
      "cell_type": "code",
      "source": [
        "drugs_pred.to_excel(fp+'predicted_drugs.xlsx', index=False)"
      ],
      "metadata": {
        "id": "dXWR7aY3lWMy"
      },
      "execution_count": null,
      "outputs": []
    },
    {
      "cell_type": "markdown",
      "source": [
        "# Thank You"
      ],
      "metadata": {
        "id": "uN59_enrmJBl"
      }
    },
    {
      "cell_type": "code",
      "source": [],
      "metadata": {
        "id": "zdzXM4kFmKzv"
      },
      "execution_count": null,
      "outputs": []
    }
  ]
}